{
 "cells": [
  {
   "cell_type": "code",
   "execution_count": 1,
   "metadata": {
    "collapsed": false
   },
   "outputs": [],
   "source": [
    "import matplotlib.pyplot as plt\n",
    "import matplotlib.patches as patches\n",
    "import numpy as np\n",
    "import glm_model as gm\n",
    "from glm_utils import *\n",
    "import tensorflow as tf\n",
    "\n",
    "%load_ext autoreload\n",
    "%autoreload 2\n",
    "%matplotlib inline"
   ]
  },
  {
   "cell_type": "code",
   "execution_count": 2,
   "metadata": {
    "collapsed": false
   },
   "outputs": [],
   "source": [
    "#finally get rid of the ugly ass allen code. We import the pickled design \n",
    "#matrix stimulus, which is PCA projection of the images, and the downsampled\n",
    "#traces. \n",
    "\n",
    "import pickle\n",
    "\n",
    "pkl_file = open('./boc/formatted/LMcelldata')\n",
    "data = pickle.load(pkl_file)\n",
    "pkl_file.close()\n",
    "\n",
    "pkl_file = open('./boc/formatted/LMstimdata')\n",
    "stim = pickle.load(pkl_file)\n",
    "pkl_file.close()"
   ]
  },
  {
   "cell_type": "code",
   "execution_count": 3,
   "metadata": {
    "collapsed": false
   },
   "outputs": [],
   "source": [
    "#get the number of features, and the number of training examples. \n",
    "l, n =  stim.shape"
   ]
  },
  {
   "cell_type": "code",
   "execution_count": 16,
   "metadata": {
    "collapsed": false
   },
   "outputs": [
    {
     "name": "stderr",
     "output_type": "stream",
     "text": [
      "0%                 100%\n",
      "[                     ]"
     ]
    },
    {
     "name": "stdout",
     "output_type": "stream",
     "text": [
      "testing non-linearity:  relu ... testing  5  pc's...\n",
      "new best model for cell  517442753 . r2 test:  -0.0441007965301\n",
      "new best model for cell  517444738 . r2 test:  -0.00582692522765\n",
      "new best model for cell  517443331 . r2 test:  0.0462302901453\n",
      "new best model for cell  517442436 . r2 test:  0.0135116897042\n",
      "new best model for cell  517445575 . r2 test:  0.0198250235879\n",
      "new best model for cell  517444426 . r2 test:  -0.0266025339989\n",
      "new best model for cell  517442471 . r2 test:  -0.00215595571986\n",
      "new best model for cell  517443181 . r2 test:  0.0488096711097\n",
      "new best model for cell  517443087 . r2 test:  0.0271518942021\n",
      "new best model for cell  517446833 . r2 test:  0.0165817674112\n",
      "new best model for cell  517443827 . r2 test:  -0.00112441996116\n",
      "new best model for cell  517443924 . r2 test:  -0.00977146658756\n",
      "new best model for cell  517443957 . r2 test:  -0.0136677861697\n",
      "new best model for cell  517442722 . r2 test:  -0.0133505466714\n",
      "new best model for cell  517446488 . r2 test:  -0.0234265832295\n",
      "new best model for cell  517442675 . r2 test:  -0.0307554385306\n",
      "new best model for cell  517446554 . r2 test:  -0.0483174669376\n",
      "new best model for cell  517444175 . r2 test:  0.00639251200085\n",
      "new best model for cell  517443484 . r2 test:  0.0279625861353\n",
      "new best model for cell  517447069 . r2 test:  0.055200301865\n",
      "new best model for cell  517443571 . r2 test:  -0.0174930917828\n",
      "testing non-linearity:  relu ... testing  10  pc's...\n"
     ]
    },
    {
     "name": "stderr",
     "output_type": "stream",
     "text": [
      "[#                    ] | ETA: 03:20:18"
     ]
    },
    {
     "name": "stdout",
     "output_type": "stream",
     "text": [
      "new best model for cell  517442753 . r2 test:  -0.014687618978\n",
      "new best model for cell  517444738 . r2 test:  0.00298468283524\n",
      "new best model for cell  517444426 . r2 test:  -0.0101529963895\n",
      "new best model for cell  517442471 . r2 test:  0.0224928116491\n",
      "new best model for cell  517443827 . r2 test:  0.0172765943257\n",
      "new best model for cell  517443924 . r2 test:  0.0307861865481\n",
      "new best model for cell  517442722 . r2 test:  0.0240453494707\n",
      "new best model for cell  517446488 . r2 test:  -0.0122962237381\n",
      "new best model for cell  517442675 . r2 test:  0.0131410710983\n",
      "new best model for cell  517446554 . r2 test:  -0.0148506668881\n",
      "new best model for cell  517443571 . r2 test:  -0.00805290122262\n",
      "testing non-linearity:  relu ... testing  15  pc's...\n"
     ]
    },
    {
     "name": "stderr",
     "output_type": "stream",
     "text": [
      "[###                  ] | ETA: 04:25:05"
     ]
    },
    {
     "name": "stdout",
     "output_type": "stream",
     "text": [
      "new best model for cell  517442753 . r2 test:  0.0110761633589\n",
      "new best model for cell  517442436 . r2 test:  0.0262181499053\n",
      "new best model for cell  517444426 . r2 test:  0.0294594216374\n",
      "new best model for cell  517443957 . r2 test:  -0.0106420545805\n",
      "new best model for cell  517446488 . r2 test:  0.0206913195531\n",
      "new best model for cell  517442675 . r2 test:  0.0185528726611\n",
      "new best model for cell  517446554 . r2 test:  0.0111297120631\n",
      "new best model for cell  517444175 . r2 test:  0.014485525932\n",
      "testing non-linearity:  relu ... testing  20  pc's...\n"
     ]
    },
    {
     "name": "stderr",
     "output_type": "stream",
     "text": [
      "[####                 ] | ETA: 04:41:00"
     ]
    },
    {
     "name": "stdout",
     "output_type": "stream",
     "text": [
      "new best model for cell  517442436 . r2 test:  0.0517142891225\n",
      "new best model for cell  517443924 . r2 test:  0.0362918226157\n",
      "new best model for cell  517444175 . r2 test:  0.0811019481488\n",
      "new best model for cell  517443571 . r2 test:  0.0240796725526\n",
      "testing non-linearity:  relu ... testing  25  pc's...\n"
     ]
    },
    {
     "name": "stderr",
     "output_type": "stream",
     "text": [
      "[#####                ] | ETA: 04:47:25"
     ]
    },
    {
     "name": "stdout",
     "output_type": "stream",
     "text": [
      "new best model for cell  517445575 . r2 test:  0.0241947330815\n",
      "new best model for cell  517443181 . r2 test:  0.069605206877\n",
      "new best model for cell  517443087 . r2 test:  0.0275803917316\n",
      "new best model for cell  517443957 . r2 test:  0.0271097155996\n",
      "new best model for cell  517442675 . r2 test:  0.0463397003215\n",
      "testing non-linearity:  relu ... testing  30  pc's...\n",
      "new best model for cell  517444738 . r2 test:  0.0122756273658\n",
      "new best model for cell  517442471 . r2 test:  0.0251661706753\n",
      "new best model for cell  517446833 . r2 test:  0.0419551481712\n",
      "new best model for cell  517443827 . r2 test:  0.0397825134113\n",
      "new best model for cell  517446488 . r2 test:  0.033188222925\n",
      "new best model for cell  517446554 . r2 test:  0.0446416465242\n",
      "new best model for cell  517443484 . r2 test:  0.0280470840745\n",
      "new best model for cell  517443571 . r2 test:  0.0344116952972\n",
      "testing non-linearity:  relu ... testing  35  pc's...\n"
     ]
    },
    {
     "name": "stderr",
     "output_type": "stream",
     "text": [
      "[######               ] | ETA: 04:47:54"
     ]
    },
    {
     "name": "stdout",
     "output_type": "stream",
     "text": [
      "new best model for cell  517443924 . r2 test:  0.040049301592\n",
      "new best model for cell  517443957 . r2 test:  0.0387352957185\n",
      "new best model for cell  517446488 . r2 test:  0.0579163981757\n",
      "testing non-linearity:  relu ... testing  40  pc's...\n"
     ]
    },
    {
     "name": "stderr",
     "output_type": "stream",
     "text": [
      "[########             ] | ETA: 04:44:47"
     ]
    },
    {
     "name": "stdout",
     "output_type": "stream",
     "text": [
      "new best model for cell  517444426 . r2 test:  0.0428223377793\n",
      "new best model for cell  517442471 . r2 test:  0.0391997115937\n",
      "new best model for cell  517443087 . r2 test:  0.0315093485899\n",
      "new best model for cell  517442722 . r2 test:  0.0545416901957\n",
      "testing non-linearity:  relu ... testing  45  pc's...\n"
     ]
    },
    {
     "name": "stderr",
     "output_type": "stream",
     "text": [
      "[#########            ] | ETA: 06:57:53"
     ]
    },
    {
     "name": "stdout",
     "output_type": "stream",
     "text": [
      "testing non-linearity:  relu ... testing  50  pc's...\n"
     ]
    },
    {
     "name": "stderr",
     "output_type": "stream",
     "text": [
      "[##########           ] | ETA: 07:24:11"
     ]
    },
    {
     "name": "stdout",
     "output_type": "stream",
     "text": [
      "new best model for cell  517444738 . r2 test:  0.0211822648176\n",
      "new best model for cell  517443331 . r2 test:  0.0624490048103\n",
      "new best model for cell  517446554 . r2 test:  0.0459100388337\n",
      "new best model for cell  517443484 . r2 test:  0.0546012211429\n",
      "testing non-linearity:  relu ... testing  55  pc's...\n",
      "new best model for cell  517443331 . r2 test:  0.0894972953496\n",
      "new best model for cell  517443571 . r2 test:  0.0562048971506\n",
      "testing non-linearity:  relu ... testing  60  pc's...\n"
     ]
    },
    {
     "name": "stderr",
     "output_type": "stream",
     "text": [
      "[###########          ] | ETA: 05:54:13"
     ]
    },
    {
     "name": "stdout",
     "output_type": "stream",
     "text": [
      "new best model for cell  517442753 . r2 test:  0.0228582075903\n",
      "new best model for cell  517444426 . r2 test:  0.0468677481421\n",
      "testing non-linearity:  relu ... testing  65  pc's...\n"
     ]
    },
    {
     "name": "stderr",
     "output_type": "stream",
     "text": [
      "[############         ] | ETA: 05:13:47"
     ]
    },
    {
     "name": "stdout",
     "output_type": "stream",
     "text": [
      "new best model for cell  517443924 . r2 test:  0.0863338701812\n",
      "testing non-linearity:  relu ... testing  70  pc's...\n"
     ]
    },
    {
     "name": "stderr",
     "output_type": "stream",
     "text": [
      "[##############       ] | ETA: 04:33:40"
     ]
    },
    {
     "name": "stdout",
     "output_type": "stream",
     "text": [
      "new best model for cell  517445575 . r2 test:  0.0260262333733\n",
      "new best model for cell  517443827 . r2 test:  0.048404315935\n",
      "testing non-linearity:  relu ... testing  75  pc's...\n"
     ]
    },
    {
     "name": "stderr",
     "output_type": "stream",
     "text": [
      "[###############      ] | ETA: 03:54:12"
     ]
    },
    {
     "name": "stdout",
     "output_type": "stream",
     "text": [
      "new best model for cell  517442753 . r2 test:  0.071648552417\n",
      "new best model for cell  517443087 . r2 test:  0.0549297970257\n",
      "testing non-linearity:  relu ... testing  80  pc's...\n",
      "new best model for cell  517442675 . r2 test:  0.0734592713176\n",
      "testing non-linearity:  relu ... testing  85  pc's...\n"
     ]
    },
    {
     "name": "stderr",
     "output_type": "stream",
     "text": [
      "[################     ] | ETA: 02:37:21"
     ]
    },
    {
     "name": "stdout",
     "output_type": "stream",
     "text": [
      "testing non-linearity:  relu ... testing  90  pc's...\n"
     ]
    },
    {
     "name": "stderr",
     "output_type": "stream",
     "text": [
      "[#################    ] | ETA: 01:58:54"
     ]
    },
    {
     "name": "stdout",
     "output_type": "stream",
     "text": [
      "new best model for cell  517444738 . r2 test:  0.0222535641978\n",
      "new best model for cell  517442471 . r2 test:  0.0941530221541\n",
      "testing non-linearity:  relu ... testing  95  pc's...\n"
     ]
    },
    {
     "name": "stderr",
     "output_type": "stream",
     "text": [
      "[###################  ] | ETA: 01:19:58"
     ]
    },
    {
     "name": "stdout",
     "output_type": "stream",
     "text": [
      "testing non-linearity:  relu ... testing  100  pc's...\n"
     ]
    },
    {
     "name": "stderr",
     "output_type": "stream",
     "text": [
      "[#################### ] | ETA: 00:40:23"
     ]
    },
    {
     "name": "stdout",
     "output_type": "stream",
     "text": [
      "new best model for cell  517443827 . r2 test:  0.06210419927\n",
      "testing non-linearity:  relu ... testing  105  pc's...\n"
     ]
    },
    {
     "name": "stderr",
     "output_type": "stream",
     "text": [
      "[#####################] | ETA: 00:00:00\n",
      "Total time elapsed: 14:18:17\n"
     ]
    }
   ],
   "source": [
    "from statsmodels.tsa.tsatools import lagmat\n",
    "from sklearn.cross_validation import train_test_split\n",
    "from scipy.stats import linregress\n",
    "from itertools import product\n",
    "import pyprind\n",
    "\n",
    "import sys\n",
    "\n",
    "n_pcs = range(5, 110, 5)\n",
    "non_lin = [2]\n",
    "non_lin_dict = {1: \"sigmoid\", 2: \"relu\"}\n",
    "alpha = 0\n",
    "\n",
    "#empty dictionary\n",
    "best_model = {k: (-np.inf, None) for k in data.keys()}\n",
    "\n",
    "#make a dictionary of dictionaries to store the results\n",
    "scores_dict = {k: {} for k in data.keys()}\n",
    "\n",
    "bar = pyprind.ProgBar(len(n_pcs)*len(non_lin))\n",
    "\n",
    "for (l, n) in product(non_lin, n_pcs):\n",
    "    print \"testing non-linearity: \", non_lin_dict[l], \"... testing \", n, \" pc's...\"\n",
    "    sys.stdout.flush()\n",
    "    \n",
    "    #lagged_stim = lagmat(stim[:, 0:n], maxlag = nlag, trim = None)[1:-1]         \n",
    "    bar.update()\n",
    "    \n",
    "    for c in data.keys():\n",
    "        X_train, X_test, y_train, y_test = train_test_split(stim[:, 0:n], np.array(data[c])) \n",
    "        \n",
    "        #y_train[y_train < 0] = 0\n",
    "        #y_test[y_test < 0 ] = 0\n",
    "        \n",
    "        weight_init = np.linalg.pinv(X_train).dot(y_train)[:, np.newaxis]\n",
    "\n",
    "        if l == 1:\n",
    "            nonlin = tf.nn.sigmoid\n",
    "        if l == 2:\n",
    "            nonlin = tf.nn.relu\n",
    "        \n",
    "        model = gm.exponential_GLM(weight_init, non_lin = nonlin, verbose = False, lr = 1e-2)\n",
    "        cv, loss = model.fit(X_train, y_train[:, np.newaxis], X_test, y_test[:, np.newaxis], max_iters = 100)\n",
    "\n",
    "        w, o, s  = model.get_params()\n",
    "    \n",
    "        _, _, r2_test,_, _ = linregress(np.squeeze(model.predict_trace(X_test)), np.squeeze(y_test))\n",
    "        _, _, r2_train,_, _ = linregress(np.squeeze(model.predict_trace(X_train)), np.squeeze(y_train))\n",
    "\n",
    "        scores_dict[c][(l, n)] = (r2_test, r2_train) \n",
    "\n",
    "        if r2_test > best_model[c][0]:\n",
    "            best_model[c] = (r2_test, (l, n))\n",
    "            print \"new best model for cell \", c, \". r2 test: \", r2_test\n"
   ]
  },
  {
   "cell_type": "code",
   "execution_count": 8,
   "metadata": {
    "collapsed": true
   },
   "outputs": [],
   "source": [
    "pkl_file = open('./boc/formatted/LNE_relu', 'wb')\n",
    "pickle.dump((best_model, scores_dict), pkl_file)\n",
    "pkl_file.close()"
   ]
  }
 ],
 "metadata": {
  "kernelspec": {
   "display_name": "Python 2",
   "language": "python",
   "name": "python2"
  },
  "language_info": {
   "codemirror_mode": {
    "name": "ipython",
    "version": 2
   },
   "file_extension": ".py",
   "mimetype": "text/x-python",
   "name": "python",
   "nbconvert_exporter": "python",
   "pygments_lexer": "ipython2",
   "version": "2.7.11"
  },
  "latex_envs": {
   "bibliofile": "biblio.bib",
   "cite_by": "apalike",
   "current_citInitial": 1,
   "eqLabelWithNumbers": true,
   "eqNumInitial": 0
  }
 },
 "nbformat": 4,
 "nbformat_minor": 0
}
