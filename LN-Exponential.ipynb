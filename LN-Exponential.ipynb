{
 "cells": [
  {
   "cell_type": "code",
   "execution_count": 1,
   "metadata": {
    "collapsed": false
   },
   "outputs": [],
   "source": [
    "import matplotlib.pyplot as plt\n",
    "import matplotlib.patches as patches\n",
    "import numpy as np\n",
    "import glm_model as gm\n",
    "from glm_utils import *\n",
    "import tensorflow as tf\n",
    "\n",
    "%load_ext autoreload\n",
    "%autoreload 2\n",
    "%matplotlib inline"
   ]
  },
  {
   "cell_type": "code",
   "execution_count": 2,
   "metadata": {
    "collapsed": false
   },
   "outputs": [],
   "source": [
    "#finally get rid of the ugly ass allen code. We import the pickled design \n",
    "#matrix stimulus, which is PCA projection of the images, and the downsampled\n",
    "#traces. \n",
    "\n",
    "import pickle\n",
    "\n",
    "pkl_file = open('./boc/formatted/LMcelldata')\n",
    "data = pickle.load(pkl_file)\n",
    "pkl_file.close()\n",
    "\n",
    "pkl_file = open('./boc/formatted/LMstimdata')\n",
    "stim = pickle.load(pkl_file)\n",
    "pkl_file.close()\n",
    "\n",
    "pkl_file = open('./boc/formatted/runspeed')\n",
    "run_speed = pickle.load(pkl_file)\n",
    "pkl_file.close()"
   ]
  },
  {
   "cell_type": "code",
   "execution_count": 3,
   "metadata": {
    "collapsed": false
   },
   "outputs": [],
   "source": [
    "#get the number of features, and the number of training examples. \n",
    "l, n =  stim.shape"
   ]
  },
  {
   "cell_type": "code",
   "execution_count": 7,
   "metadata": {
    "collapsed": false
   },
   "outputs": [
    {
     "name": "stderr",
     "output_type": "stream",
     "text": [
      "0%                100%\n",
      "[#                   ] | ETA: 00:00:00"
     ]
    },
    {
     "name": "stdout",
     "output_type": "stream",
     "text": [
      "new best model for cell  517442753 . r2 test:  -0.0086183517619\n",
      "new best model for cell  517444738 . r2 test:  0.0107385504348\n",
      "new best model for cell  517443331 . r2 test:  0.00617195171319\n",
      "new best model for cell  517442436 . r2 test:  0.0227825209241\n",
      "new best model for cell  517445575 . r2 test:  -0.0101050828017\n",
      "new best model for cell  517444426 . r2 test:  0.0376963221961\n",
      "new best model for cell  517442471 . r2 test:  0.0313046776186\n",
      "new best model for cell  517443181 . r2 test:  0.0113933560948\n",
      "new best model for cell  517443087 . r2 test:  0.0260468094513\n",
      "new best model for cell  517446833 . r2 test:  0.0321968469877\n",
      "new best model for cell  517443827 . r2 test:  0.0765867286044\n",
      "new best model for cell  517443924 . r2 test:  0.042086881749\n",
      "new best model for cell  517443957 . r2 test:  0.0126140425323\n",
      "new best model for cell  517442722 . r2 test:  0.0503405884704\n",
      "new best model for cell  517446488 . r2 test:  0.00745804946565\n",
      "new best model for cell  517442675 . r2 test:  0.0174897704991\n",
      "new best model for cell  517446554 . r2 test:  -0.0377531594623\n",
      "new best model for cell  517444175 . r2 test:  0.0185069336106\n",
      "new best model for cell  517443484 . r2 test:  -0.0125257166116\n",
      "new best model for cell  517447069 . r2 test:  -0.0105338868868\n",
      "new best model for cell "
     ]
    },
    {
     "name": "stderr",
     "output_type": "stream",
     "text": [
      "[##                  ] | ETA: 00:14:16"
     ]
    },
    {
     "name": "stdout",
     "output_type": "stream",
     "text": [
      " 517443571 . r2 test:  0.0265699493069\n",
      "new best model for cell  517442753 . r2 test:  0.00458145095057\n",
      "new best model for cell  517445575 . r2 test:  -0.00749606910261\n",
      "new best model for cell  517443087 . r2 test:  0.0292670845974\n",
      "new best model for cell  517446488 . r2 test:  0.0159121376058\n",
      "new best model for cell  517446554 . r2 test:  -0.00532208190573\n",
      "new best model for cell  517444175 . r2 test:  0.0278583539456\n",
      "new best model for cell "
     ]
    },
    {
     "name": "stderr",
     "output_type": "stream",
     "text": [
      "[###                 ] | ETA: 00:21:58"
     ]
    },
    {
     "name": "stdout",
     "output_type": "stream",
     "text": [
      " 517443484 . r2 test:  0.0054894821169\n",
      "new best model for cell  517445575 . r2 test:  -0.00568441611058\n",
      "new best model for cell  517443957 . r2 test:  0.0201786694568\n",
      "new best model for cell "
     ]
    },
    {
     "name": "stderr",
     "output_type": "stream",
     "text": [
      "[####                ] | ETA: 00:26:22"
     ]
    },
    {
     "name": "stdout",
     "output_type": "stream",
     "text": [
      " 517447069 . r2 test:  0.0900359796732\n",
      "new best model for cell  517442675 . r2 test:  0.0338180638279\n",
      "new best model for cell "
     ]
    },
    {
     "name": "stderr",
     "output_type": "stream",
     "text": [
      "[#####               ] | ETA: 00:29:31"
     ]
    },
    {
     "name": "stdout",
     "output_type": "stream",
     "text": [
      " 517446554 . r2 test:  0.0131809051161\n",
      "new best model for cell "
     ]
    },
    {
     "name": "stderr",
     "output_type": "stream",
     "text": [
      "[#######             ] | ETA: 00:33:38"
     ]
    },
    {
     "name": "stdout",
     "output_type": "stream",
     "text": [
      " 517446554 . r2 test:  0.0247683599916\n",
      "new best model for cell "
     ]
    },
    {
     "name": "stderr",
     "output_type": "stream",
     "text": [
      "[####################] | ETA: 00:00:00"
     ]
    },
    {
     "name": "stdout",
     "output_type": "stream",
     "text": [
      " 517442753 . r2 test:  0.0431760374883\n"
     ]
    },
    {
     "name": "stderr",
     "output_type": "stream",
     "text": [
      "\n",
      "Total time elapsed: 02:21:54\n"
     ]
    }
   ],
   "source": [
    "from statsmodels.tsa.tsatools import lagmat\n",
    "from sklearn.cross_validation import train_test_split\n",
    "from scipy.stats import linregress\n",
    "from itertools import product\n",
    "import pyprind\n",
    "\n",
    "import sys\n",
    "\n",
    "n_pcs = range(1, 100, 5)\n",
    "non_lin = [0]\n",
    "\n",
    "alpha = 0\n",
    "nlag = 2\n",
    "\n",
    "#empty dictionary of the best model we've fit for each cell\n",
    "best_model = {k: (-np.inf, None) for k in data.keys()}\n",
    "\n",
    "#make a dictionary of dictionaries to store the results\n",
    "scores_dict = {k: {} for k in data.keys()}\n",
    "\n",
    "bar = pyprind.ProgBar(len(n_pcs)*len(non_lin))\n",
    "\n",
    "for (l, n) in product(non_lin, n_pcs):\n",
    "    bar.update()\n",
    "    \n",
    "    #lagged_stim = lagmat(stim[:, 0:n], maxlag = nlag, trim = None)[1:-1]       \n",
    "    #stim_array = np.concatenate((stim[:, 0:n], run_speed[:, np.newaxis]), axis = 1)\n",
    "    \n",
    "    \n",
    "    for c in data.keys():\n",
    "        X_train, X_test, y_train, y_test = train_test_split(stim[:, 0:n], np.array(data[c]))     \n",
    "        weight_init = np.linalg.pinv(X_train).dot(y_train)[:, np.newaxis]\n",
    "       \n",
    "        if l == 0:\n",
    "            nonlin = tf.exp\n",
    "        if l == 1:\n",
    "            nonlin = tf.nn.sigmoid\n",
    "        if l == 2:\n",
    "            nonlin = tf.nn.relu\n",
    "\n",
    "        \n",
    "        model = gm.gaussian_GLM(weight_init, non_lin = nonlin, verbose = False, alpha = 1, reg = 'l2', \n",
    "                                lr = 1e-4, train_params = False, scale_init = 1, bias_init = 0)\n",
    "        \n",
    "        loss, cv = model.fit(X_train, y_train[:, np.newaxis], X_test, y_test[:, np.newaxis], \n",
    "                             max_iters = 60) \n",
    "        \n",
    "        w, o, s  = model.get_params()\n",
    "\n",
    "    \n",
    "        _, _, r2_test,_, _ = linregress(np.squeeze(model.predict_trace(X_test)), np.squeeze(y_test))\n",
    "        _, _, r2_train,_, _ = linregress(np.squeeze(model.predict_trace(X_train)), np.squeeze(y_train))\n",
    "\n",
    "        scores_dict[c][(l, n)] = (r2_test, r2_train) \n",
    "\n",
    "        if r2_test > best_model[c][0]:\n",
    "            best_model[c] = (r2_test, (l, n))\n",
    "            print \"new best model for cell \", c, \". r2 test: \", r2_test\n"
   ]
  },
  {
   "cell_type": "code",
   "execution_count": 8,
   "metadata": {
    "collapsed": false
   },
   "outputs": [
    {
     "name": "stdout",
     "output_type": "stream",
     "text": [
      "explained var:  0.043 non_lin: 0 n_components 31\n",
      "(0.043176037488321585, (0, 31))\n",
      "explained var:  0.011 non_lin: 0 n_components 1\n",
      "(0.010738550434807797, (0, 1))\n",
      "explained var:  0.006 non_lin: 0 n_components 1\n",
      "(0.0061719517131909457, (0, 1))\n",
      "explained var:  0.023 non_lin: 0 n_components 1\n",
      "(0.022782520924060714, (0, 1))\n",
      "explained var:  -0.006 non_lin: 0 n_components 11\n",
      "(-0.0056844161105775691, (0, 11))\n",
      "explained var:  0.038 non_lin: 0 n_components 1\n",
      "(0.037696322196121498, (0, 1))\n",
      "explained var:  0.031 non_lin: 0 n_components 1\n",
      "(0.031304677618642016, (0, 1))\n",
      "explained var:  0.011 non_lin: 0 n_components 1\n",
      "(0.011393356094846435, (0, 1))\n",
      "explained var:  0.029 non_lin: 0 n_components 6\n",
      "(0.029267084597371543, (0, 6))\n",
      "explained var:  0.032 non_lin: 0 n_components 1\n",
      "(0.03219684698767012, (0, 1))\n",
      "explained var:  0.077 non_lin: 0 n_components 1\n",
      "(0.07658672860441966, (0, 1))\n",
      "explained var:  0.042 non_lin: 0 n_components 1\n",
      "(0.042086881748984263, (0, 1))\n",
      "explained var:  0.02 non_lin: 0 n_components 11\n",
      "(0.020178669456796802, (0, 11))\n",
      "explained var:  0.05 non_lin: 0 n_components 1\n",
      "(0.050340588470396651, (0, 1))\n",
      "explained var:  0.016 non_lin: 0 n_components 6\n",
      "(0.015912137605796652, (0, 6))\n",
      "explained var:  0.034 non_lin: 0 n_components 16\n",
      "(0.033818063827930296, (0, 16))\n",
      "explained var:  0.025 non_lin: 0 n_components 21\n",
      "(0.024768359991598592, (0, 21))\n",
      "explained var:  0.028 non_lin: 0 n_components 6\n",
      "(0.027858353945639184, (0, 6))\n",
      "explained var:  0.005 non_lin: 0 n_components 6\n",
      "(0.0054894821168982163, (0, 6))\n",
      "explained var:  0.09 non_lin: 0 n_components 11\n",
      "(0.090035979673182165, (0, 11))\n",
      "explained var:  0.027 non_lin: 0 n_components 1\n",
      "(0.026569949306870465, (0, 1))\n"
     ]
    }
   ],
   "source": [
    "for c in data.keys():\n",
    "    \n",
    "    if best_model[c][1] != None:\n",
    "        (v, (l, n)) = best_model[c]\n",
    "    \n",
    "        print 'explained var: ', round(v, 3), 'non_lin:', l, 'n_components', n\n",
    "        \n",
    "    print best_model[c]"
   ]
  },
  {
   "cell_type": "code",
   "execution_count": 10,
   "metadata": {
    "collapsed": false
   },
   "outputs": [],
   "source": [
    "pkl_file = open('./boc/formatted/LN_Exp', 'wb')\n",
    "pickle.dump((best_model, scores_dict), pkl_file)\n",
    "pkl_file.close()\n"
   ]
  },
  {
   "cell_type": "code",
   "execution_count": null,
   "metadata": {
    "collapsed": true
   },
   "outputs": [],
   "source": []
  }
 ],
 "metadata": {
  "kernelspec": {
   "display_name": "Python 2",
   "language": "python",
   "name": "python2"
  },
  "language_info": {
   "codemirror_mode": {
    "name": "ipython",
    "version": 2
   },
   "file_extension": ".py",
   "mimetype": "text/x-python",
   "name": "python",
   "nbconvert_exporter": "python",
   "pygments_lexer": "ipython2",
   "version": "2.7.11"
  },
  "latex_envs": {
   "bibliofile": "biblio.bib",
   "cite_by": "apalike",
   "current_citInitial": 1,
   "eqLabelWithNumbers": true,
   "eqNumInitial": 0
  }
 },
 "nbformat": 4,
 "nbformat_minor": 0
}
