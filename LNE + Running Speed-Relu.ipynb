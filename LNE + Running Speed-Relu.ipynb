{
 "cells": [
  {
   "cell_type": "code",
   "execution_count": 1,
   "metadata": {
    "collapsed": false
   },
   "outputs": [],
   "source": [
    "import matplotlib.pyplot as plt\n",
    "import matplotlib.patches as patches\n",
    "import numpy as np\n",
    "import glm_model as gm\n",
    "from glm_utils import *\n",
    "import tensorflow as tf\n",
    "\n",
    "%load_ext autoreload\n",
    "%autoreload 2\n",
    "%matplotlib inline"
   ]
  },
  {
   "cell_type": "code",
   "execution_count": 2,
   "metadata": {
    "collapsed": false
   },
   "outputs": [],
   "source": [
    "#finally get rid of the ugly ass allen code. We import the pickled design \n",
    "#matrix stimulus, which is PCA projection of the images, and the downsampled\n",
    "#traces. \n",
    "\n",
    "import pickle\n",
    "\n",
    "pkl_file = open('./boc/formatted/LMcelldata')\n",
    "data = pickle.load(pkl_file)\n",
    "pkl_file.close()\n",
    "\n",
    "pkl_file = open('./boc/formatted/LMstimdata')\n",
    "stim = pickle.load(pkl_file)\n",
    "pkl_file.close()\n",
    "\n",
    "pkl_file = open('./boc/formatted/runspeed')\n",
    "run_speed = pickle.load(pkl_file)\n",
    "pkl_file.close()"
   ]
  },
  {
   "cell_type": "code",
   "execution_count": 3,
   "metadata": {
    "collapsed": false
   },
   "outputs": [],
   "source": [
    "#get the number of features, and the number of training examples. \n",
    "l, n =  stim.shape"
   ]
  },
  {
   "cell_type": "code",
   "execution_count": 7,
   "metadata": {
    "collapsed": false
   },
   "outputs": [
    {
     "name": "stderr",
     "output_type": "stream",
     "text": [
      "0%                  100%\n",
      "[#                     ] | ETA: 00:00:00"
     ]
    },
    {
     "name": "stdout",
     "output_type": "stream",
     "text": [
      "new best model for cell  517442753 . r2 test:  0.0600365581453\n",
      "new best model for cell  517444738 . r2 test:  -0.0020595088903\n",
      "new best model for cell  517443331 . r2 test:  0.03090937433\n",
      "new best model for cell  517442436 . r2 test:  0.0161703344833\n",
      "new best model for cell  517445575 . r2 test:  -0.0115422822683\n",
      "new best model for cell  517444426 . r2 test:  0.0069529278718\n",
      "new best model for cell  517442471 . r2 test:  -0.0195923404058\n",
      "new best model for cell  517443181 . r2 test:  0.0371471401969\n",
      "new best model for cell  517443087 . r2 test:  -0.0255448082076\n",
      "new best model for cell  517446833 . r2 test:  0.011737571097\n",
      "new best model for cell  517443827 . r2 test:  -0.0208940650961\n",
      "new best model for cell  517443924 . r2 test:  0.0149030320811\n",
      "new best model for cell  517443957 . r2 test:  0.0571364806961\n",
      "new best model for cell  517442722 . r2 test:  -0.00460570580491\n",
      "new best model for cell  517446488 . r2 test:  -0.00331378209689\n",
      "new best model for cell  517442675 . r2 test:  -0.0100851103284\n",
      "new best model for cell  517446554 . r2 test:  -0.0285611453103\n",
      "new best model for cell  517444175 . r2 test:  -0.00948587083919\n",
      "new best model for cell  517443484 . r2 test:  0.0139284976612\n",
      "new best model for cell  517447069 . r2 test:  0.042057021514\n",
      "new best model for cell  517443571 . r2 test:  -0.018720353122\n",
      "new best model for cell  517442471 . r2 test:  -0.00027058318632\n",
      "new best model for cell  517443087 . r2 test:  0.0146995087144\n",
      "new best model for cell  517443827 . r2 test:  -0.0208213222676\n",
      "new best model for cell  517442722 . r2 test:  -0.00351822017068\n",
      "new best model for cell  517446554 . r2 test:  0.0105790700582\n",
      "new best model for cell "
     ]
    },
    {
     "name": "stderr",
     "output_type": "stream",
     "text": [
      "[###                   ] | ETA: 01:17:56"
     ]
    },
    {
     "name": "stdout",
     "output_type": "stream",
     "text": [
      " 517443571 . r2 test:  0.00225825064867\n",
      "new best model for cell  517444738 . r2 test:  0.0503344660597\n",
      "new best model for cell  517445575 . r2 test:  0.0327831664402\n",
      "new best model for cell  517444426 . r2 test:  0.0144343187149\n",
      "new best model for cell  517442471 . r2 test:  0.00299776923381\n",
      "new best model for cell  517443087 . r2 test:  0.0182500573983\n",
      "new best model for cell  517442722 . r2 test:  0.0102891856079\n",
      "new best model for cell  517446488 . r2 test:  0.0111004464332\n",
      "new best model for cell  517442675 . r2 test:  0.0326792858182\n",
      "new best model for cell  517443484 . r2 test:  0.0155342775388\n",
      "new best model for cell  517443571 . r2 test:  0.0307171863237\n",
      "new best model for cell  517442471 . r2 test:  0.0219983693793\n",
      "new best model for cell  517446833 . r2 test:  0.0399863471086\n",
      "new best model for cell  517443827 . r2 test:  -0.0162891002622\n",
      "new best model for cell  517442722 . r2 test:  0.0161645806657\n",
      "new best model for cell  517446554 . r2 test:  0.0180365702332\n",
      "new best model for cell "
     ]
    },
    {
     "name": "stderr",
     "output_type": "stream",
     "text": [
      "[#####                 ] | ETA: 01:23:38"
     ]
    },
    {
     "name": "stdout",
     "output_type": "stream",
     "text": [
      " 517444175 . r2 test:  0.00624583853159\n",
      "new best model for cell  517443827 . r2 test:  0.0941491858149\n",
      "new best model for cell  517443484 . r2 test:  0.0293594261014\n",
      "new best model for cell  517446488 . r2 test:  0.0376451329919\n",
      "new best model for cell "
     ]
    },
    {
     "name": "stderr",
     "output_type": "stream",
     "text": [
      "[#######               ] | ETA: 01:28:08"
     ]
    },
    {
     "name": "stdout",
     "output_type": "stream",
     "text": [
      " 517444175 . r2 test:  0.0280563595724\n",
      "new best model for cell  517444738 . r2 test:  0.0892548715778\n",
      "new best model for cell  517443331 . r2 test:  0.0565766701059\n",
      "new best model for cell  517442722 . r2 test:  0.0371881083486\n",
      "new best model for cell  517446488 . r2 test:  0.0584054763289\n",
      "new best model for cell  517443571 . r2 test:  0.0352427193735\n",
      "new best model for cell "
     ]
    },
    {
     "name": "stderr",
     "output_type": "stream",
     "text": [
      "[#########             ] | ETA: 02:21:13"
     ]
    },
    {
     "name": "stdout",
     "output_type": "stream",
     "text": [
      " 517443957 . r2 test:  0.0618187948143\n",
      "new best model for cell  517442436 . r2 test:  0.0493682989843\n",
      "new best model for cell  517443087 . r2 test:  0.024575708857\n",
      "new best model for cell  517443924 . r2 test:  0.0306769154951\n",
      "new best model for cell  517444175 . r2 test:  0.0419075239488\n",
      "new best model for cell  517444426 . r2 test:  0.0251813451067\n",
      "new best model for cell "
     ]
    },
    {
     "name": "stderr",
     "output_type": "stream",
     "text": [
      "[###########           ] | ETA: 02:03:24"
     ]
    },
    {
     "name": "stdout",
     "output_type": "stream",
     "text": [
      " 517442471 . r2 test:  0.0508729541205\n",
      "new best model for cell "
     ]
    },
    {
     "name": "stderr",
     "output_type": "stream",
     "text": [
      "[##############        ] | ETA: 01:41:12"
     ]
    },
    {
     "name": "stdout",
     "output_type": "stream",
     "text": [
      " 517446833 . r2 test:  0.045890093474\n",
      "new best model for cell  517444426 . r2 test:  0.0328890774356\n",
      "new best model for cell "
     ]
    },
    {
     "name": "stderr",
     "output_type": "stream",
     "text": [
      "[################      ] | ETA: 01:20:06"
     ]
    },
    {
     "name": "stdout",
     "output_type": "stream",
     "text": [
      " 517443924 . r2 test:  0.0462030318259\n",
      "new best model for cell  517445575 . r2 test:  0.0535760748122\n",
      "new best model for cell  517442471 . r2 test:  0.0515229675734\n",
      "new best model for cell  517443331 . r2 test:  0.105030377353\n",
      "new best model for cell "
     ]
    },
    {
     "name": "stderr",
     "output_type": "stream",
     "text": [
      "[##################    ] | ETA: 00:57:03"
     ]
    },
    {
     "name": "stdout",
     "output_type": "stream",
     "text": [
      " 517443087 . r2 test:  0.0257013435966\n",
      "new best model for cell  517443087 . r2 test:  0.0294577643847\n",
      "new best model for cell  517442675 . r2 test:  0.0416337861357\n",
      "new best model for cell  517442436 . r2 test:  0.049586829279\n",
      "new best model for cell "
     ]
    },
    {
     "name": "stderr",
     "output_type": "stream",
     "text": [
      "[####################  ] | ETA: 00:31:52"
     ]
    },
    {
     "name": "stdout",
     "output_type": "stream",
     "text": [
      " 517447069 . r2 test:  0.0483189947475\n",
      "new best model for cell "
     ]
    },
    {
     "name": "stderr",
     "output_type": "stream",
     "text": [
      "[######################] | ETA: 00:00:00"
     ]
    },
    {
     "name": "stdout",
     "output_type": "stream",
     "text": [
      " 517443087 . r2 test:  0.0404659385082\n",
      "new best model for cell  517445575 . r2 test:  0.0830418227465\n",
      "new best model for cell  517444426 . r2 test:  0.0443834143219\n",
      "new best model for cell  517442471 . r2 test:  0.0537332004328\n",
      "new best model for cell  517446554 . r2 test:  0.0180594820742\n"
     ]
    },
    {
     "name": "stderr",
     "output_type": "stream",
     "text": [
      "\n",
      "Total time elapsed: 05:54:39\n"
     ]
    }
   ],
   "source": [
    "from statsmodels.tsa.tsatools import lagmat\n",
    "from sklearn.cross_validation import train_test_split\n",
    "from scipy.stats import linregress\n",
    "from itertools import product\n",
    "import pyprind\n",
    "\n",
    "import sys\n",
    "\n",
    "n_pcs = range(1, 110, 5)\n",
    "non_lin = [2]\n",
    "\n",
    "alpha = 0\n",
    "nlag = 2\n",
    "\n",
    "#empty dictionary of the best model we've fit for each cell\n",
    "best_model = {k: (-np.inf, None) for k in data.keys()}\n",
    "\n",
    "#make a dictionary of dictionaries to store the results\n",
    "scores_dict = {k: {} for k in data.keys()}\n",
    "\n",
    "bar = pyprind.ProgBar(len(n_pcs)*len(non_lin))\n",
    "\n",
    "for (l, n) in product(non_lin, n_pcs):\n",
    "    bar.update()\n",
    "    \n",
    "    #lagged_stim = lagmat(stim[:, 0:n], maxlag = nlag, trim = None)[1:-1]       \n",
    "    stim_array = np.concatenate((stim[:, 0:n], run_speed[:, np.newaxis]), axis = 1)\n",
    "    \n",
    "    \n",
    "    for c in data.keys():\n",
    "        X_train, X_test, y_train, y_test = train_test_split(stim_array, np.array(data[c]))     \n",
    "        weight_init = np.linalg.pinv(X_train).dot(y_train)[:, np.newaxis]\n",
    "       \n",
    "        if l == 0:\n",
    "            nonlin = tf.exp\n",
    "        if l == 1:\n",
    "            nonlin = tf.nn.sigmoid\n",
    "        if l == 2:\n",
    "            nonlin = tf.nn.relu\n",
    "\n",
    "        \n",
    "        model = gm.exponential_GLM(weight_init, non_lin = nonlin, verbose = False, alpha = 0, reg = 'l2', \n",
    "                                lr = 1e-4, train_params = False, scale_init = 1, bias_init = 0)\n",
    "        \n",
    "        loss, cv = model.fit(X_train, y_train[:, np.newaxis], X_test, y_test[:, np.newaxis], \n",
    "                             max_iters = 150) \n",
    "        \n",
    "        \n",
    "        w, o, s  = model.get_params()\n",
    "\n",
    "    \n",
    "        _, _, r2_test,_, _ = linregress(np.squeeze(model.predict_trace(X_test)), np.squeeze(y_test))\n",
    "        _, _, r2_train,_, _ = linregress(np.squeeze(model.predict_trace(X_train)), np.squeeze(y_train))\n",
    "\n",
    "        scores_dict[c][(l, n)] = (r2_test, r2_train) \n",
    "\n",
    "        if r2_test > best_model[c][0]:\n",
    "            best_model[c] = (r2_test, (l, n))\n",
    "            print \"new best model for cell \", c, \". r2 test: \", r2_test\n"
   ]
  },
  {
   "cell_type": "code",
   "execution_count": 15,
   "metadata": {
    "collapsed": false
   },
   "outputs": [
    {
     "name": "stdout",
     "output_type": "stream",
     "text": [
      "explained var:  0.205 non_lin: 0 n_components 1\n",
      "(0.20471333787080059, (0, 1))\n",
      "explained var:  0.067 non_lin: 0 n_components 1\n",
      "(0.067399138643032402, (0, 1))\n",
      "explained var:  -0.012 non_lin: 0 n_components 61\n",
      "(-0.01225000620757246, (0, 61))\n",
      "explained var:  0.321 non_lin: 0 n_components 1\n",
      "(0.32066256818647759, (0, 1))\n",
      "explained var:  0.243 non_lin: 0 n_components 21\n",
      "(0.24282624633409033, (0, 21))\n",
      "explained var:  0.174 non_lin: 0 n_components 1\n",
      "(0.17381542853821436, (0, 1))\n",
      "explained var:  0.047 non_lin: 0 n_components 1\n",
      "(0.046700509571936236, (0, 1))\n",
      "explained var:  0.012 non_lin: 0 n_components 81\n",
      "(0.011955503314439762, (0, 81))\n",
      "explained var:  0.112 non_lin: 0 n_components 1\n",
      "(0.11185500602632083, (0, 1))\n",
      "explained var:  0.263 non_lin: 0 n_components 21\n",
      "(0.26327412441769821, (0, 21))\n",
      "explained var:  0.005 non_lin: 0 n_components 61\n",
      "(0.004968124413065044, (0, 61))\n",
      "explained var:  0.182 non_lin: 0 n_components 1\n",
      "(0.18216877669256215, (0, 1))\n",
      "explained var:  0.118 non_lin: 0 n_components 1\n",
      "(0.11841618930495884, (0, 1))\n",
      "explained var:  0.018 non_lin: 0 n_components 41\n",
      "(0.018463164867059477, (0, 41))\n",
      "explained var:  0.052 non_lin: 0 n_components 81\n",
      "(0.052234390441300529, (0, 81))\n",
      "explained var:  0.237 non_lin: 0 n_components 1\n",
      "(0.23650040808342412, (0, 1))\n",
      "explained var:  0.1 non_lin: 0 n_components 1\n",
      "(0.10016907442609084, (0, 1))\n",
      "explained var:  0.142 non_lin: 0 n_components 1\n",
      "(0.14245360554547506, (0, 1))\n",
      "explained var:  0.33 non_lin: 0 n_components 81\n",
      "(0.32993928741413592, (0, 81))\n",
      "explained var:  0.005 non_lin: 0 n_components 81\n",
      "(0.0051352647814859979, (0, 81))\n",
      "explained var:  0.105 non_lin: 0 n_components 41\n",
      "(0.1048894749533619, (0, 41))\n"
     ]
    }
   ],
   "source": [
    "for c in data.keys():\n",
    "    \n",
    "    if best_model[c][1] != None:\n",
    "        (v, (l, n)) = best_model[c]\n",
    "    \n",
    "        print 'explained var: ', round(v, 3), 'non_lin:', l, 'n_components', n\n",
    "        \n",
    "    print best_model[c]"
   ]
  },
  {
   "cell_type": "code",
   "execution_count": null,
   "metadata": {
    "collapsed": true
   },
   "outputs": [],
   "source": [
    "pkl_file = open('./boc/formatted/LNE_rs_relu', 'wb')\n",
    "pickle.dump((best_model, scores_dict), pkl_file)\n",
    "pkl_file.close()"
   ]
  }
 ],
 "metadata": {
  "kernelspec": {
   "display_name": "Python 2",
   "language": "python",
   "name": "python2"
  },
  "language_info": {
   "codemirror_mode": {
    "name": "ipython",
    "version": 2
   },
   "file_extension": ".py",
   "mimetype": "text/x-python",
   "name": "python",
   "nbconvert_exporter": "python",
   "pygments_lexer": "ipython2",
   "version": "2.7.11"
  },
  "latex_envs": {
   "bibliofile": "biblio.bib",
   "cite_by": "apalike",
   "current_citInitial": 1,
   "eqLabelWithNumbers": true,
   "eqNumInitial": 0
  }
 },
 "nbformat": 4,
 "nbformat_minor": 0
}
