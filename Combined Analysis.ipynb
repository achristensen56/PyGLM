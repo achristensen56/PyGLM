{
 "cells": [
  {
   "cell_type": "code",
   "execution_count": 1,
   "metadata": {
    "collapsed": true
   },
   "outputs": [],
   "source": [
    "import matplotlib.pyplot as plt\n",
    "import matplotlib.patches as patches\n",
    "import numpy as np\n",
    "import glm_model as gm\n",
    "from glm_utils import *\n",
    "import tensorflow as tf\n",
    "\n",
    "%load_ext autoreload\n",
    "%autoreload 2\n",
    "%matplotlib inline"
   ]
  },
  {
   "cell_type": "code",
   "execution_count": 35,
   "metadata": {
    "collapsed": false
   },
   "outputs": [],
   "source": [
    "import pickle\n",
    "\n",
    "pkl_file = open('./boc/formatted/L')\n",
    "(l_best_model, l_all_models) = pickle.load(pkl_file)\n",
    "pkl_file.close()\n",
    "\n",
    "pkl_file = open('./boc/formatted/L_RS')\n",
    "(l_rs_best_model, l_rs_all_models) = pickle.load(pkl_file)\n",
    "pkl_file.close()\n",
    "\n",
    "pkl_file = open('./boc/formatted/LN_Exp')\n",
    "(LN_exp_best_model, LN_exp_all_models) = pickle.load(pkl_file)\n",
    "pkl_file.close()\n",
    "\n",
    "pkl_file = open('./boc/formatted/LN_Relu')\n",
    "(LN_relu_best_model, LN_relu_all_models) = pickle.load(pkl_file)\n",
    "pkl_file.close()\n",
    "\n",
    "pkl_file = open('./boc/formatted/LN_RS_Exp')\n",
    "(LN_rs_exp_best_model, LN_rs_exp_all_models) = pickle.load(pkl_file)\n",
    "pkl_file.close()\n",
    "\n",
    "pkl_file = open('./boc/formatted/LN_RS_Relu_Sigmoid')\n",
    "(LN_rs_relu_sig_best_model, LN_rs_Relu_Sigmoid_all_models) = pickle.load(pkl_file)\n",
    "pkl_file.close()\n",
    "\n",
    "pkl_file = open('./boc/formatted/LN_Sig')\n",
    "(LN_sig_best_model, LN_sig_all_models) = pickle.load(pkl_file)\n",
    "pkl_file.close()"
   ]
  },
  {
   "cell_type": "code",
   "execution_count": 36,
   "metadata": {
    "collapsed": false
   },
   "outputs": [],
   "source": [
    "#first let's deal with the getting the LN best models. \n",
    "\n",
    "LN_best = {k: {} for k in l_best_model.keys()}\n",
    "\n",
    "\n",
    "for k in l_best_model.keys():\n",
    "    best_model =  LN_exp_best_model[k]\n",
    "    non_lin = 'exponential'\n",
    "    \n",
    "    if LN_relu_best_model[k][0] > best_model[0]:\n",
    "        best_model = LN_relu_best_model[k]\n",
    "        non_lin = 'relu'\n",
    "        \n",
    "    if LN_sig_best_model[k][0] > best_model[0]:\n",
    "        best_model =  LN_sig_best_model[k]\n",
    "        non_lin = 'sigmoid'\n",
    "        \n",
    "    LN_best[k]['non_lin'] = non_lin\n",
    "    LN_best[k]['n_pcs'] = best_model[1][1]\n",
    "    LN_best[k]['explained_variance'] = best_model[0]"
   ]
  },
  {
   "cell_type": "code",
   "execution_count": 37,
   "metadata": {
    "collapsed": false
   },
   "outputs": [
    {
     "name": "stdout",
     "output_type": "stream",
     "text": [
      "Best LN model cell 517442753 : \n",
      " Explained var: 0.05 \n",
      " n_pcs: 15 \n",
      " non linearity: relu \n",
      "\n",
      "Best linear model cell 517442753 : \n",
      " Explained var: 0.01 \n",
      " n_pcs: 68.6734693878 \n",
      "\n",
      "Best LN model cell 517444738 : \n",
      " Explained var: 0.07 \n",
      " n_pcs: 100 \n",
      " non linearity: relu \n",
      "\n",
      "Best linear model cell 517444738 : \n",
      " Explained var: 0.01 \n",
      " n_pcs: 32.8571428571 \n",
      "\n",
      "Best LN model cell 517443331 : \n",
      " Explained var: 0.05 \n",
      " n_pcs: 10 \n",
      " non linearity: relu \n",
      "\n",
      "Best linear model cell 517443331 : \n",
      " Explained var: 0.01 \n",
      " n_pcs: 44.7959183673 \n",
      "\n",
      "Best LN model cell 517442436 : \n",
      " Explained var: 0.05 \n",
      " n_pcs: 65 \n",
      " non linearity: sigmoid \n",
      "\n",
      "Best linear model cell 517442436 : \n",
      " Explained var: 0.01 \n",
      " n_pcs: 156.224489796 \n",
      "\n",
      "Best LN model cell 517445575 : \n",
      " Explained var: 0.08 \n",
      " n_pcs: 100 \n",
      " non linearity: relu \n",
      "\n",
      "Best linear model cell 517445575 : \n",
      " Explained var: 0.0 \n",
      " n_pcs: 40.8163265306 \n",
      "\n",
      "Best LN model cell 517444426 : \n",
      " Explained var: 0.06 \n",
      " n_pcs: 50 \n",
      " non linearity: relu \n",
      "\n",
      "Best linear model cell 517444426 : \n",
      " Explained var: 0.01 \n",
      " n_pcs: 108.469387755 \n",
      "\n",
      "Best LN model cell 517442471 : \n",
      " Explained var: 0.05 \n",
      " n_pcs: 35 \n",
      " non linearity: relu \n",
      "\n",
      "Best linear model cell 517442471 : \n",
      " Explained var: 0.0 \n",
      " n_pcs: 64.693877551 \n",
      "\n",
      "Best LN model cell 517443181 : \n",
      " Explained var: 0.05 \n",
      " n_pcs: 35 \n",
      " non linearity: sigmoid \n",
      "\n",
      "Best linear model cell 517443181 : \n",
      " Explained var: 0.0 \n",
      " n_pcs: 76.6326530612 \n",
      "\n",
      "Best LN model cell 517443087 : \n",
      " Explained var: 0.05 \n",
      " n_pcs: 40 \n",
      " non linearity: sigmoid \n",
      "\n",
      "Best linear model cell 517443087 : \n",
      " Explained var: 0.01 \n",
      " n_pcs: 176.12244898 \n",
      "\n",
      "Best LN model cell 517446833 : \n",
      " Explained var: 0.05 \n",
      " n_pcs: 10 \n",
      " non linearity: relu \n",
      "\n",
      "Best linear model cell 517446833 : \n",
      " Explained var: 0.0 \n",
      " n_pcs: 32.8571428571 \n",
      "\n",
      "Best LN model cell 517443827 : \n",
      " Explained var: 0.08 \n",
      " n_pcs: 1 \n",
      " non linearity: exponential \n",
      "\n",
      "Best linear model cell 517443827 : \n",
      " Explained var: 0.02 \n",
      " n_pcs: 52.7551020408 \n",
      "\n",
      "Best LN model cell 517443924 : \n",
      " Explained var: 0.09 \n",
      " n_pcs: 90 \n",
      " non linearity: relu \n",
      "\n",
      "Best linear model cell 517443924 : \n",
      " Explained var: 0.0 \n",
      " n_pcs: 160.204081633 \n",
      "\n",
      "Best LN model cell 517443957 : \n",
      " Explained var: 0.03 \n",
      " n_pcs: 10 \n",
      " non linearity: sigmoid \n",
      "\n",
      "Best linear model cell 517443957 : \n",
      " Explained var: 0.0 \n",
      " n_pcs: 156.224489796 \n",
      "\n",
      "Best LN model cell 517442722 : \n",
      " Explained var: 0.05 \n",
      " n_pcs: 25 \n",
      " non linearity: relu \n",
      "\n",
      "Best linear model cell 517442722 : \n",
      " Explained var: 0.02 \n",
      " n_pcs: 5.0 \n",
      "\n",
      "Best LN model cell 517446488 : \n",
      " Explained var: 0.06 \n",
      " n_pcs: 5 \n",
      " non linearity: sigmoid \n",
      "\n",
      "Best linear model cell 517446488 : \n",
      " Explained var: 0.01 \n",
      " n_pcs: 64.693877551 \n",
      "\n",
      "Best LN model cell 517442675 : \n",
      " Explained var: 0.07 \n",
      " n_pcs: 35 \n",
      " non linearity: relu \n",
      "\n",
      "Best linear model cell 517442675 : \n",
      " Explained var: 0.01 \n",
      " n_pcs: 40.8163265306 \n",
      "\n",
      "Best LN model cell 517446554 : \n",
      " Explained var: 0.06 \n",
      " n_pcs: 20 \n",
      " non linearity: relu \n",
      "\n",
      "Best linear model cell 517446554 : \n",
      " Explained var: 0.0 \n",
      " n_pcs: 60.7142857143 \n",
      "\n",
      "Best LN model cell 517444175 : \n",
      " Explained var: 0.06 \n",
      " n_pcs: 15 \n",
      " non linearity: sigmoid \n",
      "\n",
      "Best linear model cell 517444175 : \n",
      " Explained var: 0.01 \n",
      " n_pcs: 200.0 \n",
      "\n",
      "Best LN model cell 517443484 : \n",
      " Explained var: 0.04 \n",
      " n_pcs: 10 \n",
      " non linearity: relu \n",
      "\n",
      "Best linear model cell 517443484 : \n",
      " Explained var: 0.01 \n",
      " n_pcs: 104.489795918 \n",
      "\n",
      "Best LN model cell 517447069 : \n",
      " Explained var: 0.09 \n",
      " n_pcs: 11 \n",
      " non linearity: exponential \n",
      "\n",
      "Best linear model cell 517447069 : \n",
      " Explained var: 0.01 \n",
      " n_pcs: 168.163265306 \n",
      "\n",
      "Best LN model cell 517443571 : \n",
      " Explained var: 0.04 \n",
      " n_pcs: 90 \n",
      " non linearity: relu \n",
      "\n",
      "Best linear model cell 517443571 : \n",
      " Explained var: 0.01 \n",
      " n_pcs: 120.408163265 \n",
      "\n"
     ]
    }
   ],
   "source": [
    "import pprint\n",
    "\n",
    "lin_var = [];\n",
    "LN_var = [];\n",
    "\n",
    "\n",
    "for k in LN_best.keys():\n",
    "    \n",
    "    lin_var.append(l_best_model[k][0])\n",
    "    LN_var.append(LN_best[k]['explained_variance'])\n",
    "    \n",
    "    print 'Best LN model cell', k, ': \\n Explained var:', round(LN_best[k]['explained_variance'], 2), '\\n n_pcs:', LN_best[k]['n_pcs'], '\\n non linearity:', LN_best[k]['non_lin'], '\\n'\n",
    "    \n",
    "    print 'Best linear model cell', k, ': \\n Explained var:', round(l_best_model[k][0], 2), '\\n n_pcs:', l_best_model[k][1][1], '\\n'\n",
    "    "
   ]
  },
  {
   "cell_type": "code",
   "execution_count": 38,
   "metadata": {
    "collapsed": false
   },
   "outputs": [
    {
     "data": {
      "image/png": "[encoded data removed]",
      "text/plain": [
       "<matplotlib.figure.Figure at 0x1202bb250>"
      ]
     },
     "metadata": {},
     "output_type": "display_data"
    }
   ],
   "source": [
    "bins = np.linspace(-.05, .1, 20)\n",
    "\n",
    "ax = plt.subplot(111)\n",
    "plt.hist(lin_var, bins, alpha=0.5, label='Linear Model')\n",
    "plt.hist(LN_var, bins, alpha=0.5, label='LN Model')\n",
    "plt.legend(loc='upper right')\n",
    "simpleaxis(ax)\n",
    "plt.show()"
   ]
  },
  {
   "cell_type": "code",
   "execution_count": 43,
   "metadata": {
    "collapsed": false
   },
   "outputs": [],
   "source": [
    "#now let's deal with getting the best models with running speed\n",
    "\n",
    "LN_rs_best = {k: {} for k in l_best_model.keys()}\n",
    "non_lin_dict = {0: 'exponential', 1: 'sigmoid', 2: 'relu'}\n",
    "\n",
    "for k in l_best_model.keys():\n",
    "    best_model =  LN_rs_relu_sig_best_model[k]\n",
    "    \n",
    "    if LN_rs_exp_best_model[k][0] > best_model[0]:\n",
    "        best_model = LN_rs_exp_best_model[k]\n",
    "\n",
    "    LN_rs_best[k]['non_lin'] = non_lin_dict[best_model[1][0]]\n",
    "    LN_rs_best[k]['n_pcs'] = best_model[1][1]\n",
    "    LN_rs_best[k]['explained_variance'] = best_model[0]"
   ]
  },
  {
   "cell_type": "code",
   "execution_count": 44,
   "metadata": {
    "collapsed": false
   },
   "outputs": [
    {
     "name": "stdout",
     "output_type": "stream",
     "text": [
      "Best LN model cell 517442753 : \n",
      " Explained var: 0.2 \n",
      " n_pcs: 1 \n",
      " non linearity: exponential \n",
      "\n",
      "Best linear model cell 517442753 : \n",
      " Explained var: 0.08 \n",
      " n_pcs: 77.5510204082 \n",
      "\n",
      "Best LN model cell 517444738 : \n",
      " Explained var: 0.06 \n",
      " n_pcs: 106 \n",
      " non linearity: exponential \n",
      "\n",
      "Best linear model cell 517444738 : \n",
      " Explained var: 0.01 \n",
      " n_pcs: 6.12244897959 \n",
      "\n",
      "Best LN model cell 517443331 : \n",
      " Explained var: 0.05 \n",
      " n_pcs: 96 \n",
      " non linearity: exponential \n",
      "\n",
      "Best linear model cell 517443331 : \n",
      " Explained var: 0.04 \n",
      " n_pcs: 87.7551020408 \n",
      "\n",
      "Best LN model cell 517442436 : \n",
      " Explained var: 0.35 \n",
      " n_pcs: 6 \n",
      " non linearity: exponential \n",
      "\n",
      "Best linear model cell 517442436 : \n",
      " Explained var: 0.16 \n",
      " n_pcs: 77.5510204082 \n",
      "\n",
      "Best LN model cell 517445575 : \n",
      " Explained var: 0.34 \n",
      " n_pcs: 1 \n",
      " non linearity: exponential \n",
      "\n",
      "Best linear model cell 517445575 : \n",
      " Explained var: 0.15 \n",
      " n_pcs: 97.9591836735 \n",
      "\n",
      "Best LN model cell 517444426 : \n",
      " Explained var: 0.21 \n",
      " n_pcs: 1 \n",
      " non linearity: exponential \n",
      "\n",
      "Best linear model cell 517444426 : \n",
      " Explained var: 0.06 \n",
      " n_pcs: 97.9591836735 \n",
      "\n",
      "Best LN model cell 517442471 : \n",
      " Explained var: 0.06 \n",
      " n_pcs: 1 \n",
      " non linearity: exponential \n",
      "\n",
      "Best linear model cell 517442471 : \n",
      " Explained var: 0.01 \n",
      " n_pcs: 100.0 \n",
      "\n",
      "Best LN model cell 517443181 : \n",
      " Explained var: 0.03 \n",
      " n_pcs: 1 \n",
      " non linearity: sigmoid \n",
      "\n",
      "Best linear model cell 517443181 : \n",
      " Explained var: 0.0 \n",
      " n_pcs: 36.7346938776 \n",
      "\n",
      "Best LN model cell 517443087 : \n",
      " Explained var: 0.2 \n",
      " n_pcs: 6 \n",
      " non linearity: exponential \n",
      "\n",
      "Best linear model cell 517443087 : \n",
      " Explained var: 0.03 \n",
      " n_pcs: 32.6530612245 \n",
      "\n",
      "Best LN model cell 517446833 : \n",
      " Explained var: 0.3 \n",
      " n_pcs: 36 \n",
      " non linearity: exponential \n",
      "\n",
      "Best linear model cell 517446833 : \n",
      " Explained var: 0.13 \n",
      " n_pcs: 38.7755102041 \n",
      "\n",
      "Best LN model cell 517443827 : \n",
      " Explained var: 0.15 \n",
      " n_pcs: 1 \n",
      " non linearity: exponential \n",
      "\n",
      "Best linear model cell 517443827 : \n",
      " Explained var: 0.07 \n",
      " n_pcs: 57.1428571429 \n",
      "\n",
      "Best LN model cell 517443924 : \n",
      " Explained var: 0.25 \n",
      " n_pcs: 1 \n",
      " non linearity: exponential \n",
      "\n",
      "Best linear model cell 517443924 : \n",
      " Explained var: 0.09 \n",
      " n_pcs: 34.693877551 \n",
      "\n",
      "Best LN model cell 517443957 : \n",
      " Explained var: 0.09 \n",
      " n_pcs: 1 \n",
      " non linearity: exponential \n",
      "\n",
      "Best linear model cell 517443957 : \n",
      " Explained var: 0.02 \n",
      " n_pcs: 12.2448979592 \n",
      "\n",
      "Best LN model cell 517442722 : \n",
      " Explained var: 0.16 \n",
      " n_pcs: 1 \n",
      " non linearity: exponential \n",
      "\n",
      "Best linear model cell 517442722 : \n",
      " Explained var: 0.07 \n",
      " n_pcs: 79.5918367347 \n",
      "\n",
      "Best LN model cell 517446488 : \n",
      " Explained var: 0.22 \n",
      " n_pcs: 1 \n",
      " non linearity: exponential \n",
      "\n",
      "Best linear model cell 517446488 : \n",
      " Explained var: 0.11 \n",
      " n_pcs: 85.7142857143 \n",
      "\n",
      "Best LN model cell 517442675 : \n",
      " Explained var: 0.23 \n",
      " n_pcs: 1 \n",
      " non linearity: exponential \n",
      "\n",
      "Best linear model cell 517442675 : \n",
      " Explained var: 0.08 \n",
      " n_pcs: 85.7142857143 \n",
      "\n",
      "Best LN model cell 517446554 : \n",
      " Explained var: 0.12 \n",
      " n_pcs: 36 \n",
      " non linearity: exponential \n",
      "\n",
      "Best linear model cell 517446554 : \n",
      " Explained var: 0.02 \n",
      " n_pcs: 8.16326530612 \n",
      "\n",
      "Best LN model cell 517444175 : \n",
      " Explained var: 0.13 \n",
      " n_pcs: 11 \n",
      " non linearity: exponential \n",
      "\n",
      "Best linear model cell 517444175 : \n",
      " Explained var: 0.03 \n",
      " n_pcs: 79.5918367347 \n",
      "\n",
      "Best LN model cell 517443484 : \n",
      " Explained var: 0.36 \n",
      " n_pcs: 26 \n",
      " non linearity: exponential \n",
      "\n",
      "Best linear model cell 517443484 : \n",
      " Explained var: 0.17 \n",
      " n_pcs: 36.7346938776 \n",
      "\n",
      "Best LN model cell 517447069 : \n",
      " Explained var: 0.09 \n",
      " n_pcs: 6 \n",
      " non linearity: exponential \n",
      "\n",
      "Best linear model cell 517447069 : \n",
      " Explained var: 0.05 \n",
      " n_pcs: 53.0612244898 \n",
      "\n",
      "Best LN model cell 517443571 : \n",
      " Explained var: 0.12 \n",
      " n_pcs: 6 \n",
      " non linearity: exponential \n",
      "\n",
      "Best linear model cell 517443571 : \n",
      " Explained var: 0.03 \n",
      " n_pcs: 97.9591836735 \n",
      "\n"
     ]
    }
   ],
   "source": [
    "#now let's deal with runnign speed\n",
    "\n",
    "lin_rs_var = [];\n",
    "LN_rs_var = [];\n",
    "\n",
    "\n",
    "for k in LN_best.keys():\n",
    "    \n",
    "    lin_rs_var.append(l_rs_best_model[k][0])\n",
    "    LN_rs_var.append(LN_rs_best[k]['explained_variance'])\n",
    "    \n",
    "    print 'Best LN model cell', k, ': \\n Explained var:', round(LN_rs_best[k]['explained_variance'], 2), '\\n n_pcs:', LN_rs_best[k]['n_pcs'], '\\n non linearity:', LN_rs_best[k]['non_lin'], '\\n'\n",
    "    \n",
    "    print 'Best linear model cell', k, ': \\n Explained var:', round(l_rs_best_model[k][0], 2), '\\n n_pcs:', l_rs_best_model[k][1][1], '\\n'\n",
    "    "
   ]
  },
  {
   "cell_type": "code",
   "execution_count": 47,
   "metadata": {
    "collapsed": false
   },
   "outputs": [
    {
     "data": {
      "image/png": "[encoded data removed]",
      "text/plain": [
       "<matplotlib.figure.Figure at 0x121185390>"
      ]
     },
     "metadata": {},
     "output_type": "display_data"
    }
   ],
   "source": [
    "bins = np.linspace(0, .5, 20)\n",
    "\n",
    "ax = plt.subplot(111)\n",
    "plt.hist(lin_rs_var, bins, alpha=0.5, label='Linear Model + Running Speed')\n",
    "plt.hist(LN_rs_var, bins, alpha=0.5, label='LN Model + Running Speed')\n",
    "plt.legend(loc='upper right')\n",
    "simpleaxis(ax)\n",
    "plt.show()"
   ]
  },
  {
   "cell_type": "code",
   "execution_count": 70,
   "metadata": {
    "collapsed": false
   },
   "outputs": [
    {
     "data": {
      "image/png": "[encoded data removed]",
      "text/plain": [
       "<matplotlib.figure.Figure at 0x11d67c5d0>"
      ]
     },
     "metadata": {},
     "output_type": "display_data"
    }
   ],
   "source": [
    "bins = np.linspace(-.05, .4, 10)\n",
    "\n",
    "ax = plt.subplot(111)\n",
    "plt.hist(LN_var, alpha=0.5, label='LN Model')\n",
    "#plt.hist(LN_rs_var, bins, alpha=0.5, label='LN, plus running speed')\n",
    "plt.legend(loc='upper right')\n",
    "simpleaxis(ax)\n",
    "plt.show()"
   ]
  },
  {
   "cell_type": "code",
   "execution_count": 71,
   "metadata": {
    "collapsed": true
   },
   "outputs": [],
   "source": [
    "pkl_file = open('./boc/formatted/LNE_exp')\n",
    "(LNE_exp_best_model, LNE_exp_all_models) = pickle.load(pkl_file)\n",
    "pkl_file.close()\n",
    "\n",
    "pkl_file = open('./boc/formatted/LNE_relu')\n",
    "(LNE_relu_best_model, LNE_relu_all_models) = pickle.load(pkl_file)\n",
    "pkl_file.close()\n",
    "\n",
    "pkl_file = open('./boc/formatted/LNE_sig')\n",
    "(LNE_sig_best_model, LNE_sig_all_models) = pickle.load(pkl_file)\n",
    "pkl_file.close()"
   ]
  },
  {
   "cell_type": "code",
   "execution_count": 72,
   "metadata": {
    "collapsed": true
   },
   "outputs": [],
   "source": [
    "#first let's deal with the getting the LN best models. \n",
    "LNE_best = {k: {} for k in l_best_model.keys()}\n",
    "\n",
    "\n",
    "for k in l_best_model.keys():\n",
    "    best_model =  LNE_exp_best_model[k]\n",
    "    non_lin = 'exponential'\n",
    "    \n",
    "    if LNE_relu_best_model[k][0] > best_model[0]:\n",
    "        best_model = LNE_relu_best_model[k]\n",
    "        non_lin = 'relu'\n",
    "        \n",
    "    if LNE_sig_best_model[k][0] > best_model[0]:\n",
    "        best_model =  LNE_sig_best_model[k]\n",
    "        non_lin = 'sigmoid'\n",
    "        \n",
    "    LNE_best[k]['non_lin'] = non_lin\n",
    "    LNE_best[k]['n_pcs'] = best_model[1][1]\n",
    "    LNE_best[k]['explained_variance'] = best_model[0]"
   ]
  },
  {
   "cell_type": "code",
   "execution_count": 73,
   "metadata": {
    "collapsed": false
   },
   "outputs": [
    {
     "name": "stdout",
     "output_type": "stream",
     "text": [
      "Best LNE model cell 517442753 : \n",
      " Explained var: 0.08 \n",
      " n_pcs: 1 \n",
      " non linearity: exponential \n",
      "\n",
      "Best LNE model cell 517444738 : \n",
      " Explained var: 0.05 \n",
      " n_pcs: 20 \n",
      " non linearity: sigmoid \n",
      "\n",
      "Best LNE model cell 517443331 : \n",
      " Explained var: 0.09 \n",
      " n_pcs: 55 \n",
      " non linearity: relu \n",
      "\n",
      "Best LNE model cell 517442436 : \n",
      " Explained var: 0.08 \n",
      " n_pcs: 16 \n",
      " non linearity: exponential \n",
      "\n",
      "Best LNE model cell 517445575 : \n",
      " Explained var: 0.04 \n",
      " n_pcs: 50 \n",
      " non linearity: sigmoid \n",
      "\n",
      "Best LNE model cell 517444426 : \n",
      " Explained var: 0.07 \n",
      " n_pcs: 36 \n",
      " non linearity: exponential \n",
      "\n",
      "Best LNE model cell 517442471 : \n",
      " Explained var: 0.09 \n",
      " n_pcs: 90 \n",
      " non linearity: relu \n",
      "\n",
      "Best LNE model cell 517443181 : \n",
      " Explained var: 0.07 \n",
      " n_pcs: 25 \n",
      " non linearity: relu \n",
      "\n",
      "Best LNE model cell 517443087 : \n",
      " Explained var: 0.06 \n",
      " n_pcs: 56 \n",
      " non linearity: exponential \n",
      "\n",
      "Best LNE model cell 517446833 : \n",
      " Explained var: 0.06 \n",
      " n_pcs: 96 \n",
      " non linearity: exponential \n",
      "\n",
      "Best LNE model cell 517443827 : \n",
      " Explained var: 0.06 \n",
      " n_pcs: 100 \n",
      " non linearity: relu \n",
      "\n",
      "Best LNE model cell 517443924 : \n",
      " Explained var: 0.09 \n",
      " n_pcs: 65 \n",
      " non linearity: relu \n",
      "\n",
      "Best LNE model cell 517443957 : \n",
      " Explained var: 0.04 \n",
      " n_pcs: 35 \n",
      " non linearity: relu \n",
      "\n",
      "Best LNE model cell 517442722 : \n",
      " Explained var: 0.06 \n",
      " n_pcs: 66 \n",
      " non linearity: exponential \n",
      "\n",
      "Best LNE model cell 517446488 : \n",
      " Explained var: 0.07 \n",
      " n_pcs: 60 \n",
      " non linearity: sigmoid \n",
      "\n",
      "Best LNE model cell 517442675 : \n",
      " Explained var: 0.07 \n",
      " n_pcs: 80 \n",
      " non linearity: relu \n",
      "\n",
      "Best LNE model cell 517446554 : \n",
      " Explained var: 0.08 \n",
      " n_pcs: 10 \n",
      " non linearity: sigmoid \n",
      "\n",
      "Best LNE model cell 517444175 : \n",
      " Explained var: 0.1 \n",
      " n_pcs: 41 \n",
      " non linearity: exponential \n",
      "\n",
      "Best LNE model cell 517443484 : \n",
      " Explained var: 0.07 \n",
      " n_pcs: 10 \n",
      " non linearity: sigmoid \n",
      "\n",
      "Best LNE model cell 517447069 : \n",
      " Explained var: 0.06 \n",
      " n_pcs: 5 \n",
      " non linearity: relu \n",
      "\n",
      "Best LNE model cell 517443571 : \n",
      " Explained var: 0.06 \n",
      " n_pcs: 55 \n",
      " non linearity: relu \n",
      "\n"
     ]
    }
   ],
   "source": [
    "LNE_var = [];\n",
    "\n",
    "\n",
    "for k in LN_best.keys():\n",
    "    \n",
    "    LNE_var.append(LNE_best[k]['explained_variance'])\n",
    "    \n",
    "    print 'Best LNE model cell', k, ': \\n Explained var:', round(LNE_best[k]['explained_variance'], 2), '\\n n_pcs:', LNE_best[k]['n_pcs'], '\\n non linearity:', LNE_best[k]['non_lin'], '\\n'\n",
    "    \n",
    "    \n",
    "    "
   ]
  },
  {
   "cell_type": "code",
   "execution_count": 74,
   "metadata": {
    "collapsed": false
   },
   "outputs": [
    {
     "data": {
      "image/png": "[encoded data removed]",
      "text/plain": [
       "<matplotlib.figure.Figure at 0x120fc40d0>"
      ]
     },
     "metadata": {},
     "output_type": "display_data"
    }
   ],
   "source": [
    "bins = np.linspace(.02, .1, 15)\n",
    "\n",
    "ax = plt.subplot(111)\n",
    "plt.hist(LN_var, bins, alpha=0.5, label='LN Model')\n",
    "plt.hist(LNE_var, bins, alpha=0.5, label='LNE Model')\n",
    "plt.legend(loc='upper right')\n",
    "simpleaxis(ax)\n",
    "plt.show()"
   ]
  },
  {
   "cell_type": "code",
   "execution_count": 78,
   "metadata": {
    "collapsed": false
   },
   "outputs": [
    {
     "name": "stdout",
     "output_type": "stream",
     "text": [
      "0.0594841846653 0.0685082667116\n"
     ]
    }
   ],
   "source": [
    "print np.mean(LN_var), np.mean(LNE_var)"
   ]
  },
  {
   "cell_type": "code",
   "execution_count": 79,
   "metadata": {
    "collapsed": false
   },
   "outputs": [
    {
     "name": "stdout",
     "output_type": "stream",
     "text": [
      "Ttest_relResult(statistic=-1.836308883523968, pvalue=0.081223003845391523)\n"
     ]
    }
   ],
   "source": [
    "from scipy.stats import ttest_ind\n",
    "\n",
    "print ttest_rel(LN_var, LNE_var)\n"
   ]
  },
  {
   "cell_type": "code",
   "execution_count": 65,
   "metadata": {
    "collapsed": true
   },
   "outputs": [],
   "source": [
    "pkl_file = open('./boc/formatted/RA_Variance')\n",
    "Ra_Variance = pickle.load(pkl_file)\n",
    "pkl_file.close()"
   ]
  },
  {
   "cell_type": "code",
   "execution_count": 67,
   "metadata": {
    "collapsed": false
   },
   "outputs": [
    {
     "data": {
      "image/png": "[encoded data removed]",
      "text/plain": [
       "<matplotlib.figure.Figure at 0x11deae410>"
      ]
     },
     "metadata": {},
     "output_type": "display_data"
    }
   ],
   "source": [
    "bins = np.linspace(.02, .1, 15)\n",
    "\n",
    "ax = plt.subplot(111)\n",
    "plt.hist(Ra_Variance, bins, alpha=0.5, label='Explainable Variance')\n",
    "plt.legend(loc='upper right')\n",
    "simpleaxis(ax)\n",
    "plt.show()"
   ]
  },
  {
   "cell_type": "code",
   "execution_count": 68,
   "metadata": {
    "collapsed": false
   },
   "outputs": [
    {
     "data": {
      "text/plain": [
       "0.0040514927618000894"
      ]
     },
     "execution_count": 68,
     "metadata": {},
     "output_type": "execute_result"
    }
   ],
   "source": [
    "Ra_Variance"
   ]
  },
  {
   "cell_type": "code",
   "execution_count": null,
   "metadata": {
    "collapsed": true
   },
   "outputs": [],
   "source": []
  }
 ],
 "metadata": {
  "kernelspec": {
   "display_name": "Python 2",
   "language": "python",
   "name": "python2"
  },
  "language_info": {
   "codemirror_mode": {
    "name": "ipython",
    "version": 2
   },
   "file_extension": ".py",
   "mimetype": "text/x-python",
   "name": "python",
   "nbconvert_exporter": "python",
   "pygments_lexer": "ipython2",
   "version": "2.7.11"
  },
  "latex_envs": {
   "bibliofile": "biblio.bib",
   "cite_by": "apalike",
   "current_citInitial": 1,
   "eqLabelWithNumbers": true,
   "eqNumInitial": 0
  }
 },
 "nbformat": 4,
 "nbformat_minor": 0
}
