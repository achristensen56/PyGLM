{
 "cells": [
  {
   "cell_type": "code",
   "execution_count": 1,
   "metadata": {
    "collapsed": false
   },
   "outputs": [],
   "source": [
    "import matplotlib.pyplot as plt\n",
    "import matplotlib.patches as patches\n",
    "import numpy as np\n",
    "import glm_model as gm\n",
    "from glm_utils import *\n",
    "import tensorflow as tf\n",
    "\n",
    "%load_ext autoreload\n",
    "%autoreload 2\n",
    "%matplotlib inline"
   ]
  },
  {
   "cell_type": "code",
   "execution_count": 2,
   "metadata": {
    "collapsed": false
   },
   "outputs": [],
   "source": [
    "#finally get rid of the ugly ass allen code. We import the pickled design \n",
    "#matrix stimulus, which is PCA projection of the images, and the downsampled\n",
    "#traces. \n",
    "\n",
    "import pickle\n",
    "\n",
    "pkl_file = open('./boc/formatted/LMcelldata')\n",
    "data = pickle.load(pkl_file)\n",
    "pkl_file.close()\n",
    "\n",
    "pkl_file = open('./boc/formatted/LMstimdata')\n",
    "stim = pickle.load(pkl_file)\n",
    "pkl_file.close()"
   ]
  },
  {
   "cell_type": "code",
   "execution_count": 3,
   "metadata": {
    "collapsed": false
   },
   "outputs": [],
   "source": [
    "#get the number of features, and the number of training examples. \n",
    "l, n =  stim.shape"
   ]
  },
  {
   "cell_type": "code",
   "execution_count": 16,
   "metadata": {
    "collapsed": false
   },
   "outputs": [
    {
     "name": "stderr",
     "output_type": "stream",
     "text": [
      "0%                 100%\n",
      "[                     ]"
     ]
    },
    {
     "name": "stdout",
     "output_type": "stream",
     "text": [
      "testing non-linearity:  sigmoid ... testing  5  pc's...\n",
      "new best model for cell  517442753 . r2 test:  -0.0182863533618\n",
      "new best model for cell  517444738 . r2 test:  0.0333943210693\n",
      "new best model for cell  517443331 . r2 test:  -0.049448706472\n",
      "new best model for cell  517442436 . r2 test:  -0.0106242293441\n",
      "new best model for cell  517445575 . r2 test:  -0.0132940342871\n",
      "new best model for cell  517444426 . r2 test:  -0.0188204435957\n",
      "new best model for cell  517442471 . r2 test:  -0.0147391290516\n",
      "new best model for cell  517443181 . r2 test:  0.0296888566965\n",
      "new best model for cell  517443087 . r2 test:  0.04311650663\n",
      "new best model for cell  517446833 . r2 test:  -0.00478317388\n",
      "new best model for cell  517443827 . r2 test:  0.0117644820299\n",
      "new best model for cell  517443924 . r2 test:  -0.00679438524892\n",
      "new best model for cell  517443957 . r2 test:  -0.00277782907445\n",
      "new best model for cell  517442722 . r2 test:  -0.0255301348175\n",
      "new best model for cell  517446488 . r2 test:  0.0147342316195\n",
      "new best model for cell  517442675 . r2 test:  -0.0419298742009\n",
      "new best model for cell  517446554 . r2 test:  0.00262432727617\n",
      "new best model for cell  517444175 . r2 test:  -0.0046650007933\n",
      "new best model for cell  517443484 . r2 test:  -0.0248314262101\n",
      "new best model for cell  517447069 . r2 test:  -0.0336647376644\n",
      "new best model for cell  517443571 . r2 test:  0.00426478671493\n",
      "testing non-linearity:  sigmoid ... testing  10  pc's...\n"
     ]
    },
    {
     "name": "stderr",
     "output_type": "stream",
     "text": [
      "[#                    ] | ETA: 02:40:56"
     ]
    },
    {
     "name": "stdout",
     "output_type": "stream",
     "text": [
      "new best model for cell  517442753 . r2 test:  0.0209968629501\n",
      "new best model for cell  517443331 . r2 test:  0.0705174633422\n",
      "new best model for cell  517442436 . r2 test:  0.0229627527716\n",
      "new best model for cell  517444426 . r2 test:  0.00312231700602\n",
      "new best model for cell  517442471 . r2 test:  0.00785887189056\n",
      "new best model for cell  517443087 . r2 test:  0.0443397986054\n",
      "new best model for cell  517446833 . r2 test:  0.00328954701534\n",
      "new best model for cell  517443957 . r2 test:  0.000140361569815\n",
      "new best model for cell  517442722 . r2 test:  -0.00165869127262\n",
      "new best model for cell  517442675 . r2 test:  0.0197269958629\n",
      "new best model for cell  517446554 . r2 test:  0.0781465044736\n",
      "new best model for cell  517444175 . r2 test:  0.00845644365324\n",
      "new best model for cell  517443484 . r2 test:  0.0681273705541\n",
      "new best model for cell  517447069 . r2 test:  0.00997055896447\n",
      "testing non-linearity:  sigmoid ... testing  15  pc's...\n"
     ]
    },
    {
     "name": "stderr",
     "output_type": "stream",
     "text": [
      "[###                  ] | ETA: 03:31:42"
     ]
    },
    {
     "name": "stdout",
     "output_type": "stream",
     "text": [
      "new best model for cell  517442753 . r2 test:  0.0589511160311\n",
      "new best model for cell  517445575 . r2 test:  -0.00063286709133\n",
      "new best model for cell  517442471 . r2 test:  0.0114468400966\n",
      "new best model for cell  517446833 . r2 test:  0.0192106942954\n",
      "new best model for cell  517443827 . r2 test:  0.0154961181939\n",
      "new best model for cell  517443924 . r2 test:  0.0130453369692\n",
      "new best model for cell  517443957 . r2 test:  0.000852742942015\n",
      "new best model for cell  517443571 . r2 test:  0.0119887130278\n",
      "testing non-linearity:  sigmoid ... testing  20  pc's...\n"
     ]
    },
    {
     "name": "stderr",
     "output_type": "stream",
     "text": [
      "[####                 ] | ETA: 03:46:42"
     ]
    },
    {
     "name": "stdout",
     "output_type": "stream",
     "text": [
      "new best model for cell  517444738 . r2 test:  0.0488103444089\n",
      "new best model for cell  517444426 . r2 test:  0.00754865177491\n",
      "new best model for cell  517442471 . r2 test:  0.041137743197\n",
      "new best model for cell  517443087 . r2 test:  0.051983065574\n",
      "new best model for cell  517443827 . r2 test:  0.0562742455173\n",
      "new best model for cell  517443924 . r2 test:  0.0518314247012\n",
      "new best model for cell  517443957 . r2 test:  0.0188940747508\n",
      "new best model for cell  517442722 . r2 test:  0.0166935182641\n",
      "new best model for cell  517447069 . r2 test:  0.0167039458678\n",
      "testing non-linearity:  sigmoid ... testing  25  pc's...\n"
     ]
    },
    {
     "name": "stderr",
     "output_type": "stream",
     "text": [
      "[#####                ] | ETA: 03:50:13"
     ]
    },
    {
     "name": "stdout",
     "output_type": "stream",
     "text": [
      "new best model for cell  517445575 . r2 test:  0.0292538432454\n",
      "new best model for cell  517443957 . r2 test:  0.0191097113595\n",
      "new best model for cell  517444175 . r2 test:  0.024085223225\n",
      "testing non-linearity:  sigmoid ... testing  30  pc's...\n",
      "new best model for cell  517443957 . r2 test:  0.0201179302295\n",
      "new best model for cell  517446488 . r2 test:  0.0294020702334\n",
      "testing non-linearity:  sigmoid ... testing  35  pc's...\n"
     ]
    },
    {
     "name": "stderr",
     "output_type": "stream",
     "text": [
      "[######               ] | ETA: 03:45:22"
     ]
    },
    {
     "name": "stdout",
     "output_type": "stream",
     "text": [
      "testing non-linearity:  sigmoid ... testing  40  pc's...\n"
     ]
    },
    {
     "name": "stderr",
     "output_type": "stream",
     "text": [
      "[########             ] | ETA: 03:40:27"
     ]
    },
    {
     "name": "stdout",
     "output_type": "stream",
     "text": [
      "new best model for cell  517442722 . r2 test:  0.035684739546\n",
      "new best model for cell  517442675 . r2 test:  0.035763683496\n",
      "new best model for cell  517444175 . r2 test:  0.0314457094694\n",
      "testing non-linearity:  sigmoid ... testing  45  pc's...\n"
     ]
    },
    {
     "name": "stderr",
     "output_type": "stream",
     "text": [
      "[#########            ] | ETA: 03:34:30"
     ]
    },
    {
     "name": "stdout",
     "output_type": "stream",
     "text": [
      "testing non-linearity:  sigmoid ... testing  50  pc's...\n"
     ]
    },
    {
     "name": "stderr",
     "output_type": "stream",
     "text": [
      "[##########           ] | ETA: 03:27:14"
     ]
    },
    {
     "name": "stdout",
     "output_type": "stream",
     "text": [
      "new best model for cell  517445575 . r2 test:  0.0436995510455\n",
      "new best model for cell  517443181 . r2 test:  0.0533682253463\n",
      "new best model for cell  517443827 . r2 test:  0.0568168293432\n",
      "testing non-linearity:  sigmoid ... testing  55  pc's...\n",
      "testing non-linearity:  sigmoid ... testing  60  pc's...\n"
     ]
    },
    {
     "name": "stderr",
     "output_type": "stream",
     "text": [
      "[###########          ] | ETA: 05:04:14"
     ]
    },
    {
     "name": "stdout",
     "output_type": "stream",
     "text": [
      "new best model for cell  517446488 . r2 test:  0.0657708673074\n",
      "new best model for cell  517443571 . r2 test:  0.0327553113845\n",
      "testing non-linearity:  sigmoid ... testing  65  pc's...\n"
     ]
    },
    {
     "name": "stderr",
     "output_type": "stream",
     "text": [
      "[############         ] | ETA: 04:26:56"
     ]
    },
    {
     "name": "stdout",
     "output_type": "stream",
     "text": [
      "testing non-linearity:  sigmoid ... testing  70  pc's...\n"
     ]
    },
    {
     "name": "stderr",
     "output_type": "stream",
     "text": [
      "[##############       ] | ETA: 03:51:43"
     ]
    },
    {
     "name": "stdout",
     "output_type": "stream",
     "text": [
      "new best model for cell  517442675 . r2 test:  0.05497114958\n",
      "testing non-linearity:  sigmoid ... testing  75  pc's...\n"
     ]
    },
    {
     "name": "stderr",
     "output_type": "stream",
     "text": [
      "[###############      ] | ETA: 03:17:40"
     ]
    },
    {
     "name": "stdout",
     "output_type": "stream",
     "text": [
      "new best model for cell  517444426 . r2 test:  0.0190049815028\n",
      "new best model for cell  517443957 . r2 test:  0.0334459673117\n",
      "testing non-linearity:  sigmoid ... testing  80  pc's...\n",
      "testing non-linearity:  sigmoid ... testing  85  pc's...\n"
     ]
    },
    {
     "name": "stderr",
     "output_type": "stream",
     "text": [
      "[################     ] | ETA: 02:11:12"
     ]
    },
    {
     "name": "stdout",
     "output_type": "stream",
     "text": [
      "new best model for cell  517447069 . r2 test:  0.0436457727467\n",
      "new best model for cell  517443571 . r2 test:  0.0418155715132\n",
      "testing non-linearity:  sigmoid ... testing  90  pc's...\n"
     ]
    },
    {
     "name": "stderr",
     "output_type": "stream",
     "text": [
      "[#################    ] | ETA: 01:38:24"
     ]
    },
    {
     "name": "stdout",
     "output_type": "stream",
     "text": [
      "new best model for cell  517444426 . r2 test:  0.0418465532715\n",
      "testing non-linearity:  sigmoid ... testing  95  pc's...\n"
     ]
    },
    {
     "name": "stderr",
     "output_type": "stream",
     "text": [
      "[###################  ] | ETA: 01:05:46"
     ]
    },
    {
     "name": "stdout",
     "output_type": "stream",
     "text": [
      "testing non-linearity:  sigmoid ... testing  100  pc's...\n"
     ]
    },
    {
     "name": "stderr",
     "output_type": "stream",
     "text": [
      "[#################### ] | ETA: 00:33:01"
     ]
    },
    {
     "name": "stdout",
     "output_type": "stream",
     "text": [
      "testing non-linearity:  sigmoid ... testing  105  pc's...\n"
     ]
    },
    {
     "name": "stderr",
     "output_type": "stream",
     "text": [
      "[#####################] | ETA: 00:00:00\n",
      "Total time elapsed: 11:38:17\n"
     ]
    }
   ],
   "source": [
    "from statsmodels.tsa.tsatools import lagmat\n",
    "from sklearn.cross_validation import train_test_split\n",
    "from scipy.stats import linregress\n",
    "from itertools import product\n",
    "import pyprind\n",
    "\n",
    "import sys\n",
    "\n",
    "n_pcs = range(5, 110, 5)\n",
    "non_lin = [1]\n",
    "non_lin_dict = {1: \"sigmoid\", 2: \"relu\"}\n",
    "alpha = .1\n",
    "\n",
    "#empty dictionary\n",
    "best_model = {k: (-np.inf, None) for k in data.keys()}\n",
    "\n",
    "#make a dictionary of dictionaries to store the results\n",
    "scores_dict = {k: {} for k in data.keys()}\n",
    "\n",
    "bar = pyprind.ProgBar(len(n_pcs)*len(non_lin))\n",
    "\n",
    "for (l, n) in product(non_lin, n_pcs):\n",
    "    print \"testing non-linearity: \", non_lin_dict[l], \"... testing \", n, \" pc's...\"\n",
    "    sys.stdout.flush()\n",
    "    \n",
    "    #lagged_stim = lagmat(stim[:, 0:n], maxlag = nlag, trim = None)[1:-1]         \n",
    "    bar.update()\n",
    "    \n",
    "    for c in data.keys():\n",
    "        X_train, X_test, y_train, y_test = train_test_split(stim[:, 0:n], np.array(data[c]))     \n",
    "        weight_init = np.linalg.pinv(X_train).dot(y_train)[:, np.newaxis]\n",
    "\n",
    "        if l == 1:\n",
    "            nonlin = tf.nn.sigmoid\n",
    "        if l == 2:\n",
    "            nonlin = tf.nn.relu\n",
    "        \n",
    "        model = gm.exponential_GLM(weight_init, non_lin = nonlin, verbose = False, lr = 1e-2, alpha = 0)\n",
    "        cv, loss = model.fit(X_train, y_train[:, np.newaxis], X_test, y_test[:, np.newaxis], max_iters = 100) \n",
    "    \n",
    "    \n",
    "        _, _, r2_test,_, _ = linregress(np.squeeze(model.predict_trace(X_test)), np.squeeze(y_test))\n",
    "        _, _, r2_train,_, _ = linregress(np.squeeze(model.predict_trace(X_train)), np.squeeze(y_train))\n",
    "\n",
    "        scores_dict[c][(l, n)] = (r2_test, r2_train) \n",
    "\n",
    "        if r2_test > best_model[c][0]:\n",
    "            best_model[c] = (r2_test, (l, n))\n",
    "            print \"new best model for cell \", c, \". r2 test: \", r2_test\n"
   ]
  },
  {
   "cell_type": "code",
   "execution_count": 7,
   "metadata": {
    "collapsed": false
   },
   "outputs": [],
   "source": [
    "pkl_file = open('./boc/formatted/LNE_sig', 'wb')\n",
    "pickle.dump((best_model, scores_dict), pkl_file)\n",
    "pkl_file.close()"
   ]
  },
  {
   "cell_type": "code",
   "execution_count": null,
   "metadata": {
    "collapsed": true
   },
   "outputs": [],
   "source": []
  }
 ],
 "metadata": {
  "kernelspec": {
   "display_name": "Python 2",
   "language": "python",
   "name": "python2"
  },
  "language_info": {
   "codemirror_mode": {
    "name": "ipython",
    "version": 2
   },
   "file_extension": ".py",
   "mimetype": "text/x-python",
   "name": "python",
   "nbconvert_exporter": "python",
   "pygments_lexer": "ipython2",
   "version": "2.7.11"
  },
  "latex_envs": {
   "bibliofile": "biblio.bib",
   "cite_by": "apalike",
   "current_citInitial": 1,
   "eqLabelWithNumbers": true,
   "eqNumInitial": 0
  }
 },
 "nbformat": 4,
 "nbformat_minor": 0
}
