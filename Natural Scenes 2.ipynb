{
 "cells": [
  {
   "cell_type": "code",
   "execution_count": 1,
   "metadata": {
    "collapsed": false
   },
   "outputs": [],
   "source": [
    "import matplotlib.pyplot as plt\n",
    "import matplotlib.patches as patches\n",
    "import numpy as np\n",
    "import glm_model as gm\n",
    "from glm_utils import *\n",
    "from scipy.stats import linregress\n",
    "import pprint\n",
    "import allensdk.brain_observatory.stimulus_info as stim_info\n",
    "from allensdk.core.brain_observatory_cache import BrainObservatoryCache\n",
    "import tensorflow as tf\n",
    "\n",
    "%load_ext autoreload\n",
    "%autoreload 2\n",
    "%matplotlib inline\n",
    "\n",
    "boc = BrainObservatoryCache(manifest_file='boc/manifest.json')"
   ]
  },
  {
   "cell_type": "markdown",
   "metadata": {},
   "source": [
    "<font face = 'Computer Modern', size = 3>\n",
    "\n",
    "<ul> plan of action \n",
    "\n",
    "<li >download ~ 100 cells from 1 experiment. i.e. primary visual cortex, layer 2/3. (Make it easy to change in code which experiment) </li>\n",
    "\n",
    "<li>all of these cells should be significantly modulated by natural scenes (whatever that means) - ie time to peak ~50-150 ms... </li>\n",
    "\n",
    "<li>this means *each cell* will have the *same* design matrix. </li>\n",
    "\n",
    "<li>go through and make tensor for all cells to calculate slope and goodness of fit of linear mean vs. std-deviation curve </li>\n",
    "\n",
    "<li>store traces in dictionary with key that is cell id. </li>\n",
    "\n",
    "<li>store parameters of learned model in a dictionary, key is cell id. (need initial weight matrix, final weight matrix, scale, offset) </li>\n",
    "\n",
    "<li>final deliverable: histogram of R^2's for all model types </li>\n"
   ]
  },
  {
   "cell_type": "code",
   "execution_count": 2,
   "metadata": {
    "collapsed": false
   },
   "outputs": [
    {
     "name": "stdout",
     "output_type": "stream",
     "text": [
      "Experiment containers: 3\n",
      "total cells: 18260\n",
      "VISp, SCnn1a, 350um imaging depth cells: 923\n",
      "Cells that with significant response to natural scenes: 340\n"
     ]
    }
   ],
   "source": [
    "import pandas as pd\n",
    "\n",
    "# Download experiment containers for VISp experiments, with imaging depth 350 \n",
    "visp_ecs = boc.get_experiment_containers(targeted_structures=['VISp'], imaging_depths = [350], cre_lines=['Scnn1a-Tg3-Cre'])\n",
    "print(\"Experiment containers: %d\" % len(visp_ecs))\n",
    "\n",
    "# Download cells for a set of experiments and convert to DataFrame\n",
    "cells = boc.get_cell_specimens()\n",
    "cells = pd.DataFrame.from_records(cells)\n",
    "print(\"total cells: %d\" % len(cells))\n",
    "\n",
    "# find direction selective cells in VISp\n",
    "visp_ec_ids = [ ec['id'] for ec in visp_ecs ]\n",
    "visp_cells = cells[cells['experiment_container_id'].isin(visp_ec_ids)]\n",
    "print(\"Layer 4 cells from primary visual cortex: %d\" % len(visp_cells))\n",
    "\n",
    "\n",
    "ns_cells = visp_cells[(visp_cells['p_ns'] < 0.05) & (visp_cells['p_ns'] > 0.0) & \n",
    "                      (visp_cells['time_to_peak_ns'] > 0.001) & visp_cells['time_to_peak_ns'] < 1]\n",
    "\n",
    "print(\"Cells that with significant response to natural scenes: %d\" % len(ns_cells))"
   ]
  },
  {
   "cell_type": "code",
   "execution_count": 52,
   "metadata": {
    "collapsed": false
   },
   "outputs": [
    {
     "data": {
      "text/plain": [
       "134"
      ]
     },
     "execution_count": 52,
     "metadata": {},
     "output_type": "execute_result"
    }
   ],
   "source": [
    "#ie there are 127 cells from experiment container id 511498742 with'significant \n",
    "sum([c['experiment_container_id'] == visp_ecs[0]['id'] for i, c in ns_cells.iterrows()])"
   ]
  },
  {
   "cell_type": "code",
   "execution_count": 53,
   "metadata": {
    "collapsed": false
   },
   "outputs": [
    {
     "data": {
      "text/plain": [
       "511510911"
      ]
     },
     "execution_count": 53,
     "metadata": {},
     "output_type": "execute_result"
    }
   ],
   "source": [
    "visp_ecs[0]['id']"
   ]
  },
  {
   "cell_type": "code",
   "execution_count": 54,
   "metadata": {
    "collapsed": false
   },
   "outputs": [],
   "source": [
    "#just look at cells from the first experiment container\n",
    "exp = boc.get_ophys_experiments(experiment_container_ids=[visp_ecs[0]['id']], stimuli = [stim_info.NATURAL_SCENES])\n",
    "data_set = boc.get_ophys_experiment_data(exp[0]['id'])\n"
   ]
  },
  {
   "cell_type": "code",
   "execution_count": 55,
   "metadata": {
    "collapsed": false
   },
   "outputs": [],
   "source": [
    "#get all the traces. \n",
    "#WRITE THIS IN A MORE EFFICIENT WAY!!!\n",
    "\n",
    "from allensdk.brain_observatory.dff import compute_dff\n",
    "\n",
    "\n",
    "dff_dict = {}\n",
    "\n",
    "for cell_s in data_set.get_cell_specimen_ids():\n",
    "    for cell_can in ns_cells['cell_specimen_id']:\n",
    "        if cell_s == cell_can:\n",
    "            time, corrected_traces = data_set.get_corrected_fluorescence_traces(cell_specimen_ids=[cell_s])\n",
    "            dff_dict[cell_s] = np.squeeze(compute_dff(np.array(corrected_traces))[0])\n"
   ]
  },
  {
   "cell_type": "code",
   "execution_count": 56,
   "metadata": {
    "collapsed": true
   },
   "outputs": [],
   "source": [
    "# read in the array of images\n",
    "#get the stimulus\n",
    "scenes = data_set.get_stimulus_template('natural_scenes')\n",
    "stim_table = data_set.get_stimulus_table(stim_info.NATURAL_SCENES)\n"
   ]
  },
  {
   "cell_type": "code",
   "execution_count": 57,
   "metadata": {
    "collapsed": false
   },
   "outputs": [
    {
     "data": {
      "text/plain": [
       "21"
      ]
     },
     "execution_count": 57,
     "metadata": {},
     "output_type": "execute_result"
    }
   ],
   "source": [
    "len(dff_dict)"
   ]
  },
  {
   "cell_type": "code",
   "execution_count": 9,
   "metadata": {
    "collapsed": false
   },
   "outputs": [],
   "source": [
    "#we make the design matrix, and corresponding dff array - using the stimulus table to tell us when a natural image was presented.\n",
    "#we resize the stimulus to a 20 by 20 image. \n",
    "import cv2\n",
    "from scipy.stats import norm\n",
    "\n",
    "\n",
    "m = np.mean(scenes)\n",
    "sig = np.std(scenes)\n",
    "\n",
    "scenes = (scenes - m)/sig\n",
    "\n",
    "stim_array = []\n",
    "\n",
    "data = {k: [] for k in dff_dict.keys()}\n",
    "\n",
    "H = 20\n",
    "W = 20\n",
    "\n",
    "for index, row in stim_table.iterrows():\n",
    "    for i in range(row['start'], row['end']):\n",
    "        stim_array.append(cv2.resize(scenes[row.frame,:,:], (H, W)))\n",
    "        for c in dff_dict.keys():\n",
    "            data[c].append(dff_dict[c][i])\n",
    "            \n",
    "        \n",
    "\n",
    "stim_array = np.array(stim_array).reshape([-1, H*W])\n",
    "\n",
    "n = 20\n",
    "basis = norm.pdf(range(0, n), loc = n/2, scale = n/8)\n",
    "\n",
    "basis = basis[6:]\n",
    "basis[0:4] = 0\n",
    "basis /= sum(basis)\n",
    "\n",
    "l, n = stim_array.shape\n",
    "\n",
    "for i in range(n):\n",
    "    stim_array[:, i] = np.squeeze(np.convolve(stim_array[:, i], basis)[0:l])"
   ]
  },
  {
   "cell_type": "code",
   "execution_count": 10,
   "metadata": {
    "collapsed": false
   },
   "outputs": [
    {
     "data": {
      "text/plain": [
       "[<matplotlib.lines.Line2D at 0x123a80410>]"
      ]
     },
     "execution_count": 10,
     "metadata": {},
     "output_type": "execute_result"
    },
    {
     "data": {
      "image/png": "[encoded data removed]",
      "text/plain": [
       "<matplotlib.figure.Figure at 0x11e3cd250>"
      ]
     },
     "metadata": {},
     "output_type": "display_data"
    }
   ],
   "source": [
    "#plot one example just to make sure shit makes sense\n",
    "plt.plot(data[c])"
   ]
  },
  {
   "cell_type": "code",
   "execution_count": 58,
   "metadata": {
    "collapsed": false
   },
   "outputs": [
    {
     "name": "stderr",
     "output_type": "stream",
     "text": [
      "0%                          100%\n",
      "[******************************] | ETA: 00:00:00\n",
      "Total time elapsed: 00:01:38\n",
      "0%                          100%\n",
      "[******************************] | ETA: 00:00:00\n",
      "Total time elapsed: 00:01:37\n",
      "0%                          100%\n",
      "[******************************] | ETA: 00:00:00\n",
      "Total time elapsed: 00:01:38\n",
      "0%                          100%\n",
      "[******************************] | ETA: 00:00:00\n",
      "Total time elapsed: 00:01:35\n",
      "0%                          100%\n",
      "[******************************] | ETA: 00:00:00\n",
      "Total time elapsed: 00:01:33\n",
      "0%                          100%\n",
      "[******************************] | ETA: 00:00:00\n",
      "Total time elapsed: 00:01:33\n",
      "0%                          100%\n",
      "[******************************] | ETA: 00:00:00\n",
      "Total time elapsed: 00:01:33\n",
      "0%                          100%\n",
      "[******************************] | ETA: 00:00:00\n",
      "Total time elapsed: 00:01:34\n",
      "0%                          100%\n",
      "[******************************] | ETA: 00:00:00\n",
      "Total time elapsed: 00:01:34\n",
      "0%                          100%\n",
      "[******************************] | ETA: 00:00:00\n",
      "Total time elapsed: 00:01:32\n",
      "0%                          100%\n",
      "[******************************] | ETA: 00:00:00\n",
      "Total time elapsed: 00:01:33\n",
      "0%                          100%\n",
      "[******************************] | ETA: 00:00:00\n",
      "Total time elapsed: 00:25:24\n",
      "0%                          100%\n",
      "[******************************] | ETA: 00:00:00\n",
      "Total time elapsed: 00:01:34\n",
      "0%                          100%\n",
      "[******************************] | ETA: 00:00:00\n",
      "Total time elapsed: 00:01:35\n",
      "0%                          100%\n",
      "[******************************] | ETA: 00:00:00\n",
      "Total time elapsed: 00:01:33\n",
      "0%                          100%\n",
      "[******************************] | ETA: 00:00:00\n",
      "Total time elapsed: 00:01:34\n",
      "0%                          100%\n",
      "[******************************] | ETA: 00:00:00\n",
      "Total time elapsed: 00:01:36\n",
      "0%                          100%\n",
      "[******************************] | ETA: 00:00:00\n",
      "Total time elapsed: 00:01:35\n",
      "0%                          100%\n",
      "[******************************] | ETA: 00:00:00\n",
      "Total time elapsed: 00:01:33\n",
      "0%                          100%\n",
      "[******************************] | ETA: 00:00:00\n",
      "Total time elapsed: 00:01:32\n",
      "0%                          100%\n",
      "[******************************] | ETA: 00:00:00\n",
      "Total time elapsed: 00:01:32\n"
     ]
    }
   ],
   "source": [
    "#Go through and fit each model\n",
    "from sklearn.cross_validation import train_test_split\n",
    "\n",
    "\n",
    "params = {}\n",
    "\n",
    "for c in data.keys():\n",
    "    \n",
    "    X_train, X_test, y_train, y_test = train_test_split(stim_array, np.array(data[c]))\n",
    "    \n",
    "    weight_init = inv_design = np.linalg.pinv(X_train).dot(y_train)\n",
    "    \n",
    "    model = gm.exponential_GLM(400, weight_init.reshape([400, 1]), alpha = 0,\n",
    "                               non_lin = tf.exp, lr = .001, bias_init = 0, \n",
    "                            scale_init= .4, train_params = True)\n",
    "\n",
    "    training_loss, test_loss  = model.fit(X_train, y_train[:, np.newaxis], X_test, y_test[:, np.newaxis], batch_size = 10000, max_iters=1000)\n",
    "    \n",
    "    w, o, s  = model.get_params()\n",
    "    \n",
    "    _, _, r_value_fit,_, _ = linregress(np.squeeze(cond_int(np.exp, w, X_test, s, o)), np.squeeze(y_test))\n",
    "\n",
    "    _, _, r_value,_, _ = linregress(np.squeeze(X_test.dot(weight_init)), np.squeeze(y_test))\n",
    "    \n",
    "    params[c] = (w, o, s, r_value_fit**2, r_value**2)"
   ]
  },
  {
   "cell_type": "code",
   "execution_count": 12,
   "metadata": {
    "collapsed": true
   },
   "outputs": [],
   "source": [
    "ols_r = []\n",
    "glm_r = []\n",
    "\n",
    "for c in params.keys():\n",
    "    w, o, s, r_value_fit, r_value = params[c]\n",
    "    \n",
    "    ols_r.append(r_value)\n",
    "    glm_r.append(r_value_fit)\n",
    "    "
   ]
  },
  {
   "cell_type": "code",
   "execution_count": 27,
   "metadata": {
    "collapsed": false
   },
   "outputs": [
    {
     "data": {
      "image/png": "[encoded data removed]",
      "text/plain": [
       "<matplotlib.figure.Figure at 0x12eb2b410>"
      ]
     },
     "metadata": {},
     "output_type": "display_data"
    }
   ],
   "source": [
    "plt.subplot(211)\n",
    "plt.hist(np.array(ols_r), color = 'r', label = 'linear predictions')\n",
    "plt.legend()\n",
    "plt.subplot(212)\n",
    "plt.hist(np.array(glm_r), color = 'b', label = 'gamma GLM predictions')\n",
    "plt.legend()\n",
    "plt.show()"
   ]
  },
  {
   "cell_type": "code",
   "execution_count": 26,
   "metadata": {
    "collapsed": false
   },
   "outputs": [
    {
     "name": "stdout",
     "output_type": "stream",
     "text": [
      "0.000771112477142 0.000668970434637 0.0017264794733 0.00467341925073\n"
     ]
    }
   ],
   "source": [
    "print np.mean(ols_r), np.std(ols_r), np.mean(glm_r), np.std(glm_r)"
   ]
  },
  {
   "cell_type": "code",
   "execution_count": null,
   "metadata": {
    "collapsed": true
   },
   "outputs": [],
   "source": []
  }
 ],
 "metadata": {
  "kernelspec": {
   "display_name": "Python 2",
   "language": "python",
   "name": "python2"
  },
  "language_info": {
   "codemirror_mode": {
    "name": "ipython",
    "version": 2
   },
   "file_extension": ".py",
   "mimetype": "text/x-python",
   "name": "python",
   "nbconvert_exporter": "python",
   "pygments_lexer": "ipython2",
   "version": "2.7.11"
  },
  "latex_envs": {
   "bibliofile": "biblio.bib",
   "cite_by": "apalike",
   "current_citInitial": 1,
   "eqLabelWithNumbers": true,
   "eqNumInitial": 0
  }
 },
 "nbformat": 4,
 "nbformat_minor": 0
}
