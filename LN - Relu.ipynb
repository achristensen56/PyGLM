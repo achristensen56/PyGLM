{
 "cells": [
  {
   "cell_type": "code",
   "execution_count": 1,
   "metadata": {
    "collapsed": false
   },
   "outputs": [],
   "source": [
    "import matplotlib.pyplot as plt\n",
    "import matplotlib.patches as patches\n",
    "import numpy as np\n",
    "import glm_model as gm\n",
    "from glm_utils import *\n",
    "import tensorflow as tf\n",
    "\n",
    "%load_ext autoreload\n",
    "%autoreload 2\n",
    "%matplotlib inline"
   ]
  },
  {
   "cell_type": "code",
   "execution_count": 2,
   "metadata": {
    "collapsed": false
   },
   "outputs": [],
   "source": [
    "#finally get rid of the ugly ass allen code. We import the pickled design \n",
    "#matrix stimulus, which is PCA projection of the images, and the downsampled\n",
    "#traces. \n",
    "\n",
    "import pickle\n",
    "\n",
    "pkl_file = open('./boc/formatted/LMcelldata')\n",
    "data = pickle.load(pkl_file)\n",
    "pkl_file.close()\n",
    "\n",
    "pkl_file = open('./boc/formatted/LMstimdata')\n",
    "stim = pickle.load(pkl_file)\n",
    "pkl_file.close()\n",
    "\n",
    "\n",
    "pkl_file = open('./boc/formatted/im_array')\n",
    "im_array = pickle.load(pkl_file)\n",
    "pkl_file.close()"
   ]
  },
  {
   "cell_type": "code",
   "execution_count": 5,
   "metadata": {
    "collapsed": false
   },
   "outputs": [],
   "source": [
    "#get the number of features, and the number of training examples. \n",
    "l, n =  stim.shape"
   ]
  },
  {
   "cell_type": "code",
   "execution_count": 7,
   "metadata": {
    "collapsed": false
   },
   "outputs": [
    {
     "name": "stderr",
     "output_type": "stream",
     "text": [
      "0%                100%\n",
      "[                    ]"
     ]
    },
    {
     "name": "stdout",
     "output_type": "stream",
     "text": [
      "testing non-linearity:  relu ... testing  10  pc's...\n"
     ]
    },
    {
     "name": "stderr",
     "output_type": "stream",
     "text": [
      "[#                   ] | ETA: 00:00:00"
     ]
    },
    {
     "name": "stdout",
     "output_type": "stream",
     "text": [
      "new best model for cell  517442753 . r2 test:  -0.00989252557541\n",
      "new best model for cell  517444738 . r2 test:  -0.0193311471369\n",
      "new best model for cell  517443331 . r2 test:  0.0473550471913\n",
      "new best model for cell  517442436 . r2 test:  -0.0157361450307\n",
      "new best model for cell  517445575 . r2 test:  0.033766990586\n",
      "new best model for cell  517444426 . r2 test:  0.0388195650162\n",
      "new best model for cell  517442471 . r2 test:  -0.0263765159891\n",
      "new best model for cell  517443181 . r2 test:  0.0396075638719\n",
      "new best model for cell  517443087 . r2 test:  0.0295028852814\n",
      "new best model for cell  517446833 . r2 test:  0.0523760403828\n",
      "new best model for cell  517443827 . r2 test:  0.0378457104075\n",
      "new best model for cell  517443924 . r2 test:  0.0107795984228\n",
      "new best model for cell  517443957 . r2 test:  0.00829872961617\n",
      "new best model for cell  517442722 . r2 test:  0.0235566878996\n",
      "new best model for cell  517446488 . r2 test:  0.0197038861131\n",
      "new best model for cell  517442675 . r2 test:  0.0103628281626\n",
      "new best model for cell  517446554 . r2 test:  0.00897588219972\n",
      "new best model for cell  517444175 . r2 test:  0.00681176414696\n",
      "new best model for cell  517443484 . r2 test:  0.0359957968786\n",
      "new best model for cell  517447069 . r2 test:  -0.0302680888892\n",
      "new best model for cell  517443571 . r2 test:  0.0230822462437\n",
      "testing non-linearity:  relu ... testing  15  pc's...\n"
     ]
    },
    {
     "name": "stderr",
     "output_type": "stream",
     "text": [
      "[##                  ] | ETA: 00:25:04"
     ]
    },
    {
     "name": "stdout",
     "output_type": "stream",
     "text": [
      "new best model for cell  517442753 . r2 test:  0.0526490482783\n",
      "new best model for cell  517442471 . r2 test:  0.0243114549555\n",
      "new best model for cell  517443924 . r2 test:  0.0259004907198\n",
      "new best model for cell  517446488 . r2 test:  0.0510263230815\n",
      "new best model for cell  517442675 . r2 test:  0.0678688608365\n",
      "new best model for cell  517447069 . r2 test:  0.00605832774506\n",
      "testing non-linearity:  relu ... testing  20  pc's...\n"
     ]
    },
    {
     "name": "stderr",
     "output_type": "stream",
     "text": [
      "[###                 ] | ETA: 00:34:54"
     ]
    },
    {
     "name": "stdout",
     "output_type": "stream",
     "text": [
      "new best model for cell  517444738 . r2 test:  -0.0133713858559\n",
      "new best model for cell  517446554 . r2 test:  0.0575814432632\n",
      "testing non-linearity:  relu ... testing  25  pc's...\n"
     ]
    },
    {
     "name": "stderr",
     "output_type": "stream",
     "text": [
      "[####                ] | ETA: 00:40:51"
     ]
    },
    {
     "name": "stdout",
     "output_type": "stream",
     "text": [
      "new best model for cell  517442436 . r2 test:  -0.0156914317004\n",
      "new best model for cell  517442471 . r2 test:  0.0290312679237\n",
      "new best model for cell  517442722 . r2 test:  0.0507227744701\n",
      "new best model for cell  517444175 . r2 test:  0.0259996802684\n",
      "testing non-linearity:  relu ... testing  30  pc's...\n"
     ]
    },
    {
     "name": "stderr",
     "output_type": "stream",
     "text": [
      "[#####               ] | ETA: 00:44:54"
     ]
    },
    {
     "name": "stdout",
     "output_type": "stream",
     "text": [
      "new best model for cell  517444738 . r2 test:  -0.00463948255825\n",
      "new best model for cell  517442436 . r2 test:  0.00923206172821\n",
      "testing non-linearity:  relu ... testing  35  pc's...\n"
     ]
    },
    {
     "name": "stderr",
     "output_type": "stream",
     "text": [
      "[######              ] | ETA: 00:47:52"
     ]
    },
    {
     "name": "stdout",
     "output_type": "stream",
     "text": [
      "new best model for cell  517442471 . r2 test:  0.0539006835083\n",
      "new best model for cell  517443957 . r2 test:  0.0172631474288\n",
      "new best model for cell  517442675 . r2 test:  0.0695552753816\n",
      "new best model for cell  517447069 . r2 test:  0.00631212948037\n",
      "testing non-linearity:  relu ... testing  40  pc's...\n"
     ]
    },
    {
     "name": "stderr",
     "output_type": "stream",
     "text": [
      "[#######             ] | ETA: 00:49:48"
     ]
    },
    {
     "name": "stdout",
     "output_type": "stream",
     "text": [
      "new best model for cell  517444738 . r2 test:  0.0512057255013\n",
      "new best model for cell  517444426 . r2 test:  0.0393651258491\n",
      "new best model for cell  517444175 . r2 test:  0.0492524651641\n",
      "testing non-linearity:  relu ... testing  45  pc's...\n"
     ]
    },
    {
     "name": "stderr",
     "output_type": "stream",
     "text": [
      "[########            ] | ETA: 00:50:52"
     ]
    },
    {
     "name": "stdout",
     "output_type": "stream",
     "text": [
      "testing non-linearity:  relu ... testing  50  pc's...\n"
     ]
    },
    {
     "name": "stderr",
     "output_type": "stream",
     "text": [
      "[#########           ] | ETA: 00:51:11"
     ]
    },
    {
     "name": "stdout",
     "output_type": "stream",
     "text": [
      "new best model for cell  517444426 . r2 test:  0.0623472889484\n",
      "new best model for cell  517443957 . r2 test:  0.0234379682819\n",
      "new best model for cell  517443571 . r2 test:  0.034973711142\n",
      "testing non-linearity:  relu ... testing  55  pc's...\n"
     ]
    },
    {
     "name": "stderr",
     "output_type": "stream",
     "text": [
      "[##########          ] | ETA: 00:50:45"
     ]
    },
    {
     "name": "stdout",
     "output_type": "stream",
     "text": [
      "testing non-linearity:  relu ... testing  60  pc's...\n"
     ]
    },
    {
     "name": "stderr",
     "output_type": "stream",
     "text": [
      "[###########         ] | ETA: 00:49:36"
     ]
    },
    {
     "name": "stdout",
     "output_type": "stream",
     "text": [
      "new best model for cell  517442436 . r2 test:  0.0193775662146\n",
      "testing non-linearity:  relu ... testing  65  pc's...\n"
     ]
    },
    {
     "name": "stderr",
     "output_type": "stream",
     "text": [
      "[############        ] | ETA: 00:47:39"
     ]
    },
    {
     "name": "stdout",
     "output_type": "stream",
     "text": [
      "new best model for cell  517442436 . r2 test:  0.0376705811682\n",
      "new best model for cell  517445575 . r2 test:  0.0506536872271\n",
      "new best model for cell  517443957 . r2 test:  0.0247290980408\n",
      "testing non-linearity:  relu ... testing  70  pc's...\n"
     ]
    },
    {
     "name": "stderr",
     "output_type": "stream",
     "text": [
      "[#############       ] | ETA: 00:44:53"
     ]
    },
    {
     "name": "stdout",
     "output_type": "stream",
     "text": [
      "new best model for cell  517447069 . r2 test:  0.0311504614273\n",
      "testing non-linearity:  relu ... testing  75  pc's...\n"
     ]
    },
    {
     "name": "stderr",
     "output_type": "stream",
     "text": [
      "[##############      ] | ETA: 00:41:17"
     ]
    },
    {
     "name": "stdout",
     "output_type": "stream",
     "text": [
      "new best model for cell  517443087 . r2 test:  0.0436426755728\n",
      "new best model for cell  517443957 . r2 test:  0.0261105310595\n",
      "testing non-linearity:  relu ... testing  80  pc's...\n"
     ]
    },
    {
     "name": "stderr",
     "output_type": "stream",
     "text": [
      "[###############     ] | ETA: 00:36:47"
     ]
    },
    {
     "name": "stdout",
     "output_type": "stream",
     "text": [
      "testing non-linearity:  relu ... testing  85  pc's...\n"
     ]
    },
    {
     "name": "stderr",
     "output_type": "stream",
     "text": [
      "[################    ] | ETA: 00:31:25"
     ]
    },
    {
     "name": "stdout",
     "output_type": "stream",
     "text": [
      "new best model for cell  517443957 . r2 test:  0.0262894260426\n",
      "new best model for cell  517444175 . r2 test:  0.0495309750951\n",
      "testing non-linearity:  relu ... testing  90  pc's...\n"
     ]
    },
    {
     "name": "stderr",
     "output_type": "stream",
     "text": [
      "[#################   ] | ETA: 00:25:07"
     ]
    },
    {
     "name": "stdout",
     "output_type": "stream",
     "text": [
      "new best model for cell  517444738 . r2 test:  0.0573964386724\n",
      "new best model for cell  517443827 . r2 test:  0.0614184427072\n",
      "new best model for cell  517443924 . r2 test:  0.0937971554981\n",
      "new best model for cell  517443571 . r2 test:  0.042178326454\n",
      "testing non-linearity:  relu ... testing  95  pc's...\n"
     ]
    },
    {
     "name": "stderr",
     "output_type": "stream",
     "text": [
      "[##################  ] | ETA: 00:17:46"
     ]
    },
    {
     "name": "stdout",
     "output_type": "stream",
     "text": [
      "testing non-linearity:  relu ... testing  100  pc's...\n"
     ]
    },
    {
     "name": "stderr",
     "output_type": "stream",
     "text": [
      "[################### ] | ETA: 00:09:21"
     ]
    },
    {
     "name": "stdout",
     "output_type": "stream",
     "text": [
      "new best model for cell  517444738 . r2 test:  0.0662159251667\n",
      "new best model for cell  517445575 . r2 test:  0.0815287124764\n",
      "testing non-linearity:  relu ... testing  105  pc's...\n"
     ]
    },
    {
     "name": "stderr",
     "output_type": "stream",
     "text": [
      "[####################] | ETA: 00:00:00\n",
      "Total time elapsed: 03:17:02\n"
     ]
    }
   ],
   "source": [
    "from statsmodels.tsa.tsatools import lagmat\n",
    "from sklearn.cross_validation import train_test_split\n",
    "from scipy.stats import linregress\n",
    "from itertools import product\n",
    "import pyprind\n",
    "import sys\n",
    "\n",
    "n_pcs = range(10, 110, 5)\n",
    "non_lin = [2]\n",
    "non_lin_dict = {1: \"sigmoid\", 2: \"relu\"}\n",
    "alpha = 0\n",
    "\n",
    "#empty dictionary of the best model we've fit for each cell\n",
    "best_model = {k: (-np.inf, None) for k in data.keys()}\n",
    "\n",
    "#make a dictionary of dictionaries to store the results\n",
    "scores_dict = {k: {} for k in data.keys()}\n",
    "\n",
    "bar = pyprind.ProgBar(len(n_pcs)*len(non_lin))\n",
    "\n",
    "for (l, n) in product(non_lin, n_pcs):\n",
    "    print \"testing non-linearity: \", non_lin_dict[l], \"... testing \", n, \" pc's...\"\n",
    "    sys.stdout.flush()\n",
    "    \n",
    "    #lagged_stim = lagmat(stim[:, 0:n], maxlag = nlag, trim = None)[1:-1]         \n",
    "    bar.update()\n",
    "    \n",
    "    for c in data.keys():\n",
    "        X_train, X_test, y_train, y_test = train_test_split(stim[:, 0:n], np.array(data[c]))     \n",
    "        weight_init = np.linalg.pinv(X_train).dot(y_train)[:, np.newaxis]\n",
    "\n",
    "        if l == 1:\n",
    "            nonlin = tf.nn.sigmoid\n",
    "        if l == 2:\n",
    "            nonlin = tf.nn.relu\n",
    "        \n",
    "        model = gm.gaussian_GLM(weight_init, non_lin = nonlin, verbose = False)\n",
    "        cv, loss = model.fit(X_train, y_train[:, np.newaxis], X_test, y_test[:, np.newaxis], max_iters = 60)\n",
    "        \n",
    "        w, o, s  = model.get_params()\n",
    "    \n",
    "        _, _, r2_test,_, _ = linregress(np.squeeze(model.predict_trace(X_test)), np.squeeze(y_test))\n",
    "        _, _, r2_train,_, _ = linregress(np.squeeze(model.predict_trace(X_train)), np.squeeze(y_train))\n",
    "\n",
    "        scores_dict[c][(l, n)] = (r2_test, r2_train) \n",
    "\n",
    "        if r2_test > best_model[c][0]:\n",
    "            best_model[c] = (r2_test, (l, n))\n",
    "            print \"new best model for cell \", c, \". r2 test: \", r2_test"
   ]
  },
  {
   "cell_type": "code",
   "execution_count": null,
   "metadata": {
    "collapsed": true
   },
   "outputs": [],
   "source": [
    "#let's try this explainable variance dealio\n",
    "\n",
    "im_array = np.array(im_array)\n",
    "rishi_alex = {k: [] for k in data.keys()}\n",
    "\n",
    "av_r = np.zeros_like(data[c])\n",
    "\n",
    "for c in data.keys():\n",
    "    dff = np.array(data[c]) \n",
    "    for image in range(118):\n",
    "        idx  = np.where(im_array == image)\n",
    "        ave = np.mean(dff[idx[0]])        \n",
    "        av_r[idx] = ave\n",
    "        \n",
    "    slope, intercept, r_value, p_value, std_err = linregress(dff, av_r)\n",
    "    rishi_alex[c] = r_value**2    "
   ]
  },
  {
   "cell_type": "code",
   "execution_count": null,
   "metadata": {
    "collapsed": false
   },
   "outputs": [],
   "source": [
    "plt.hist(rishi_alex.values());\n",
    "\n",
    "print max(rishi_alex.values())"
   ]
  },
  {
   "cell_type": "code",
   "execution_count": null,
   "metadata": {
    "collapsed": false
   },
   "outputs": [],
   "source": [
    "#first let's calculate some aggregate statistics - and plot how explained variance goes with # of PC's\n",
    "for c in data.keys():\n",
    "    \n",
    "    ra_var = rishi_alex[c]\n",
    "    \n",
    "    plt.subplot(221)\n",
    "    for (l,  n) in scores_dict[c].keys():\n",
    "        plt.scatter(n, scores_dict[c][(l, n)][0] / ra_var)\n",
    "     \n",
    "    plt.title('cell ' + str(c) + ' test $r^2$')\n",
    "    \n",
    "    plt.subplot(222)   \n",
    "    for (l,  n) in scores_dict[c].keys():\n",
    "        plt.scatter(n, scores_dict[c][(l, n)][1] / ra_var)\n",
    "     \n",
    "    plt.title('cell ' + str(c) + ' train $r^2$')\n",
    "    plt.show()"
   ]
  },
  {
   "cell_type": "code",
   "execution_count": 8,
   "metadata": {
    "collapsed": true
   },
   "outputs": [],
   "source": [
    "pkl_file = open('./boc/formatted/LN_Relu', 'wb')\n",
    "pickle.dump((best_model, scores_dict), pkl_file)\n",
    "pkl_file.close()"
   ]
  },
  {
   "cell_type": "code",
   "execution_count": null,
   "metadata": {
    "collapsed": true
   },
   "outputs": [],
   "source": []
  }
 ],
 "metadata": {
  "kernelspec": {
   "display_name": "Python 2",
   "language": "python",
   "name": "python2"
  },
  "language_info": {
   "codemirror_mode": {
    "name": "ipython",
    "version": 2
   },
   "file_extension": ".py",
   "mimetype": "text/x-python",
   "name": "python",
   "nbconvert_exporter": "python",
   "pygments_lexer": "ipython2",
   "version": "2.7.11"
  },
  "latex_envs": {
   "bibliofile": "biblio.bib",
   "cite_by": "apalike",
   "current_citInitial": 1,
   "eqLabelWithNumbers": true,
   "eqNumInitial": 0
  }
 },
 "nbformat": 4,
 "nbformat_minor": 0
}
