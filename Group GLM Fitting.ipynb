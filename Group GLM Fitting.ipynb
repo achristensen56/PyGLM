{
 "cells": [
  {
   "cell_type": "code",
   "execution_count": 1,
   "metadata": {
    "collapsed": false
   },
   "outputs": [],
   "source": [
    "import matplotlib.pyplot as plt\n",
    "import matplotlib.patches as patches\n",
    "import numpy as np\n",
    "import group_glm as gm\n",
    "from glm_utils import *\n",
    "from scipy.stats import linregress\n",
    "import pprint\n",
    "import allensdk.brain_observatory.stimulus_info as stim_info\n",
    "from allensdk.core.brain_observatory_cache import BrainObservatoryCache\n",
    "import tensorflow as tf\n",
    "\n",
    "%load_ext autoreload\n",
    "%autoreload 2\n",
    "%matplotlib inline\n",
    "\n",
    "boc = BrainObservatoryCache(manifest_file='boc/manifest.json')"
   ]
  },
  {
   "cell_type": "code",
   "execution_count": 2,
   "metadata": {
    "collapsed": false
   },
   "outputs": [],
   "source": [
    "import pandas as pd\n",
    "\n",
    "# Download experiment containers for VISp experiments, with imaging depth 350 \n",
    "ecs = boc.get_experiment_containers()\n",
    "ids = [ ec['id'] for ec in ecs ]\n",
    "\n",
    "#just look at cells from the first experiment container\n",
    "exp = boc.get_ophys_experiments(experiment_container_ids=ids)\n",
    "ids = [ ec['id'] for ec in exp ]\n",
    "data_set = boc.get_ophys_experiment_data(502066273)"
   ]
  },
  {
   "cell_type": "code",
   "execution_count": 3,
   "metadata": {
    "collapsed": false
   },
   "outputs": [],
   "source": [
    "from allensdk.brain_observatory.dff import compute_dff\n",
    "\n",
    "\n",
    "time, dff_traces = data_set.get_dff_traces()\n",
    "\n",
    "scenes = data_set.get_stimulus_template('natural_movie_one')\n",
    "stim_table = data_set.get_stimulus_table(stim_info.NATURAL_MOVIE_ONE)"
   ]
  },
  {
   "cell_type": "code",
   "execution_count": 4,
   "metadata": {
    "collapsed": false
   },
   "outputs": [],
   "source": [
    "from sklearn.decomposition import PCA\n",
    "\n",
    "model = PCA()\n",
    "scenes_r = model.fit_transform(scenes.reshape([len(scenes), -1]))"
   ]
  },
  {
   "cell_type": "code",
   "execution_count": 14,
   "metadata": {
    "collapsed": false
   },
   "outputs": [
    {
     "data": {
      "text/plain": [
       "(81, 105738)"
      ]
     },
     "execution_count": 14,
     "metadata": {},
     "output_type": "execute_result"
    }
   ],
   "source": [
    "dff_traces.shape"
   ]
  },
  {
   "cell_type": "code",
   "execution_count": 19,
   "metadata": {
    "collapsed": false
   },
   "outputs": [
    {
     "name": "stderr",
     "output_type": "stream",
     "text": [
      "/home/amy/.local/lib/python2.7/site-packages/ipykernel/__main__.py:13: FutureWarning: comparison to `None` will result in an elementwise object comparison in the future.\n"
     ]
    }
   ],
   "source": [
    "#declare a dictionary of empty lists for each cell trace, \n",
    "#and a list for the stimulus\n",
    "data = None\n",
    "stim_array = []\n",
    "im_array = [] #keep track of which image index each stimulus is, so we can check 'explainable variance'\n",
    "\n",
    "#average each trace over the presentation of each stimulus, and add\n",
    "#to dictionary with cell id as keys\n",
    "\n",
    "for index, row in stim_table.iterrows():\n",
    "    stim_array.append(scenes_r[row.frame, 0:50])\n",
    "    \n",
    "    if data == None:\n",
    "        data = dff_traces[:, row['start']:row['end']]\n",
    "    else:\n",
    "        data = np.concatenate((data, dff_traces[:, row['start']:row['start'] + 1]), axis = 1)\n",
    "    \n",
    "stim_array = np.array(stim_array)\n",
    "data = np.array(data).T"
   ]
  },
  {
   "cell_type": "code",
   "execution_count": 20,
   "metadata": {
    "collapsed": false
   },
   "outputs": [],
   "source": [
    "design = np.zeros([9000, 81, 50])\n",
    "\n",
    "for i in range(81):\n",
    "    design[:, i, :] = stim_array"
   ]
  },
  {
   "cell_type": "code",
   "execution_count": 34,
   "metadata": {
    "collapsed": false
   },
   "outputs": [],
   "source": [
    "weight = np.linalg.pinv(stim_array).dot(data)\n",
    "\n",
    "model = gm.exponential_GLM(weight_init = weight.T, lr = 0.001, alpha = 0, non_lin = tf.nn.sigmoid)"
   ]
  },
  {
   "cell_type": "code",
   "execution_count": 35,
   "metadata": {
    "collapsed": false
   },
   "outputs": [
    {
     "name": "stderr",
     "output_type": "stream",
     "text": [
      "0%                          100%\n",
      "[******************************] | ETA: 00:00:00\n",
      "Total time elapsed: 00:00:17\n"
     ]
    }
   ],
   "source": [
    "l, _ =model.fit(design.reshape(-1, 81*50), data, design.reshape(-1, 81*50), data, max_iters= 500)"
   ]
  },
  {
   "cell_type": "code",
   "execution_count": 30,
   "metadata": {
    "collapsed": false
   },
   "outputs": [
    {
     "ename": "AttributeError",
     "evalue": "exponential_GLM instance has no attribute 'get'",
     "output_type": "error",
     "traceback": [
      "\u001b[0;31m------------------------------------------------------------------------\u001b[0m",
      "\u001b[0;31mAttributeError\u001b[0m                         Traceback (most recent call last)",
      "\u001b[0;32m<ipython-input-30-c6542b236999>\u001b[0m in \u001b[0;36m<module>\u001b[0;34m()\u001b[0m\n\u001b[0;32m----> 1\u001b[0;31m \u001b[0mw\u001b[0m\u001b[0;34m,\u001b[0m \u001b[0ms\u001b[0m\u001b[0;34m,\u001b[0m \u001b[0mo\u001b[0m \u001b[0;34m=\u001b[0m \u001b[0mmodel\u001b[0m\u001b[0;34m.\u001b[0m\u001b[0mget\u001b[0m\u001b[0;34m\u001b[0m\u001b[0m\n\u001b[0m",
      "\u001b[0;31mAttributeError\u001b[0m: exponential_GLM instance has no attribute 'get'"
     ]
    }
   ],
   "source": [
    "w, s, o = model.get"
   ]
  },
  {
   "cell_type": "code",
   "execution_count": 33,
   "metadata": {
    "collapsed": false
   },
   "outputs": [
    {
     "data": {
      "text/plain": [
       "[<matplotlib.lines.Line2D at 0x7fc3a41aaa90>]"
      ]
     },
     "execution_count": 33,
     "metadata": {},
     "output_type": "execute_result"
    },
    {
     "data": {
      "image/png": "[encoded data removed]",
      "text/plain": [
       "<matplotlib.figure.Figure at 0x7fc3a3e86390>"
      ]
     },
     "metadata": {},
     "output_type": "display_data"
    }
   ],
   "source": [
    "plt.plot(l)"
   ]
  },
  {
   "cell_type": "code",
   "execution_count": null,
   "metadata": {
    "collapsed": true
   },
   "outputs": [],
   "source": []
  }
 ],
 "metadata": {
  "kernelspec": {
   "display_name": "Python 2",
   "language": "python",
   "name": "python2"
  },
  "language_info": {
   "codemirror_mode": {
    "name": "ipython",
    "version": 2
   },
   "file_extension": ".py",
   "mimetype": "text/x-python",
   "name": "python",
   "nbconvert_exporter": "python",
   "pygments_lexer": "ipython2",
   "version": "2.7.12"
  }
 },
 "nbformat": 4,
 "nbformat_minor": 1
}
