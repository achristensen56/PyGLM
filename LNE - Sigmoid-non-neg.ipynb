{
 "cells": [
  {
   "cell_type": "code",
   "execution_count": 3,
   "metadata": {
    "collapsed": false
   },
   "outputs": [],
   "source": [
    "import matplotlib.pyplot as plt\n",
    "import matplotlib.patches as patches\n",
    "import numpy as np\n",
    "import glm_model as gm\n",
    "from glm_utils import *\n",
    "import tensorflow as tf\n",
    "\n",
    "%load_ext autoreload\n",
    "%autoreload 2\n",
    "%matplotlib inline"
   ]
  },
  {
   "cell_type": "code",
   "execution_count": 4,
   "metadata": {
    "collapsed": false
   },
   "outputs": [],
   "source": [
    "#finally get rid of the ugly ass allen code. We import the pickled design \n",
    "#matrix stimulus, which is PCA projection of the images, and the downsampled\n",
    "#traces. \n",
    "\n",
    "import pickle\n",
    "\n",
    "pkl_file = open('./boc/formatted/LMcelldata')\n",
    "data = pickle.load(pkl_file)\n",
    "pkl_file.close()\n",
    "\n",
    "pkl_file = open('./boc/formatted/LMstimdata')\n",
    "stim = pickle.load(pkl_file)\n",
    "pkl_file.close()"
   ]
  },
  {
   "cell_type": "code",
   "execution_count": 5,
   "metadata": {
    "collapsed": false
   },
   "outputs": [],
   "source": [
    "#get the number of features, and the number of training examples. \n",
    "l, n =  stim.shape"
   ]
  },
  {
   "cell_type": "code",
   "execution_count": 7,
   "metadata": {
    "collapsed": false
   },
   "outputs": [
    {
     "name": "stderr",
     "output_type": "stream",
     "text": [
      "0%                 100%\n",
      "[                     ]"
     ]
    },
    {
     "name": "stdout",
     "output_type": "stream",
     "text": [
      "testing non-linearity:  sigmoid ... testing  5  pc's...\n",
      "new best model for cell  517442753 . r2 test:  0.0184834481583\n",
      "new best model for cell  517444738 . r2 test:  -0.00885479120134\n",
      "new best model for cell  517443331 . r2 test:  -0.0016966730845\n",
      "new best model for cell  517442436 . r2 test:  0.0333721905176\n",
      "new best model for cell  517445575 . r2 test:  0.014990950839\n",
      "new best model for cell  517444426 . r2 test:  0.00109692855011\n",
      "new best model for cell  517442471 . r2 test:  -0.0149227473391\n",
      "new best model for cell  517443181 . r2 test:  -0.0273909255247\n",
      "new best model for cell  517443087 . r2 test:  -0.0419571644712\n",
      "new best model for cell  517446833 . r2 test:  0.0268076455904\n",
      "new best model for cell  517443827 . r2 test:  0.0223687209709\n",
      "new best model for cell  517443924 . r2 test:  -0.0473309618569\n",
      "new best model for cell  517443957 . r2 test:  0.0139151027395\n",
      "new best model for cell  517442722 . r2 test:  0.00475460960377\n",
      "new best model for cell  517446488 . r2 test:  0.00614669819006\n",
      "new best model for cell  517442675 . r2 test:  -0.0413933877419\n",
      "new best model for cell  517446554 . r2 test:  -0.0136729771721\n",
      "new best model for cell  517444175 . r2 test:  0.0124516398414\n",
      "new best model for cell  517443484 . r2 test:  0.0428211027747\n",
      "new best model for cell  517447069 . r2 test:  0.00825554250719\n",
      "new best model for cell  517443571 . r2 test:  0.0269622172635\n",
      "testing non-linearity:  sigmoid ... testing  10  pc's...\n"
     ]
    },
    {
     "name": "stderr",
     "output_type": "stream",
     "text": [
      "[#                    ] | ETA: 00:10:55"
     ]
    },
    {
     "name": "stdout",
     "output_type": "stream",
     "text": [
      "new best model for cell  517443331 . r2 test:  -0.00022275943762\n",
      "new best model for cell  517444426 . r2 test:  0.04199177105\n",
      "new best model for cell  517442471 . r2 test:  0.0196384523523\n",
      "new best model for cell  517443181 . r2 test:  0.0234119112442\n",
      "new best model for cell  517443087 . r2 test:  0.0256967353733\n",
      "new best model for cell  517443924 . r2 test:  -0.00364552532513\n",
      "new best model for cell  517442722 . r2 test:  0.0174814886804\n",
      "new best model for cell  517442675 . r2 test:  0.000773795710824\n",
      "new best model for cell  517446554 . r2 test:  -0.0122900691563\n",
      "new best model for cell  517444175 . r2 test:  0.0175788479285\n",
      "new best model for cell  517447069 . r2 test:  0.0323632115919\n",
      "testing non-linearity:  sigmoid ... testing  15  pc's...\n"
     ]
    },
    {
     "name": "stderr",
     "output_type": "stream",
     "text": [
      "[###                  ] | ETA: 00:20:57"
     ]
    },
    {
     "name": "stdout",
     "output_type": "stream",
     "text": [
      "new best model for cell  517443331 . r2 test:  0.00857634586129\n",
      "new best model for cell  517445575 . r2 test:  0.0284588592835\n",
      "new best model for cell  517443924 . r2 test:  0.0334268083328\n",
      "new best model for cell  517446488 . r2 test:  0.022438449898\n",
      "new best model for cell  517446554 . r2 test:  -0.0117390013231\n",
      "new best model for cell  517444175 . r2 test:  0.0187470267333\n",
      "testing non-linearity:  sigmoid ... testing  20  pc's...\n"
     ]
    },
    {
     "name": "stderr",
     "output_type": "stream",
     "text": [
      "[####                 ] | ETA: 00:27:59"
     ]
    },
    {
     "name": "stdout",
     "output_type": "stream",
     "text": [
      "new best model for cell  517445575 . r2 test:  0.0424664227095\n",
      "new best model for cell  517443957 . r2 test:  0.0368560740357\n",
      "new best model for cell  517442675 . r2 test:  0.00606752318351\n",
      "new best model for cell  517446554 . r2 test:  -0.00352128277049\n",
      "testing non-linearity:  sigmoid ... testing  25  pc's...\n"
     ]
    },
    {
     "name": "stderr",
     "output_type": "stream",
     "text": [
      "[#####                ] | ETA: 00:31:51"
     ]
    },
    {
     "name": "stdout",
     "output_type": "stream",
     "text": [
      "new best model for cell  517444738 . r2 test:  0.0146138293679\n",
      "new best model for cell  517446833 . r2 test:  0.030813873901\n",
      "new best model for cell  517442722 . r2 test:  0.0288882877\n",
      "new best model for cell  517442675 . r2 test:  0.0593241856329\n",
      "new best model for cell  517446554 . r2 test:  0.0444568467976\n",
      "new best model for cell  517444175 . r2 test:  0.0328859052451\n",
      "testing non-linearity:  sigmoid ... testing  30  pc's...\n",
      "new best model for cell  517443331 . r2 test:  0.0186433554303\n",
      "new best model for cell  517445575 . r2 test:  0.0474098692621\n",
      "new best model for cell  517443181 . r2 test:  0.0337102494831\n",
      "new best model for cell  517443827 . r2 test:  0.025956861363\n",
      "new best model for cell  517447069 . r2 test:  0.0401826441626\n",
      "testing non-linearity:  sigmoid ... testing  35  pc's...\n"
     ]
    },
    {
     "name": "stderr",
     "output_type": "stream",
     "text": [
      "[######               ] | ETA: 00:37:53"
     ]
    },
    {
     "name": "stdout",
     "output_type": "stream",
     "text": [
      "new best model for cell  517445575 . r2 test:  0.0570412053553\n",
      "new best model for cell  517442675 . r2 test:  0.0676117275888\n",
      "new best model for cell  517447069 . r2 test:  0.0416170053226\n",
      "testing non-linearity:  sigmoid ... testing  40  pc's...\n"
     ]
    },
    {
     "name": "stderr",
     "output_type": "stream",
     "text": [
      "[########             ] | ETA: 00:40:21"
     ]
    },
    {
     "name": "stdout",
     "output_type": "stream",
     "text": [
      "new best model for cell  517443827 . r2 test:  0.072597235831\n",
      "new best model for cell  517446554 . r2 test:  0.0496981575879\n",
      "testing non-linearity:  sigmoid ... testing  45  pc's...\n"
     ]
    },
    {
     "name": "stderr",
     "output_type": "stream",
     "text": [
      "[#########            ] | ETA: 00:42:22"
     ]
    },
    {
     "name": "stdout",
     "output_type": "stream",
     "text": [
      "testing non-linearity:  sigmoid ... testing  50  pc's...\n"
     ]
    },
    {
     "name": "stderr",
     "output_type": "stream",
     "text": [
      "[##########           ] | ETA: 00:43:19"
     ]
    },
    {
     "name": "stdout",
     "output_type": "stream",
     "text": [
      "new best model for cell  517442436 . r2 test:  0.0374400893499\n",
      "testing non-linearity:  sigmoid ... testing  55  pc's...\n",
      "new best model for cell  517442753 . r2 test:  0.0512509598735\n",
      "new best model for cell  517443331 . r2 test:  0.0384153719416\n",
      "new best model for cell  517442436 . r2 test:  0.0416088577598\n",
      "new best model for cell  517442722 . r2 test:  0.0470595044615\n",
      "testing non-linearity:  sigmoid ... testing  60  pc's...\n"
     ]
    },
    {
     "name": "stderr",
     "output_type": "stream",
     "text": [
      "[###########          ] | ETA: 00:40:58"
     ]
    },
    {
     "name": "stdout",
     "output_type": "stream",
     "text": [
      "new best model for cell  517444738 . r2 test:  0.0229537391768\n",
      "new best model for cell  517442436 . r2 test:  0.0538723577063\n",
      "new best model for cell  517446488 . r2 test:  0.0308325722741\n",
      "testing non-linearity:  sigmoid ... testing  65  pc's...\n"
     ]
    },
    {
     "name": "stderr",
     "output_type": "stream",
     "text": [
      "[############         ] | ETA: 00:39:02"
     ]
    },
    {
     "name": "stdout",
     "output_type": "stream",
     "text": [
      "new best model for cell  517442471 . r2 test:  0.0298486853614\n",
      "new best model for cell  517443087 . r2 test:  0.0338429089931\n",
      "new best model for cell  517443957 . r2 test:  0.0464899693915\n",
      "new best model for cell  517443571 . r2 test:  0.0386176481825\n",
      "testing non-linearity:  sigmoid ... testing  70  pc's...\n"
     ]
    },
    {
     "name": "stderr",
     "output_type": "stream",
     "text": [
      "[##############       ] | ETA: 00:36:37"
     ]
    },
    {
     "name": "stdout",
     "output_type": "stream",
     "text": [
      "new best model for cell  517443181 . r2 test:  0.0732650066196\n",
      "new best model for cell  517443087 . r2 test:  0.0513807331034\n",
      "testing non-linearity:  sigmoid ... testing  75  pc's...\n"
     ]
    },
    {
     "name": "stderr",
     "output_type": "stream",
     "text": [
      "[###############      ] | ETA: 00:33:28"
     ]
    },
    {
     "name": "stdout",
     "output_type": "stream",
     "text": [
      "testing non-linearity:  sigmoid ... testing  80  pc's...\n",
      "testing non-linearity:  sigmoid ... testing  85  pc's...\n"
     ]
    },
    {
     "name": "stderr",
     "output_type": "stream",
     "text": [
      "[################     ] | ETA: 00:25:19"
     ]
    },
    {
     "name": "stdout",
     "output_type": "stream",
     "text": [
      "new best model for cell  517444738 . r2 test:  0.0376525651493\n",
      "new best model for cell  517442471 . r2 test:  0.0339781416717\n",
      "new best model for cell  517444175 . r2 test:  0.0487260313692\n",
      "testing non-linearity:  sigmoid ... testing  90  pc's...\n"
     ]
    },
    {
     "name": "stderr",
     "output_type": "stream",
     "text": [
      "[#################    ] | ETA: 00:20:16"
     ]
    },
    {
     "name": "stdout",
     "output_type": "stream",
     "text": [
      "testing non-linearity:  sigmoid ... testing  95  pc's...\n"
     ]
    },
    {
     "name": "stderr",
     "output_type": "stream",
     "text": [
      "[###################  ] | ETA: 00:14:24"
     ]
    },
    {
     "name": "stdout",
     "output_type": "stream",
     "text": [
      "testing non-linearity:  sigmoid ... testing  100  pc's...\n"
     ]
    },
    {
     "name": "stderr",
     "output_type": "stream",
     "text": [
      "[#################### ] | ETA: 00:07:41"
     ]
    },
    {
     "name": "stdout",
     "output_type": "stream",
     "text": [
      "new best model for cell  517442471 . r2 test:  0.046315785297\n",
      "testing non-linearity:  sigmoid ... testing  105  pc's...\n"
     ]
    },
    {
     "name": "stderr",
     "output_type": "stream",
     "text": [
      "[#####################] | ETA: 00:00:00\n",
      "Total time elapsed: 02:52:05\n"
     ]
    }
   ],
   "source": [
    "from statsmodels.tsa.tsatools import lagmat\n",
    "from sklearn.cross_validation import train_test_split\n",
    "from scipy.stats import linregress\n",
    "from itertools import product\n",
    "import pyprind\n",
    "\n",
    "import sys\n",
    "\n",
    "n_pcs = range(5, 110, 5)\n",
    "non_lin = [1]\n",
    "non_lin_dict = {1: \"sigmoid\", 2: \"relu\"}\n",
    "alpha = .1\n",
    "\n",
    "#empty dictionary\n",
    "best_model = {k: (-np.inf, None) for k in data.keys()}\n",
    "\n",
    "#make a dictionary of dictionaries to store the results\n",
    "scores_dict = {k: {} for k in data.keys()}\n",
    "\n",
    "bar = pyprind.ProgBar(len(n_pcs)*len(non_lin))\n",
    "\n",
    "for (l, n) in product(non_lin, n_pcs):\n",
    "    print \"testing non-linearity: \", non_lin_dict[l], \"... testing \", n, \" pc's...\"\n",
    "    sys.stdout.flush()\n",
    "    \n",
    "    #lagged_stim = lagmat(stim[:, 0:n], maxlag = nlag, trim = None)[1:-1]         \n",
    "    bar.update()\n",
    "    \n",
    "    for c in data.keys():\n",
    "        X_train, X_test, y_train, y_test = train_test_split(stim[:, 0:n], np.array(data[c]))    \n",
    "        \n",
    "        y_train[y_train < 0 ], y_test[y_test < 0] = 0, 0\n",
    "        \n",
    "        weight_init = np.linalg.pinv(X_train).dot(y_train)[:, np.newaxis]\n",
    "\n",
    "        if l == 1:\n",
    "            nonlin = tf.nn.sigmoid\n",
    "        if l == 2:\n",
    "            nonlin = tf.nn.relu\n",
    "        \n",
    "        model = gm.exponential_GLM(weight_init, non_lin = nonlin, verbose = False, lr = 1e-2, alpha = 0)\n",
    "        cv, loss = model.fit(X_train, y_train[:, np.newaxis], X_test, y_test[:, np.newaxis], max_iters = 100) \n",
    "    \n",
    "    \n",
    "        _, _, r2_test,_, _ = linregress(np.squeeze(model.predict_trace(X_test)), np.squeeze(y_test))\n",
    "        _, _, r2_train,_, _ = linregress(np.squeeze(model.predict_trace(X_train)), np.squeeze(y_train))\n",
    "\n",
    "        scores_dict[c][(l, n)] = (r2_test, r2_train) \n",
    "\n",
    "        if r2_test > best_model[c][0]:\n",
    "            best_model[c] = (r2_test, (l, n))\n",
    "            print \"new best model for cell \", c, \". r2 test: \", r2_test\n"
   ]
  },
  {
   "cell_type": "code",
   "execution_count": 8,
   "metadata": {
    "collapsed": false
   },
   "outputs": [],
   "source": [
    "pkl_file = open('./boc/formatted/LNE_sig_non_neg', 'wb')\n",
    "pickle.dump((best_model, scores_dict), pkl_file)\n",
    "pkl_file.close()"
   ]
  },
  {
   "cell_type": "code",
   "execution_count": null,
   "metadata": {
    "collapsed": true
   },
   "outputs": [],
   "source": []
  }
 ],
 "metadata": {
  "kernelspec": {
   "display_name": "Python 2",
   "language": "python",
   "name": "python2"
  },
  "language_info": {
   "codemirror_mode": {
    "name": "ipython",
    "version": 2
   },
   "file_extension": ".py",
   "mimetype": "text/x-python",
   "name": "python",
   "nbconvert_exporter": "python",
   "pygments_lexer": "ipython2",
   "version": "2.7.11"
  },
  "latex_envs": {
   "bibliofile": "biblio.bib",
   "cite_by": "apalike",
   "current_citInitial": 1,
   "eqLabelWithNumbers": true,
   "eqNumInitial": 0
  }
 },
 "nbformat": 4,
 "nbformat_minor": 0
}
