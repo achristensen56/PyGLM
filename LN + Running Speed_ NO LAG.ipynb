{
 "cells": [
  {
   "cell_type": "code",
   "execution_count": 2,
   "metadata": {
    "collapsed": false
   },
   "outputs": [],
   "source": [
    "import matplotlib.pyplot as plt\n",
    "import matplotlib.patches as patches\n",
    "import numpy as np\n",
    "import glm_model as gm\n",
    "from glm_utils import *\n",
    "import tensorflow as tf\n",
    "\n",
    "%load_ext autoreload\n",
    "%autoreload 2\n",
    "%matplotlib inline"
   ]
  },
  {
   "cell_type": "code",
   "execution_count": 3,
   "metadata": {
    "collapsed": false
   },
   "outputs": [],
   "source": [
    "#finally get rid of the ugly ass allen code. We import the pickled design \n",
    "#matrix stimulus, which is PCA projection of the images, and the downsampled\n",
    "#traces. \n",
    "\n",
    "import pickle\n",
    "\n",
    "pkl_file = open('./boc/formatted/LMcelldata')\n",
    "data = pickle.load(pkl_file)\n",
    "pkl_file.close()\n",
    "\n",
    "pkl_file = open('./boc/formatted/LMstimdata')\n",
    "stim = pickle.load(pkl_file)\n",
    "pkl_file.close()\n",
    "\n",
    "pkl_file = open('./boc/formatted/runspeed')\n",
    "run_speed = pickle.load(pkl_file)\n",
    "pkl_file.close()"
   ]
  },
  {
   "cell_type": "code",
   "execution_count": 4,
   "metadata": {
    "collapsed": false
   },
   "outputs": [],
   "source": [
    "#get the number of features, and the number of training examples. \n",
    "l, n =  stim.shape"
   ]
  },
  {
   "cell_type": "code",
   "execution_count": 6,
   "metadata": {
    "collapsed": false
   },
   "outputs": [
    {
     "name": "stderr",
     "output_type": "stream",
     "text": [
      "0%      100%\n",
      "[#         ] | ETA: 00:00:00"
     ]
    },
    {
     "name": "stdout",
     "output_type": "stream",
     "text": [
      " testing non-linearity:  sigmoid ... testing  1  pc's...\n",
      "new best model for cell  517442753 . r2 test:  0.00210441042664\n",
      "new best model for cell  517444738 . r2 test:  0.00641274508731\n",
      "new best model for cell  517443331 . r2 test:  -0.0549593256823\n",
      "new best model for cell  517442436 . r2 test:  -0.00755922771403\n",
      "new best model for cell  517445575 . r2 test:  -0.0255365223836\n",
      "new best model for cell  517444426 . r2 test:  -0.0155938155311\n",
      "new best model for cell  517442471 . r2 test:  -0.0141746872328\n",
      "new best model for cell  517443181 . r2 test:  0.0346951701921\n",
      "new best model for cell  517443087 . r2 test:  -0.0402827941974\n",
      "new best model for cell  517446833 . r2 test:  0.0285863042242\n",
      "new best model for cell  517443827 . r2 test:  0.0121207590724\n",
      "new best model for cell  517443924 . r2 test:  -0.037076681654\n",
      "new best model for cell  517443957 . r2 test:  0.0260458658661\n",
      "new best model for cell  517442722 . r2 test:  -0.0249313804947\n",
      "new best model for cell  517446488 . r2 test:  -0.02993327773\n",
      "new best model for cell  517442675 . r2 test:  -0.0305289128936\n",
      "new best model for cell  517446554 . r2 test:  -0.000890637444401\n",
      "new best model for cell  517444175 . r2 test:  -0.035806864555\n",
      "new best model for cell  517443484 . r2 test:  0.00203531007355\n",
      "new best model for cell  517447069 . r2 test:  -0.039538125397\n",
      "new best model for cell "
     ]
    },
    {
     "name": "stderr",
     "output_type": "stream",
     "text": [
      "[##        ] | ETA: 00:02:52"
     ]
    },
    {
     "name": "stdout",
     "output_type": "stream",
     "text": [
      " 517443571 . r2 test:  0.04091197097\n",
      "testing non-linearity:  sigmoid ... testing  21  pc's...\n",
      "new best model for cell  517444738 . r2 test:  0.0242196818934\n",
      "new best model for cell  517443331 . r2 test:  0.00157091122544\n",
      "new best model for cell  517445575 . r2 test:  0.0260771402207\n",
      "new best model for cell  517444426 . r2 test:  0.00613111563461\n",
      "new best model for cell  517443087 . r2 test:  0.00743891588946\n",
      "new best model for cell  517443924 . r2 test:  0.024279751278\n",
      "new best model for cell  517442722 . r2 test:  0.0170791069371\n",
      "new best model for cell  517446488 . r2 test:  -0.00514540843774\n",
      "new best model for cell  517442675 . r2 test:  0.00752513386415\n",
      "new best model for cell  517444175 . r2 test:  0.0307689908106\n",
      "new best model for cell  517447069 . r2 test:  -0.0124956665145\n",
      "testing non-linearity: "
     ]
    },
    {
     "name": "stderr",
     "output_type": "stream",
     "text": [
      "[###       ] | ETA: 00:05:43"
     ]
    },
    {
     "name": "stdout",
     "output_type": "stream",
     "text": [
      " sigmoid ... testing  41  pc's...\n",
      "new best model for cell  517442436 . r2 test:  0.00955300582701\n",
      "new best model for cell  517444426 . r2 test:  0.00670693175302\n",
      "new best model for cell  517443827 . r2 test:  0.0302196287116\n",
      "new best model for cell  517442722 . r2 test:  0.0216837505376\n",
      "new best model for cell  517446488 . r2 test:  0.000403198273529\n",
      "new best model for cell  517442675 . r2 test:  0.0456151660463\n",
      "new best model for cell  517443484 . r2 test:  0.032244490409\n",
      "new best model for cell  517447069 . r2 test:  -0.0021477081953\n",
      "testing non-linearity: "
     ]
    },
    {
     "name": "stderr",
     "output_type": "stream",
     "text": [
      "[####      ] | ETA: 00:07:41"
     ]
    },
    {
     "name": "stdout",
     "output_type": "stream",
     "text": [
      " sigmoid ... testing  61  pc's...\n",
      "new best model for cell  517442753 . r2 test:  0.0249994030012\n",
      "new best model for cell  517443331 . r2 test:  0.0388978100112\n",
      "new best model for cell  517445575 . r2 test:  0.0283865533876\n",
      "new best model for cell  517442471 . r2 test:  0.00498310695293\n",
      "new best model for cell  517443087 . r2 test:  0.031601864267\n",
      "new best model for cell  517446554 . r2 test:  0.0208411123707\n",
      "new best model for cell  517444175 . r2 test:  0.0340368105725\n",
      "new best model for cell  517447069 . r2 test:  0.0249194693651\n",
      "testing non-linearity: "
     ]
    },
    {
     "name": "stderr",
     "output_type": "stream",
     "text": [
      "[#####     ] | ETA: 00:08:36"
     ]
    },
    {
     "name": "stdout",
     "output_type": "stream",
     "text": [
      " sigmoid ... testing  81  pc's...\n",
      "new best model for cell  517443331 . r2 test:  0.0408944309725\n",
      "new best model for cell  517442436 . r2 test:  0.0248643222582\n",
      "new best model for cell  517442471 . r2 test:  0.00872224366134\n",
      "new best model for cell  517443957 . r2 test:  0.0469624410788\n",
      "new best model for cell  517446488 . r2 test:  0.0377935269206\n",
      "new best model for cell  517447069 . r2 test:  0.0365435462704\n",
      "testing non-linearity: "
     ]
    },
    {
     "name": "stderr",
     "output_type": "stream",
     "text": [
      "[######    ] | ETA: 00:08:41"
     ]
    },
    {
     "name": "stdout",
     "output_type": "stream",
     "text": [
      " relu ... testing  1  pc's...\n",
      "testing non-linearity: "
     ]
    },
    {
     "name": "stderr",
     "output_type": "stream",
     "text": [
      "[#######   ] | ETA: 00:07:45"
     ]
    },
    {
     "name": "stdout",
     "output_type": "stream",
     "text": [
      " relu ... testing  21  pc's...\n",
      "testing non-linearity: "
     ]
    },
    {
     "name": "stderr",
     "output_type": "stream",
     "text": [
      "[########  ] | ETA: 00:06:08"
     ]
    },
    {
     "name": "stdout",
     "output_type": "stream",
     "text": [
      " relu ... testing  41  pc's...\n",
      "testing non-linearity: "
     ]
    },
    {
     "name": "stderr",
     "output_type": "stream",
     "text": [
      "[######### ] | ETA: 00:03:33"
     ]
    },
    {
     "name": "stdout",
     "output_type": "stream",
     "text": [
      " relu ... testing  61  pc's...\n",
      "testing non-linearity: "
     ]
    },
    {
     "name": "stderr",
     "output_type": "stream",
     "text": [
      "[##########] | ETA: 00:00:00"
     ]
    },
    {
     "name": "stdout",
     "output_type": "stream",
     "text": [
      " relu ... testing  81  pc's...\n"
     ]
    },
    {
     "name": "stderr",
     "output_type": "stream",
     "text": [
      "\n",
      "Total time elapsed: 00:40:47\n"
     ]
    }
   ],
   "source": [
    "from statsmodels.tsa.tsatools import lagmat\n",
    "from sklearn.cross_validation import train_test_split\n",
    "from scipy.stats import linregress\n",
    "from itertools import product\n",
    "import pyprind\n",
    "\n",
    "import sys\n",
    "\n",
    "n_pcs = range(1, 82, 20)\n",
    "non_lin = [1, 2]\n",
    "non_lin_dict = {1: \"sigmoid\", 2: \"relu\"}\n",
    "\n",
    "alpha = 0\n",
    "nlag = 2\n",
    "\n",
    "#empty dictionary of the best model we've fit for each cell\n",
    "best_model = {k: (-np.inf, None) for k in data.keys()}\n",
    "\n",
    "#make a dictionary of dictionaries to store the results\n",
    "scores_dict = {k: {} for k in data.keys()}\n",
    "\n",
    "bar = pyprind.ProgBar(len(n_pcs)*len(non_lin))\n",
    "\n",
    "for (l, n) in product(non_lin, n_pcs):\n",
    "    print \"testing non-linearity: \", non_lin_dict[l], \"... testing \", n, \" pc's...\"\n",
    "    bar.update()\n",
    "    \n",
    "    #lagged_stim = lagmat(stim[:, 0:n], maxlag = nlag, trim = None)[1:-1]       \n",
    "    stim_array = np.concatenate((stim[:, 0:n], run_speed[:, np.newaxis]), axis = 1)\n",
    "    \n",
    "    \n",
    "    for c in data.keys():\n",
    "        X_train, X_test, y_train, y_test = train_test_split(stim_array, np.array(data[c]))     \n",
    "        weight_init = np.linalg.pinv(X_train).dot(y_train)[:, np.newaxis]\n",
    "       \n",
    "        if l == 1:\n",
    "            nonlin = tf.nn.sigmoid\n",
    "        if l == 2:\n",
    "            nonlin = tf.nn.relu\n",
    "\n",
    "        \n",
    "        model = gm.gaussian_GLM(weight_init, non_lin = nonlin, verbose = False, alpha = alpha)\n",
    "        cv, loss = model.fit(X_train, y_train[:, np.newaxis], X_test, y_test[:, np.newaxis], max_iters = 150) \n",
    "        w, o, s  = model.get_params()\n",
    "\n",
    "    \n",
    "        _, _, r2_test,_, _ = linregress(np.squeeze(model.predict_trace(X_test)), np.squeeze(y_test))\n",
    "        _, _, r2_train,_, _ = linregress(np.squeeze(model.predict_trace(X_train)), np.squeeze(y_train))\n",
    "\n",
    "        scores_dict[c][(l, n)] = (r2_test, r2_train) \n",
    "\n",
    "        if r2_test > best_model[c][0]:\n",
    "            best_model[c] = (r2_test, (l, n))    \n",
    "            print \"new best model for cell\", c, \". r2 test: \", r2_test"
   ]
  },
  {
   "cell_type": "code",
   "execution_count": 8,
   "metadata": {
    "collapsed": false
   },
   "outputs": [
    {
     "name": "stdout",
     "output_type": "stream",
     "text": [
      "explained var:  0.025 non_lin: 1 n_components 61\n",
      "explained var:  0.024 non_lin: 1 n_components 21\n",
      "explained var:  0.041 non_lin: 1 n_components 81\n",
      "explained var:  0.025 non_lin: 1 n_components 81\n",
      "explained var:  0.028 non_lin: 1 n_components 61\n",
      "explained var:  0.007 non_lin: 1 n_components 41\n",
      "explained var:  0.009 non_lin: 1 n_components 81\n",
      "explained var:  0.035 non_lin: 1 n_components 1\n",
      "explained var:  0.032 non_lin: 1 n_components 61\n",
      "explained var:  0.029 non_lin: 1 n_components 1\n",
      "explained var:  0.03 non_lin: 1 n_components 41\n",
      "explained var:  0.024 non_lin: 1 n_components 21\n",
      "explained var:  0.047 non_lin: 1 n_components 81\n",
      "explained var:  0.022 non_lin: 1 n_components 41\n",
      "explained var:  0.038 non_lin: 1 n_components 81\n",
      "explained var:  0.046 non_lin: 1 n_components 41\n",
      "explained var:  0.021 non_lin: 1 n_components 61\n",
      "explained var:  0.034 non_lin: 1 n_components 61\n",
      "explained var:  0.032 non_lin: 1 n_components 41\n",
      "explained var:  0.037 non_lin: 1 n_components 81\n",
      "explained var:  0.041 non_lin: 1 n_components 1\n"
     ]
    }
   ],
   "source": [
    "for c in data.keys():\n",
    "    \n",
    "    if best_model[c][1] != None:\n",
    "        (v, (l, n)) = best_model[c]\n",
    "    \n",
    "    print 'explained var: ', round(v, 3), 'non_lin:', l, 'n_components', n"
   ]
  },
  {
   "cell_type": "code",
   "execution_count": 9,
   "metadata": {
    "collapsed": true
   },
   "outputs": [],
   "source": [
    "output = open('./boc/formatted/LN_RS_Relu_Sigmoid', 'wb')\n",
    "pickle.dump((best_model, scores_dict), output)\n",
    "pkl_file.close()"
   ]
  }
 ],
 "metadata": {
  "kernelspec": {
   "display_name": "Python 2",
   "language": "python",
   "name": "python2"
  },
  "language_info": {
   "codemirror_mode": {
    "name": "ipython",
    "version": 2
   },
   "file_extension": ".py",
   "mimetype": "text/x-python",
   "name": "python",
   "nbconvert_exporter": "python",
   "pygments_lexer": "ipython2",
   "version": "2.7.11"
  },
  "latex_envs": {
   "bibliofile": "biblio.bib",
   "cite_by": "apalike",
   "current_citInitial": 1,
   "eqLabelWithNumbers": true,
   "eqNumInitial": 0
  }
 },
 "nbformat": 4,
 "nbformat_minor": 0
}
