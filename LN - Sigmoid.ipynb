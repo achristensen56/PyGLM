{
 "cells": [
  {
   "cell_type": "code",
   "execution_count": 1,
   "metadata": {
    "collapsed": false
   },
   "outputs": [],
   "source": [
    "import matplotlib.pyplot as plt\n",
    "import matplotlib.patches as patches\n",
    "import numpy as np\n",
    "import glm_model as gm\n",
    "from glm_utils import *\n",
    "import tensorflow as tf\n",
    "\n",
    "%load_ext autoreload\n",
    "%autoreload 2\n",
    "%matplotlib inline"
   ]
  },
  {
   "cell_type": "code",
   "execution_count": 2,
   "metadata": {
    "collapsed": false
   },
   "outputs": [],
   "source": [
    "#finally get rid of the ugly ass allen code. We import the pickled design \n",
    "#matrix stimulus, which is PCA projection of the images, and the downsampled\n",
    "#traces. \n",
    "\n",
    "import pickle\n",
    "\n",
    "pkl_file = open('./boc/formatted/LMcelldata')\n",
    "data = pickle.load(pkl_file)\n",
    "pkl_file.close()\n",
    "\n",
    "pkl_file = open('./boc/formatted/LMstimdata')\n",
    "stim = pickle.load(pkl_file)\n",
    "pkl_file.close()"
   ]
  },
  {
   "cell_type": "code",
   "execution_count": 3,
   "metadata": {
    "collapsed": false
   },
   "outputs": [],
   "source": [
    "#get the number of features, and the number of training examples. \n",
    "l, n =  stim.shape"
   ]
  },
  {
   "cell_type": "code",
   "execution_count": 7,
   "metadata": {
    "collapsed": false
   },
   "outputs": [
    {
     "name": "stderr",
     "output_type": "stream",
     "text": [
      "0%               100%\n",
      "[                   ]"
     ]
    },
    {
     "name": "stdout",
     "output_type": "stream",
     "text": [
      "testing non-linearity:  sigmoid ... testing  5  pc's...\n",
      "new best model for cell  517442753 . r2 test:  0.0421377752596\n",
      "new best model for cell  517444738 . r2 test:  -0.00904535130945\n",
      "new best model for cell  517443331 . r2 test:  -0.042551117025\n",
      "new best model for cell  517442436 . r2 test:  0.0309714810225\n",
      "new best model for cell  517445575 . r2 test:  0.00843991164949\n",
      "new best model for cell  517444426 . r2 test:  0.00774223325208\n",
      "new best model for cell  517442471 . r2 test:  0.0263058824232\n",
      "new best model for cell  517443181 . r2 test:  0.0293795971458\n",
      "new best model for cell  517443087 . r2 test:  -0.0310793730531\n",
      "new best model for cell  517446833 . r2 test:  0.0152319492237\n",
      "new best model for cell  517443827 . r2 test:  0.0148831945632\n",
      "new best model for cell  517443924 . r2 test:  0.0125808198598\n",
      "new best model for cell  517443957 . r2 test:  -0.0282516143187\n",
      "new best model for cell  517442722 . r2 test:  -0.0381797310237\n",
      "new best model for cell  517446488 . r2 test:  0.0645384624557\n",
      "new best model for cell  517442675 . r2 test:  -0.00259269958181\n",
      "new best model for cell  517446554 . r2 test:  -0.0156816042687\n",
      "new best model for cell  517444175 . r2 test:  -6.77804668719e-05\n",
      "new best model for cell  517443484 . r2 test:  0.0328314048094\n",
      "new best model for cell  517447069 . r2 test:  0.0160879682176\n",
      "new best model for cell  517443571 . r2 test:  -0.0248574806183\n",
      "testing non-linearity:  sigmoid ... testing  10  pc's...\n"
     ]
    },
    {
     "name": "stderr",
     "output_type": "stream",
     "text": [
      "[##                 ] | ETA: 00:10:45"
     ]
    },
    {
     "name": "stdout",
     "output_type": "stream",
     "text": [
      "new best model for cell  517444738 . r2 test:  0.0171584509546\n",
      "new best model for cell  517443331 . r2 test:  0.0226385193466\n",
      "new best model for cell  517443181 . r2 test:  0.036503051522\n",
      "new best model for cell  517443087 . r2 test:  0.0172611388728\n",
      "new best model for cell  517443957 . r2 test:  0.0341104301145\n",
      "new best model for cell  517442722 . r2 test:  -0.0029578946334\n",
      "new best model for cell  517442675 . r2 test:  0.0090209938865\n",
      "new best model for cell  517446554 . r2 test:  -0.0136226963986\n",
      "new best model for cell  517444175 . r2 test:  0.010994947811\n",
      "new best model for cell  517443571 . r2 test:  -0.0201154321454\n",
      "testing non-linearity:  sigmoid ... testing  15  pc's...\n"
     ]
    },
    {
     "name": "stderr",
     "output_type": "stream",
     "text": [
      "[###                ] | ETA: 00:16:49"
     ]
    },
    {
     "name": "stdout",
     "output_type": "stream",
     "text": [
      "new best model for cell  517444738 . r2 test:  0.0177289166061\n",
      "new best model for cell  517443331 . r2 test:  0.0252393771728\n",
      "new best model for cell  517445575 . r2 test:  0.0237643808367\n",
      "new best model for cell  517442722 . r2 test:  0.0104394957662\n",
      "new best model for cell  517442675 . r2 test:  0.0396638369671\n",
      "new best model for cell  517444175 . r2 test:  0.0576493547501\n",
      "new best model for cell  517443571 . r2 test:  0.00421848722126\n",
      "testing non-linearity:  sigmoid ... testing  20  pc's...\n",
      "new best model for cell  517443087 . r2 test:  0.0280098015799\n",
      "new best model for cell  517446554 . r2 test:  9.47096611697e-05\n",
      "testing non-linearity:  sigmoid ... testing  25  pc's...\n"
     ]
    },
    {
     "name": "stderr",
     "output_type": "stream",
     "text": [
      "[#####              ] | ETA: 00:24:31"
     ]
    },
    {
     "name": "stdout",
     "output_type": "stream",
     "text": [
      "new best model for cell  517444738 . r2 test:  0.0421963071577\n",
      "new best model for cell  517443827 . r2 test:  0.0221345744457\n",
      "new best model for cell  517443924 . r2 test:  0.019667566455\n",
      "new best model for cell  517442722 . r2 test:  0.017804459006\n",
      "new best model for cell  517447069 . r2 test:  0.0672258766465\n",
      "testing non-linearity:  sigmoid ... testing  30  pc's...\n"
     ]
    },
    {
     "name": "stderr",
     "output_type": "stream",
     "text": [
      "[######             ] | ETA: 00:27:18"
     ]
    },
    {
     "name": "stdout",
     "output_type": "stream",
     "text": [
      "new best model for cell  517443571 . r2 test:  0.0044456212968\n",
      "testing non-linearity:  sigmoid ... testing  35  pc's...\n",
      "new best model for cell  517443181 . r2 test:  0.0548382471127\n",
      "new best model for cell  517443087 . r2 test:  0.0374759381698\n",
      "testing non-linearity:  sigmoid ... testing  40  pc's...\n"
     ]
    },
    {
     "name": "stderr",
     "output_type": "stream",
     "text": [
      "[########           ] | ETA: 00:30:50"
     ]
    },
    {
     "name": "stdout",
     "output_type": "stream",
     "text": [
      "new best model for cell  517443087 . r2 test:  0.0513376834194\n",
      "new best model for cell  517443827 . r2 test:  0.0398762319333\n",
      "new best model for cell  517443571 . r2 test:  0.0401490800463\n",
      "testing non-linearity:  sigmoid ... testing  45  pc's...\n"
     ]
    },
    {
     "name": "stderr",
     "output_type": "stream",
     "text": [
      "[#########          ] | ETA: 00:31:37"
     ]
    },
    {
     "name": "stdout",
     "output_type": "stream",
     "text": [
      "testing non-linearity:  sigmoid ... testing  50  pc's...\n",
      "new best model for cell  517443331 . r2 test:  0.0280892717884\n",
      "testing non-linearity:  sigmoid ... testing  55  pc's...\n"
     ]
    },
    {
     "name": "stderr",
     "output_type": "stream",
     "text": [
      "[##########         ] | ETA: 00:31:19"
     ]
    },
    {
     "name": "stdout",
     "output_type": "stream",
     "text": [
      "new best model for cell  517442436 . r2 test:  0.0334457793831\n",
      "new best model for cell  517444426 . r2 test:  0.0388873183624\n",
      "new best model for cell  517446554 . r2 test:  0.0139005687347\n",
      "testing non-linearity:  sigmoid ... testing  60  pc's...\n"
     ]
    },
    {
     "name": "stderr",
     "output_type": "stream",
     "text": [
      "[############       ] | ETA: 00:30:10"
     ]
    },
    {
     "name": "stdout",
     "output_type": "stream",
     "text": [
      "new best model for cell  517446554 . r2 test:  0.0179925581726\n",
      "testing non-linearity:  sigmoid ... testing  65  pc's...\n",
      "new best model for cell  517442436 . r2 test:  0.0538674739431\n",
      "testing non-linearity:  sigmoid ... testing  70  pc's...\n"
     ]
    },
    {
     "name": "stderr",
     "output_type": "stream",
     "text": [
      "[#############      ] | ETA: 00:25:41"
     ]
    },
    {
     "name": "stdout",
     "output_type": "stream",
     "text": [
      "new best model for cell  517446833 . r2 test:  0.0194535384121\n",
      "testing non-linearity:  sigmoid ... testing  75  pc's...\n"
     ]
    },
    {
     "name": "stderr",
     "output_type": "stream",
     "text": [
      "[###############    ] | ETA: 00:22:18"
     ]
    },
    {
     "name": "stdout",
     "output_type": "stream",
     "text": [
      "new best model for cell  517446833 . r2 test:  0.0375852546522\n",
      "testing non-linearity:  sigmoid ... testing  80  pc's...\n",
      "new best model for cell  517444426 . r2 test:  0.0408305791467\n",
      "new best model for cell  517442471 . r2 test:  0.0451410859446\n",
      "new best model for cell  517442722 . r2 test:  0.0237443739209\n",
      "testing non-linearity:  sigmoid ... testing  85  pc's...\n"
     ]
    },
    {
     "name": "stderr",
     "output_type": "stream",
     "text": [
      "[################   ] | ETA: 00:12:57"
     ]
    },
    {
     "name": "stdout",
     "output_type": "stream",
     "text": [
      "new best model for cell  517445575 . r2 test:  0.0610275141086\n",
      "new best model for cell  517443924 . r2 test:  0.0300322919712\n",
      "testing non-linearity:  sigmoid ... testing  90  pc's...\n"
     ]
    },
    {
     "name": "stderr",
     "output_type": "stream",
     "text": [
      "[################## ] | ETA: 00:06:57"
     ]
    },
    {
     "name": "stdout",
     "output_type": "stream",
     "text": [
      "testing non-linearity:  sigmoid ... testing  95  pc's...\n"
     ]
    },
    {
     "name": "stderr",
     "output_type": "stream",
     "text": [
      "[###################] | ETA: 00:00:00\n",
      "Total time elapsed: 02:21:36\n"
     ]
    }
   ],
   "source": [
    "from statsmodels.tsa.tsatools import lagmat\n",
    "from sklearn.cross_validation import train_test_split\n",
    "from scipy.stats import linregress\n",
    "from itertools import product\n",
    "import pyprind\n",
    "import sys\n",
    "\n",
    "n_pcs = range(5, 100, 5)\n",
    "non_lin = [1]\n",
    "non_lin_dict = {1: \"sigmoid\", 2: \"relu\"}\n",
    "alpha = 0\n",
    "\n",
    "#empty dictionar     \n",
    "\n",
    "best_model = {k: (-np.inf, None) for k in data.keys()}\n",
    "#make a dictionary of dictionaries to store the results\n",
    "scores_dict = {k: {} for k in data.keys()}\n",
    "\n",
    "bar = pyprind.ProgBar(len(n_pcs)*len(non_lin))\n",
    "\n",
    "for (l, n) in product(non_lin, n_pcs):\n",
    "    print \"testing non-linearity: \", non_lin_dict[l], \"... testing \", n, \" pc's...\"\n",
    "    sys.stdout.flush()\n",
    "    \n",
    "    #lagged_stim = lagmat(stim[:, 0:n], maxlag = nlag, trim = None)[1:-1]         \n",
    "    bar.update()\n",
    "    \n",
    "    for c in data.keys():\n",
    "        X_train, X_test, y_train, y_test = train_test_split(stim[:, 0:n], np.array(data[c]))     \n",
    "        weight_init = np.linalg.pinv(X_train).dot(y_train)[:, np.newaxis]\n",
    "\n",
    "        if l == 1:\n",
    "            nonlin = tf.nn.sigmoid\n",
    "        if l == 2:\n",
    "            nonlin = tf.nn.relu\n",
    "        \n",
    "        model = gm.gaussian_GLM(weight_init, non_lin = nonlin, verbose = False)\n",
    "        cv, loss = model.fit(X_train, y_train[:, np.newaxis], X_test, y_test[:, np.newaxis], max_iters = 150) \n",
    "        \n",
    "        w, o, s  = model.get_params()\n",
    "    \n",
    "        _, _, r2_test,_, _ = linregress(np.squeeze(model.predict_trace(X_test)), np.squeeze(y_test))\n",
    "        _, _, r2_train,_, _ = linregress(np.squeeze(model.predict_trace(X_train)), np.squeeze(y_train))\n",
    "\n",
    "        scores_dict[c][(l, n)] = (r2_test, r2_train) \n",
    "\n",
    "        if r2_test > best_model[c][0]:\n",
    "            best_model[c] = (r2_test, (l, n))\n",
    "            print \"new best model for cell \", c, \". r2 test: \", r2_test\n"
   ]
  },
  {
   "cell_type": "code",
   "execution_count": null,
   "metadata": {
    "collapsed": true
   },
   "outputs": [],
   "source": []
  }
 ],
 "metadata": {
  "kernelspec": {
   "display_name": "Python 2",
   "language": "python",
   "name": "python2"
  },
  "language_info": {
   "codemirror_mode": {
    "name": "ipython",
    "version": 2
   },
   "file_extension": ".py",
   "mimetype": "text/x-python",
   "name": "python",
   "nbconvert_exporter": "python",
   "pygments_lexer": "ipython2",
   "version": "2.7.11"
  },
  "latex_envs": {
   "bibliofile": "biblio.bib",
   "cite_by": "apalike",
   "current_citInitial": 1,
   "eqLabelWithNumbers": true,
   "eqNumInitial": 0
  }
 },
 "nbformat": 4,
 "nbformat_minor": 0
}
