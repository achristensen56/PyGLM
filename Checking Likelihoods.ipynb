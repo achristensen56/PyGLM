{
 "cells": [
  {
   "cell_type": "markdown",
   "metadata": {},
   "source": [
    "In this notebook I we will verify that the GroupGLM class produces the correct likelihoods for the exponential and gaussian models."
   ]
  },
  {
   "cell_type": "code",
   "execution_count": 20,
   "metadata": {
    "collapsed": false
   },
   "outputs": [
    {
     "name": "stdout",
     "output_type": "stream",
     "text": [
      "The autoreload extension is already loaded. To reload it, use:\n",
      "  %reload_ext autoreload\n"
     ]
    }
   ],
   "source": [
    "#imports\n",
    "from scipy.stats import norm, gamma\n",
    "import numpy as np\n",
    "import matplotlib.pyplot as plt\n",
    "import group_glm as gm\n",
    "import tensorflow as tf\n",
    "from glm_utils import *\n",
    "\n",
    "#magics\n",
    "%matplotlib inline\n",
    "\n",
    "#autoreload changes in local modules\n",
    "%load_ext autoreload\n",
    "%autoreload 2"
   ]
  },
  {
   "cell_type": "code",
   "execution_count": 83,
   "metadata": {
    "collapsed": false
   },
   "outputs": [
    {
     "name": "stdout",
     "output_type": "stream",
     "text": [
      "[-0.00098539] [-0.0020002]\n"
     ]
    }
   ],
   "source": [
    "#first we deal with the linear case, and check that our likelihood calculations are correct\n",
    "\n",
    "mean, var, T, N, F, eps = 1, 1, 100, 1, 1, 1e-3\n",
    "\n",
    "#generate data\n",
    "data = np.random.normal(mean, var, size = [T, N])\n",
    "data -= np.min(data) - eps\n",
    "\n",
    "#evaluate likelihood\n",
    "gauss_likelihood = norm(np.mean(data), var).pdf(data)\n",
    "exp_likelihood = gamma.pdf(data, 1, scale = np.mean(data))\n",
    "gLL, eLL = sum(np.log(gauss_likelihood)), sum(np.log(exp_likelihood))\n",
    "\n",
    "\n",
    "\n",
    "#evalutate the likelihood using the GLM objects\n",
    "gLL_, _ = gm.gaussian_GLM(np.ones([F, N]), non_lin='identity', offset_init = 0, \n",
    "                        scale_init = 1, bias_init = 0).get_log_likelihood(data, np.mean(data)*np.ones([T, F]))\n",
    "eLL_ = gm.exponential_GLM(np.ones([F, N]), non_lin='identity', offset_init = 0, \n",
    "                          scale_init = 1, bias_init = 0).get_log_likelihood(data, np.mean(data)*np.ones([T, F]))\n",
    "\n",
    "print gLL_ - gLL/T, eLL_ - eLL/T"
   ]
  },
  {
   "cell_type": "code",
   "execution_count": 211,
   "metadata": {
    "collapsed": false
   },
   "outputs": [
    {
     "name": "stdout",
     "output_type": "stream",
     "text": [
      "[-1.62578772] [-1.61991548] [ 1.41605619]\n",
      "[-2.39648914] [-2.30330622]\n"
     ]
    }
   ],
   "source": [
    "#now let's generate data, and again check the likelihood. \n",
    "num_neurons, num_features, T = 1, 10, 100 \n",
    "\n",
    "stim = np.random.normal(0, scale = 1, size = [T, num_features])\n",
    "weight_mat = np.zeros([num_features, num_neurons])\n",
    "y = np.zeros([T, num_neurons])\n",
    "\n",
    "for i in range(num_neurons):\n",
    "    s, w, t = generate_data(T, num_features, filt_amp = np.random.uniform(5, 15), c = 3, scale = 5,\n",
    "                            noise_model='gaussian', non_lin = sigmoid, stim = stim)\n",
    "    weight_mat[:, i] = w   \n",
    "    y[:, i] = t\n",
    "\n",
    "    \n",
    "#offset = 0\n",
    "offset = np.min(y) - eps\n",
    "y -= offset \n",
    "\n",
    "c_int = cond_int(sigmoid, weight_mat, stim, 5, 3, nls = -offset/5)\n",
    "\n",
    "    \n",
    "gLL_, var = gm.gaussian_GLM(weight_mat, non_lin = 'sigmoid', bias_init = 3,\n",
    "                          offset_init = -offset / 5, scale_init = 5).get_log_likelihood(y, stim)\n",
    "\n",
    "gLL = 1./T * sum(np.log(norm(0, var).pdf(y - c_int)))\n",
    "\n",
    "print gLL_, gLL, var\n",
    "\n",
    "\n",
    "\n",
    "eLL_ = gm.exponential_GLM(weight_mat, non_lin = 'sigmoid', bias_init = 3,\n",
    "                          offset_init = -offset / 5, scale_init = 5).get_log_likelihood(y, stim)\n",
    "\n",
    "\n",
    "eLL = 1./T * sum(np.log(gamma.pdf(y, 1, scale = c_int)))\n",
    "\n",
    "print eLL_, eLL, "
   ]
  },
  {
   "cell_type": "code",
   "execution_count": 185,
   "metadata": {
    "collapsed": false
   },
   "outputs": [
    {
     "data": {
      "text/plain": [
       "-2.2760132574936676"
      ]
     },
     "execution_count": 185,
     "metadata": {},
     "output_type": "execute_result"
    }
   ],
   "source": [
    "offset"
   ]
  },
  {
   "cell_type": "code",
   "execution_count": 199,
   "metadata": {
    "collapsed": false
   },
   "outputs": [
    {
     "data": {
      "text/plain": [
       "array([ 0.93446043])"
      ]
     },
     "execution_count": 199,
     "metadata": {},
     "output_type": "execute_result"
    }
   ],
   "source": [
    "1./T * sum((y-c_int)**2)"
   ]
  },
  {
   "cell_type": "code",
   "execution_count": 200,
   "metadata": {
    "collapsed": true
   },
   "outputs": [],
   "source": [
    "model = gm.gaussian_GLM(weight_mat, non_lin = 'sigmoid', bias_init = 3,\n",
    "                          offset_init = -offset / 5, scale_init = 5)"
   ]
  },
  {
   "cell_type": "code",
   "execution_count": 202,
   "metadata": {
    "collapsed": false
   },
   "outputs": [],
   "source": [
    "w, o, nls, s = model.get_params()"
   ]
  },
  {
   "cell_type": "code",
   "execution_count": 206,
   "metadata": {
    "collapsed": false
   },
   "outputs": [
    {
     "data": {
      "text/plain": [
       "array([ 26.59533037])"
      ]
     },
     "execution_count": 206,
     "metadata": {},
     "output_type": "execute_result"
    }
   ],
   "source": [
    "gaussian_variance(y, stim, w, o, nls, s)"
   ]
  },
  {
   "cell_type": "code",
   "execution_count": null,
   "metadata": {
    "collapsed": true
   },
   "outputs": [],
   "source": []
  }
 ],
 "metadata": {
  "kernelspec": {
   "display_name": "Python 2",
   "language": "python",
   "name": "python2"
  },
  "language_info": {
   "codemirror_mode": {
    "name": "ipython",
    "version": 2
   },
   "file_extension": ".py",
   "mimetype": "text/x-python",
   "name": "python",
   "nbconvert_exporter": "python",
   "pygments_lexer": "ipython2",
   "version": "2.7.12"
  }
 },
 "nbformat": 4,
 "nbformat_minor": 1
}
