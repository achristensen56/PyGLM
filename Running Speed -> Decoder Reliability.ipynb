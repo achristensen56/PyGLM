{
 "cells": [
  {
   "cell_type": "code",
   "execution_count": 5,
   "metadata": {
    "collapsed": false
   },
   "outputs": [
    {
     "name": "stdout",
     "output_type": "stream",
     "text": [
      "The autoreload extension is already loaded. To reload it, use:\n",
      "  %reload_ext autoreload\n"
     ]
    }
   ],
   "source": [
    "import matplotlib.pyplot as plt\n",
    "\n",
    "import matplotlib.patches as patches\n",
    "import numpy as np\n",
    "import group_glm as gm\n",
    "from glm_utils import *\n",
    "from scipy.stats import linregress\n",
    "import pprint\n",
    "import allensdk.brain_observatory.stimulus_info as stim_info\n",
    "from allensdk.core.brain_observatory_cache import BrainObservatoryCache\n",
    "import tensorflow as tf\n",
    "import warnings\n",
    "import pandas as pd\n",
    "\n",
    "warnings.filterwarnings(\"ignore\")\n",
    "%load_ext autoreload\n",
    "%autoreload 2\n",
    "%matplotlib inline\n",
    "\n",
    "boc = BrainObservatoryCache(manifest_file='boc/manifest.json')"
   ]
  },
  {
   "cell_type": "code",
   "execution_count": 25,
   "metadata": {
    "collapsed": true
   },
   "outputs": [],
   "source": [
    "#first we get the data\n",
    "\n",
    "regions = ['VISal']\n",
    "lines =  ['Cux2-CreERT2']#, 'Rbp4-Cre', 'Rorb-IRES2-Cre'] \n",
    "\n",
    "data_set = download_data(regions, lines, [stim_info.NATURAL_SCENES])"
   ]
  },
  {
   "cell_type": "code",
   "execution_count": 27,
   "metadata": {
    "collapsed": false
   },
   "outputs": [
    {
     "name": "stdout",
     "output_type": "stream",
     "text": [
      "neurons with > 10.0 % explainable variance for dataset:  504625475  :  33\n",
      "neurons with > 10.0 % explainable variance for dataset:  503820068  :  22\n",
      "neurons with > 10.0 % explainable variance for dataset:  511976329  :  10\n",
      "neurons with > 10.0 % explainable variance for dataset:  506156402  :  11\n",
      "neurons with > 10.0 % explainable variance for dataset:  507691380  :  6\n",
      "neurons with > 10.0 % explainable variance for dataset:  512149367  :  14\n",
      "neurons with > 10.0 % explainable variance for dataset:  502382906  :  45\n",
      "neurons with > 10.0 % explainable variance for dataset:  501889084  :  39\n",
      "neurons with > 10.0 % explainable variance for dataset:  501929146  :  41\n"
     ]
    }
   ],
   "source": [
    "all_tensors = {}\n",
    "ra_variance = {}\n",
    "dffs = {}\n",
    "data_dict = {}\n",
    "\n",
    "var_thresh = .1\n",
    "for key in data_set.keys():\n",
    "    dff, images, stim_table = get_data(data_set[key], stim_info.NATURAL_SCENES)\n",
    "    data_tensor, trialCount = arrange_ns_data_trialTensor(dff, stim_table)\n",
    "    all_tensors[key] = data_tensor\n",
    "    \n",
    "    ra_variance[key] = get_explainable_variance(all_tensors[key])\n",
    "    \n",
    "    exp_var = ra_variance[key]\n",
    "    exp_ind = exp_var > var_thresh\n",
    "    \n",
    "    pruned_dff_traces = dff[exp_ind]\n",
    "    \n",
    "    print \"neurons with >\", 100 * var_thresh, \"% explainable variance for dataset: \", key, \" : \", sum(exp_ind)\n",
    "    \n",
    "    r_images = pca_features(images)\n",
    "    \n",
    "    data, stim_array = arrange_data_glm(pruned_dff_traces, r_images, stim_table)\n",
    "    \n",
    "    dxcm, dtime = data_set[key].get_running_speed()\n",
    "    rs = arrange_rs_glm(dxcm, stim_table)\n",
    "    \n",
    "    data_dict[key] = (data, stim_array, rs)\n",
    "    "
   ]
  },
  {
   "cell_type": "code",
   "execution_count": 28,
   "metadata": {
    "collapsed": false
   },
   "outputs": [
    {
     "name": "stdout",
     "output_type": "stream",
     "text": [
      "504625475\n",
      "[ True  True  True ...,  True  True  True]\n",
      "503820068\n",
      "[ True  True  True ...,  True  True  True]\n",
      "511976329\n",
      "[ True  True  True ...,  True  True  True]\n",
      "506156402\n",
      "[ True  True  True ...,  True  True  True]\n",
      "507691380\n",
      "[ True  True  True ...,  True  True  True]\n",
      "512149367\n",
      "[ True  True  True ...,  True  True  True]\n",
      "502382906\n",
      "[ True  True  True ...,  True  True  True]\n",
      "501889084\n",
      "[ True  True  True ...,  True  True  True]\n",
      "501929146\n",
      "[ True  True  True ...,  True  True  True]\n"
     ]
    }
   ],
   "source": [
    "for key in data_dict.keys():\n",
    "    dxcm, dxtime = data_set[key].get_running_speed()\n",
    "    \n",
    "    data, stim_array, rs = data_dict[key]\n",
    "    print key\n",
    "    \n",
    "    print np.isnan(dxcm)"
   ]
  },
  {
   "cell_type": "code",
   "execution_count": 29,
   "metadata": {
    "collapsed": false
   },
   "outputs": [
    {
     "data": {
      "text/plain": [
       "(array([ nan,  nan,  nan, ...,  nan,  nan,  nan]),\n",
       " array([   17.23731,    17.27056,    17.30381, ...,  3802.9257 ,\n",
       "         3802.95895,  3802.9922 ]))"
      ]
     },
     "execution_count": 29,
     "metadata": {},
     "output_type": "execute_result"
    }
   ],
   "source": [
    "data_set[key].get_running_speed()"
   ]
  },
  {
   "cell_type": "code",
   "execution_count": 30,
   "metadata": {
    "collapsed": true
   },
   "outputs": [],
   "source": [
    "ds = data_set[key]"
   ]
  },
  {
   "cell_type": "code",
   "execution_count": 31,
   "metadata": {
    "collapsed": true
   },
   "outputs": [],
   "source": [
    "dxcm, dxtime = ds.get_running_speed()"
   ]
  },
  {
   "cell_type": "code",
   "execution_count": null,
   "metadata": {
    "collapsed": true
   },
   "outputs": [],
   "source": []
  }
 ],
 "metadata": {
  "kernelspec": {
   "display_name": "Python 2",
   "language": "python",
   "name": "python2"
  },
  "language_info": {
   "codemirror_mode": {
    "name": "ipython",
    "version": 2
   },
   "file_extension": ".py",
   "mimetype": "text/x-python",
   "name": "python",
   "nbconvert_exporter": "python",
   "pygments_lexer": "ipython2",
   "version": "2.7.12"
  }
 },
 "nbformat": 4,
 "nbformat_minor": 1
}
