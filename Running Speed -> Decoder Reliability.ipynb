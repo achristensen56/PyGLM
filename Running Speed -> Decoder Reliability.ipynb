{
 "cells": [
  {
   "cell_type": "code",
   "execution_count": 2,
   "metadata": {
    "collapsed": false
   },
   "outputs": [],
   "source": [
    "import matplotlib.pyplot as plt\n",
    "\n",
    "import matplotlib.patches as patches\n",
    "import numpy as np\n",
    "import group_glm as gm\n",
    "from glm_utils import *\n",
    "from scipy.stats import linregress\n",
    "import pprint\n",
    "import allensdk.brain_observatory.stimulus_info as stim_info\n",
    "from allensdk.core.brain_observatory_cache import BrainObservatoryCache\n",
    "import tensorflow as tf\n",
    "import warnings\n",
    "import pandas as pd\n",
    "\n",
    "warnings.filterwarnings(\"ignore\")\n",
    "%load_ext autoreload\n",
    "%autoreload 2\n",
    "%matplotlib inline\n",
    "\n",
    "boc = BrainObservatoryCache(manifest_file='boc/manifest.json')"
   ]
  },
  {
   "cell_type": "code",
   "execution_count": 3,
   "metadata": {
    "collapsed": false
   },
   "outputs": [],
   "source": [
    "#first we get the data\n",
    "\n",
    "regions = ['VISpm']\n",
    "lines =  ['Cux2-CreERT2']#, 'Rbp4-Cre', 'Rorb-IRES2-Cre'] \n",
    "\n",
    "data_set = download_data(regions, lines, [stim_info.NATURAL_SCENES])"
   ]
  },
  {
   "cell_type": "code",
   "execution_count": 4,
   "metadata": {
    "collapsed": false
   },
   "outputs": [
    {
     "name": "stdout",
     "output_type": "stream",
     "text": [
      "neurons with > 10.0 % explainable variance for dataset:  503866276  :  32\n",
      "neurons with > 10.0 % explainable variance for dataset:  512145745  :  11\n",
      "neurons with > 10.0 % explainable variance for dataset:  504508104  :  11\n",
      "neurons with > 10.0 % explainable variance for dataset:  509517577  :  4\n",
      "neurons with > 10.0 % explainable variance for dataset:  510698988  :  1\n",
      "neurons with > 10.0 % explainable variance for dataset:  507304910  :  11\n",
      "neurons with > 10.0 % explainable variance for dataset:  505687912  :  43\n",
      "neurons with > 10.0 % explainable variance for dataset:  510518066  :  33\n",
      "neurons with > 10.0 % explainable variance for dataset:  506539927  :  9\n",
      "neurons with > 10.0 % explainable variance for dataset:  505696248  :  24\n",
      "neurons with > 10.0 % explainable variance for dataset:  506520696  :  10\n",
      "neurons with > 10.0 % explainable variance for dataset:  502254330  :  25\n",
      "neurons with > 10.0 % explainable variance for dataset:  503772253  :  21\n"
     ]
    }
   ],
   "source": [
    "all_tensors = {}\n",
    "ra_variance = {}\n",
    "dffs = {}\n",
    "data_dict = {}\n",
    "\n",
    "var_thresh = .1\n",
    "for key in data_set.keys():\n",
    "    dff, images, stim_table = get_data(data_set[key], stim_info.NATURAL_SCENES)\n",
    "    data_tensor, trialCount = arrange_ns_data_trialTensor(dff, stim_table)\n",
    "    all_tensors[key] = data_tensor\n",
    "    \n",
    "    ra_variance[key] = get_explainable_variance(all_tensors[key])\n",
    "    \n",
    "    exp_var = ra_variance[key]\n",
    "    exp_ind = exp_var > var_thresh\n",
    "    \n",
    "    pruned_dff_traces = dff[exp_ind]\n",
    "    \n",
    "    print \"neurons with >\", 100 * var_thresh, \"% explainable variance for dataset: \", key, \" : \", sum(exp_ind)\n",
    "    \n",
    "    r_images = pca_features(images)\n",
    "    \n",
    "    data, stim_array = arrange_data_glm(pruned_dff_traces, r_images, stim_table)\n",
    "    \n",
    "    dxcm, dtime = data_set[key].get_running_speed()\n",
    "    rs = arrange_rs_glm(dxcm, stim_table)\n",
    "    \n",
    "    data_dict[key] = (data, stim_array, rs)\n",
    "    "
   ]
  },
  {
   "cell_type": "code",
   "execution_count": 5,
   "metadata": {
    "collapsed": false
   },
   "outputs": [
    {
     "name": "stdout",
     "output_type": "stream",
     "text": [
      "505687912\n",
      "[ True  True  True ...,  True  True  True]\n",
      "503866276\n",
      "[ True  True  True ...,  True  True  True]\n",
      "504508104\n",
      "[ True  True  True ...,  True  True  True]\n",
      "509517577\n",
      "[ True  True  True ...,  True  True  True]\n",
      "510698988\n",
      "[ True  True  True ...,  True  True  True]\n",
      "507304910\n",
      "[ True  True  True ...,  True  True  True]\n",
      "512145745\n",
      "[ True  True  True ...,  True  True  True]\n",
      "510518066\n",
      "[ True  True  True ...,  True  True  True]\n",
      "506539927\n",
      "[ True  True  True ...,  True  True  True]\n",
      "505696248\n",
      "[ True  True  True ...,  True  True  True]\n",
      "506520696\n",
      "[ True  True  True ...,  True  True  True]\n",
      "502254330\n",
      "[ True  True  True ...,  True  True  True]\n",
      "503772253\n",
      "[ True  True  True ...,  True  True  True]\n"
     ]
    }
   ],
   "source": [
    "for key in data_dict.keys():\n",
    "    dxcm, dxtime = data_set[key].get_running_speed()\n",
    "    \n",
    "    data, stim_array, rs = data_dict[key]\n",
    "    print key\n",
    "    \n",
    "    print np.isnan(dxcm)"
   ]
  },
  {
   "cell_type": "code",
   "execution_count": 29,
   "metadata": {
    "collapsed": false
   },
   "outputs": [
    {
     "data": {
      "text/plain": [
       "(array([ nan,  nan,  nan, ...,  nan,  nan,  nan]),\n",
       " array([   17.23731,    17.27056,    17.30381, ...,  3802.9257 ,\n",
       "         3802.95895,  3802.9922 ]))"
      ]
     },
     "execution_count": 29,
     "metadata": {},
     "output_type": "execute_result"
    }
   ],
   "source": [
    "data_set[key].get_running_speed()"
   ]
  },
  {
   "cell_type": "code",
   "execution_count": 6,
   "metadata": {
    "collapsed": true
   },
   "outputs": [],
   "source": [
    "ds = data_set[key]"
   ]
  },
  {
   "cell_type": "code",
   "execution_count": 11,
   "metadata": {
    "collapsed": false
   },
   "outputs": [],
   "source": [
    "\n",
    "tb_data = arrange_data_rs(data_set)\n"
   ]
  },
  {
   "cell_type": "code",
   "execution_count": 18,
   "metadata": {
    "collapsed": false
   },
   "outputs": [
    {
     "name": "stdout",
     "output_type": "stream",
     "text": [
      "[False False False ..., False False False]\n"
     ]
    }
   ],
   "source": [
    "for key in tb_data.keys():\n",
    "    print np.isnan(tb_data[key]['natural_rs'])\n",
    "    break"
   ]
  },
  {
   "cell_type": "code",
   "execution_count": 19,
   "metadata": {
    "collapsed": false
   },
   "outputs": [
    {
     "data": {
      "text/plain": [
       "array([ 0.        ,  7.28360748,  6.41263533, ..., -4.78502798,\n",
       "       -0.79814446,  3.08645272])"
      ]
     },
     "execution_count": 19,
     "metadata": {},
     "output_type": "execute_result"
    }
   ],
   "source": [
    "tb_data[key]['natural_rs']"
   ]
  },
  {
   "cell_type": "code",
   "execution_count": null,
   "metadata": {
    "collapsed": true
   },
   "outputs": [],
   "source": []
  }
 ],
 "metadata": {
  "kernelspec": {
   "display_name": "Python 2",
   "language": "python",
   "name": "python2"
  },
  "language_info": {
   "codemirror_mode": {
    "name": "ipython",
    "version": 2
   },
   "file_extension": ".py",
   "mimetype": "text/x-python",
   "name": "python",
   "nbconvert_exporter": "python",
   "pygments_lexer": "ipython2",
   "version": "2.7.12"
  }
 },
 "nbformat": 4,
 "nbformat_minor": 1
}
