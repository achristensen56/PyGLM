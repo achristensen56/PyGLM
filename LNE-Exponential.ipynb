{
 "cells": [
  {
   "cell_type": "code",
   "execution_count": 1,
   "metadata": {
    "collapsed": false
   },
   "outputs": [],
   "source": [
    "import matplotlib.pyplot as plt\n",
    "import matplotlib.patches as patches\n",
    "import numpy as np\n",
    "import glm_model as gm\n",
    "from glm_utils import *\n",
    "import tensorflow as tf\n",
    "\n",
    "%load_ext autoreload\n",
    "%autoreload 2\n",
    "%matplotlib inline"
   ]
  },
  {
   "cell_type": "code",
   "execution_count": 2,
   "metadata": {
    "collapsed": false
   },
   "outputs": [],
   "source": [
    "#finally get rid of the ugly ass allen code. We import the pickled design \n",
    "#matrix stimulus, which is PCA projection of the images, and the downsampled\n",
    "#traces. \n",
    "\n",
    "import pickle\n",
    "\n",
    "pkl_file = open('./boc/formatted/LMcelldata')\n",
    "data = pickle.load(pkl_file)\n",
    "pkl_file.close()\n",
    "\n",
    "pkl_file = open('./boc/formatted/LMstimdata')\n",
    "stim = pickle.load(pkl_file)\n",
    "pkl_file.close()\n",
    "\n",
    "pkl_file = open('./boc/formatted/runspeed')\n",
    "run_speed = pickle.load(pkl_file)\n",
    "pkl_file.close()"
   ]
  },
  {
   "cell_type": "code",
   "execution_count": 3,
   "metadata": {
    "collapsed": false
   },
   "outputs": [],
   "source": [
    "#get the number of features, and the number of training examples. \n",
    "l, n =  stim.shape"
   ]
  },
  {
   "cell_type": "code",
   "execution_count": null,
   "metadata": {
    "collapsed": false
   },
   "outputs": [
    {
     "name": "stderr",
     "output_type": "stream",
     "text": [
      "0%      100%\n",
      "[#         ] | ETA: 00:00:00"
     ]
    }
   ],
   "source": [
    "from statsmodels.tsa.tsatools import lagmat\n",
    "from sklearn.cross_validation import train_test_split\n",
    "from scipy.stats import linregress\n",
    "from itertools import product\n",
    "import pyprind\n",
    "\n",
    "import sys\n",
    "\n",
    "n_pcs = range(10, 110, 5)\n",
    "non_lin = [0]\n",
    "\n",
    "alpha = np.logspace(-1,1, 10) \n",
    "nlag = 2\n",
    "\n",
    "#empty dictionary of the best model we've fit for each cell\n",
    "best_model = {k: (-np.inf, None) for k in data.keys()}\n",
    "\n",
    "#make a dictionary of dictionaries to store the results\n",
    "scores_dict = {k: {} for k in data.keys()}\n",
    "\n",
    "bar = pyprind.ProgBar(len(alpha)*len(non_lin))\n",
    "\n",
    "for (a, n) in product(alpha, n_pcs):\n",
    "    bar.update()\n",
    "    \n",
    "    #lagged_stim = lagmat(stim[:, 0:n], maxlag = nlag, trim = None)[1:-1]       \n",
    "    #stim_array = np.concatenate((stim[:, 0:n], run_speed[:, np.newaxis]), axis = 1)\n",
    "    \n",
    "    \n",
    "    for c in data.keys():\n",
    "        X_train, X_test, y_train, y_test = train_test_split(stim[:, 0:n], np.array(data[c])) \n",
    "        \n",
    "        y_train[y_train < 0], y_test[y_test <0] = 0, 0\n",
    "        \n",
    "        weight_init = np.linalg.pinv(X_train).dot(y_train)[:, np.newaxis]\n",
    "          \n",
    "    \n",
    "        if l == 0:\n",
    "            nonlin = tf.exp\n",
    "        if l == 1:\n",
    "            nonlin = tf.nn.sigmoid\n",
    "        if l == 2:\n",
    "            nonlin = tf.nn.relu\n",
    "\n",
    "        \n",
    "        model = gm.exponential_GLM(weight_init, non_lin = nonlin, verbose = False, alpha = 0, reg = 'l2', \n",
    "                                lr = 1e-3, train_params = False, scale_init = 1, bias_init = 0)\n",
    "        \n",
    "        loss, cv = model.fit(X_train, y_train[:, np.newaxis], X_test, y_test[:, np.newaxis], \n",
    "                             max_iters = 60) \n",
    "\n",
    "        \n",
    "        w, o, s  = model.get_params()\n",
    "\n",
    "    \n",
    "        _, _, r2_test,_, _ = linregress(np.squeeze(model.predict_trace(X_test)), np.squeeze(y_test))\n",
    "        _, _, r2_train,_, _ = linregress(np.squeeze(model.predict_trace(X_train)), np.squeeze(y_train))\n",
    "\n",
    "        scores_dict[c][(l, n)] = (r2_test, r2_train) \n",
    "\n",
    "        if r2_test > best_model[c][0]:\n",
    "            best_model[c] = (r2_test, (l, n))\n",
    "            print \"new best model for cell \", c, \". r2 test: \", r2_test\n"
   ]
  },
  {
   "cell_type": "code",
   "execution_count": 5,
   "metadata": {
    "collapsed": false
   },
   "outputs": [
    {
     "name": "stdout",
     "output_type": "stream",
     "text": [
      "explained var:  0.033 non_lin: 0 n_components 11\n",
      "(0.033481352484106865, (0, 11))\n",
      "explained var:  0.029 non_lin: 0 n_components 11\n",
      "(0.0291953538059119, (0, 11))\n",
      "explained var:  0.038 non_lin: 0 n_components 1\n",
      "(0.038053710902818907, (0, 1))\n",
      "explained var:  0.02 non_lin: 0 n_components 31\n",
      "(0.020302991123940045, (0, 31))\n",
      "explained var:  0.039 non_lin: 0 n_components 21\n",
      "(0.038589112636662745, (0, 21))\n",
      "explained var:  0.047 non_lin: 0 n_components 1\n",
      "(0.047027122449560151, (0, 1))\n",
      "explained var:  0.03 non_lin: 0 n_components 1\n",
      "(0.029830916758050888, (0, 1))\n",
      "explained var:  0.029 non_lin: 0 n_components 71\n",
      "(0.029482966787885187, (0, 71))\n",
      "explained var:  0.027 non_lin: 0 n_components 11\n",
      "(0.027403796402451115, (0, 11))\n",
      "explained var:  0.012 non_lin: 0 n_components 71\n",
      "(0.012212338928765543, (0, 71))\n",
      "explained var:  0.071 non_lin: 0 n_components 1\n",
      "(0.071203885108500731, (0, 1))\n",
      "explained var:  0.008 non_lin: 0 n_components 11\n",
      "(0.0081442650532704292, (0, 11))\n",
      "explained var:  0.046 non_lin: 0 n_components 1\n",
      "(0.045973972046233345, (0, 1))\n",
      "explained var:  0.033 non_lin: 0 n_components 21\n",
      "(0.033002696588666738, (0, 21))\n",
      "explained var:  0.077 non_lin: 0 n_components 21\n",
      "(0.076863010020211453, (0, 21))\n",
      "explained var:  0.017 non_lin: 0 n_components 41\n",
      "(0.017390632381356096, (0, 41))\n",
      "explained var:  -0.014 non_lin: 0 n_components 51\n",
      "(-0.013882795635572201, (0, 51))\n",
      "explained var:  0.02 non_lin: 0 n_components 51\n",
      "(0.020030958210767825, (0, 51))\n",
      "explained var:  0.028 non_lin: 0 n_components 41\n",
      "(0.02767303943457064, (0, 41))\n",
      "explained var:  0.052 non_lin: 0 n_components 21\n",
      "(0.052332546878617034, (0, 21))\n",
      "explained var:  0.04 non_lin: 0 n_components 31\n",
      "(0.039676623548882954, (0, 31))\n"
     ]
    }
   ],
   "source": [
    "for c in data.keys():\n",
    "    \n",
    "    if best_model[c][1] != None:\n",
    "        (v, (l, n)) = best_model[c]\n",
    "    \n",
    "        print 'explained var: ', round(v, 3), 'non_lin:', l, 'n_components', n\n",
    "        \n",
    "    print best_model[c]"
   ]
  },
  {
   "cell_type": "code",
   "execution_count": 7,
   "metadata": {
    "collapsed": true
   },
   "outputs": [],
   "source": [
    "pkl_file = open('./boc/formatted/LNE_exp', 'wb')\n",
    "\n",
    "pickle.dump((best_model, scores_dict), pkl_file)\n",
    "pkl_file.close()"
   ]
  },
  {
   "cell_type": "code",
   "execution_count": null,
   "metadata": {
    "collapsed": true
   },
   "outputs": [],
   "source": []
  }
 ],
 "metadata": {
  "kernelspec": {
   "display_name": "Python 2",
   "language": "python",
   "name": "python2"
  },
  "language_info": {
   "codemirror_mode": {
    "name": "ipython",
    "version": 2
   },
   "file_extension": ".py",
   "mimetype": "text/x-python",
   "name": "python",
   "nbconvert_exporter": "python",
   "pygments_lexer": "ipython2",
   "version": "2.7.11"
  },
  "latex_envs": {
   "bibliofile": "biblio.bib",
   "cite_by": "apalike",
   "current_citInitial": 1,
   "eqLabelWithNumbers": true,
   "eqNumInitial": 0
  }
 },
 "nbformat": 4,
 "nbformat_minor": 0
}
