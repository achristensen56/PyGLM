{
 "cells": [
  {
   "cell_type": "code",
   "execution_count": 1,
   "metadata": {
    "collapsed": false
   },
   "outputs": [],
   "source": [
    "import matplotlib.pyplot as plt\n",
    "import matplotlib.patches as patches\n",
    "import numpy as np\n",
    "import glm_model as gm\n",
    "from glm_utils import *\n",
    "import tensorflow as tf\n",
    "\n",
    "%load_ext autoreload\n",
    "%autoreload 2\n",
    "%matplotlib inline"
   ]
  },
  {
   "cell_type": "code",
   "execution_count": 2,
   "metadata": {
    "collapsed": false
   },
   "outputs": [],
   "source": [
    "#finally get rid of the ugly ass allen code. We import the pickled design \n",
    "#matrix stimulus, which is PCA projection of the images, and the downsampled\n",
    "#traces. \n",
    "\n",
    "import pickle\n",
    "\n",
    "pkl_file = open('./boc/formatted/LMcelldata')\n",
    "data = pickle.load(pkl_file)\n",
    "pkl_file.close()\n",
    "\n",
    "pkl_file = open('./boc/formatted/LMstimdata')\n",
    "stim = pickle.load(pkl_file)\n",
    "pkl_file.close()\n",
    "\n",
    "pkl_file = open('./boc/formatted/runspeed')\n",
    "run_speed = pickle.load(pkl_file)\n",
    "pkl_file.close()"
   ]
  },
  {
   "cell_type": "code",
   "execution_count": 3,
   "metadata": {
    "collapsed": false
   },
   "outputs": [],
   "source": [
    "#get the number of features, and the number of training examples. \n",
    "l, n =  stim.shape"
   ]
  },
  {
   "cell_type": "code",
   "execution_count": 6,
   "metadata": {
    "collapsed": false
   },
   "outputs": [
    {
     "name": "stderr",
     "output_type": "stream",
     "text": [
      "0%                  100%\n",
      "[#                     ] | ETA: 00:00:00"
     ]
    },
    {
     "name": "stdout",
     "output_type": "stream",
     "text": [
      "new best model for cell  517442753 . r2 test:  -0.0121992607865\n",
      "new best model for cell  517444738 . r2 test:  0.0152964662532\n",
      "new best model for cell  517443331 . r2 test:  0.0234830558252\n",
      "new best model for cell  517442436 . r2 test:  0.0430124977009\n",
      "new best model for cell  517445575 . r2 test:  0.0166415565976\n",
      "new best model for cell  517444426 . r2 test:  0.0131889012692\n",
      "new best model for cell  517442471 . r2 test:  -0.0104962223737\n",
      "new best model for cell  517443181 . r2 test:  -0.011561032389\n",
      "new best model for cell  517443087 . r2 test:  0.0165223704613\n",
      "new best model for cell  517446833 . r2 test:  0.0593811177061\n",
      "new best model for cell  517443827 . r2 test:  -0.0538711993743\n",
      "new best model for cell  517443924 . r2 test:  -0.0500632470467\n",
      "new best model for cell  517443957 . r2 test:  0.0481849530491\n",
      "new best model for cell  517442722 . r2 test:  -0.025770218487\n",
      "new best model for cell  517446488 . r2 test:  0.051223825618\n",
      "new best model for cell  517442675 . r2 test:  0.0437411591289\n",
      "new best model for cell  517446554 . r2 test:  0.0833164830856\n",
      "new best model for cell  517444175 . r2 test:  -0.00551040072639\n",
      "new best model for cell  517443484 . r2 test:  0.11224074167\n",
      "new best model for cell  517447069 . r2 test:  0.0412957892003\n",
      "new best model for cell  517443571 . r2 test:  -0.0134281695838\n",
      "new best model for cell  517444738 . r2 test:  0.0329547745596\n",
      "new best model for cell  517443331 . r2 test:  0.0304719937364\n",
      "new best model for cell  517443087 . r2 test:  0.0463069577691\n",
      "new best model for cell  517443827 . r2 test:  0.0314322907225\n",
      "new best model for cell  517443924 . r2 test:  0.0503084000968\n",
      "new best model for cell  517442722 . r2 test:  0.0576991560883\n",
      "new best model for cell  517446554 . r2 test:  0.134985021647\n",
      "new best model for cell  517444175 . r2 test:  -0.00183386827778\n",
      "new best model for cell "
     ]
    },
    {
     "name": "stderr",
     "output_type": "stream",
     "text": [
      "[###                   ] | ETA: 00:31:07"
     ]
    },
    {
     "name": "stdout",
     "output_type": "stream",
     "text": [
      " 517443571 . r2 test:  0.00534590819422\n",
      "new best model for cell  517442753 . r2 test:  0.0324677051336\n",
      "new best model for cell  517445575 . r2 test:  0.0190367770004\n",
      "new best model for cell  517444426 . r2 test:  0.017922223832\n",
      "new best model for cell  517444175 . r2 test:  0.0265397667299\n",
      "new best model for cell  517444738 . r2 test:  0.0432737871558\n",
      "new best model for cell  517444426 . r2 test:  0.0315664938317\n",
      "new best model for cell  517442471 . r2 test:  -0.00424594600715\n",
      "new best model for cell  517443181 . r2 test:  0.012064146641\n",
      "new best model for cell "
     ]
    },
    {
     "name": "stderr",
     "output_type": "stream",
     "text": [
      "[#####                 ] | ETA: 00:58:51"
     ]
    },
    {
     "name": "stdout",
     "output_type": "stream",
     "text": [
      " 517443571 . r2 test:  0.0238413087457\n",
      "new best model for cell  517443331 . r2 test:  0.0469936241209\n",
      "new best model for cell  517445575 . r2 test:  0.040575432003\n",
      "new best model for cell  517442471 . r2 test:  0.0140389936562\n",
      "new best model for cell  517443571 . r2 test:  0.031685981548\n",
      "new best model for cell  517446833 . r2 test:  0.0621716982459\n",
      "new best model for cell "
     ]
    },
    {
     "name": "stderr",
     "output_type": "stream",
     "text": [
      "[#######               ] | ETA: 01:01:12"
     ]
    },
    {
     "name": "stdout",
     "output_type": "stream",
     "text": [
      " 517444175 . r2 test:  0.0267048312886\n",
      "new best model for cell "
     ]
    },
    {
     "name": "stderr",
     "output_type": "stream",
     "text": [
      "[#########             ] | ETA: 01:02:39"
     ]
    },
    {
     "name": "stdout",
     "output_type": "stream",
     "text": [
      " 517442471 . r2 test:  0.0212650376885\n",
      "new best model for cell "
     ]
    },
    {
     "name": "stderr",
     "output_type": "stream",
     "text": [
      "[############          ] | ETA: 01:29:52"
     ]
    },
    {
     "name": "stdout",
     "output_type": "stream",
     "text": [
      " 517442471 . r2 test:  0.0293315440994\n",
      "new best model for cell  517443484 . r2 test:  0.117102563772\n",
      "new best model for cell "
     ]
    },
    {
     "name": "stderr",
     "output_type": "stream",
     "text": [
      "[##############        ] | ETA: 01:15:24"
     ]
    },
    {
     "name": "stdout",
     "output_type": "stream",
     "text": [
      " 517443181 . r2 test:  0.0124302609866\n",
      "new best model for cell  517443181 . r2 test:  0.0283383311279\n",
      "new best model for cell  517444175 . r2 test:  0.0318192344518\n",
      "new best model for cell  517443571 . r2 test:  0.0471678917992\n",
      "new best model for cell  517442436 . r2 test:  0.0677833376927\n",
      "new best model for cell "
     ]
    },
    {
     "name": "stderr",
     "output_type": "stream",
     "text": [
      "[################      ] | ETA: 01:02:31"
     ]
    },
    {
     "name": "stdout",
     "output_type": "stream",
     "text": [
      " 517443924 . r2 test:  0.0573242943085\n",
      "new best model for cell  517443181 . r2 test:  0.0463598806229\n",
      "new best model for cell  517443827 . r2 test:  0.0381228287872\n",
      "new best model for cell "
     ]
    },
    {
     "name": "stderr",
     "output_type": "stream",
     "text": [
      "[##################    ] | ETA: 00:44:45"
     ]
    },
    {
     "name": "stdout",
     "output_type": "stream",
     "text": [
      " 517444175 . r2 test:  0.0367556178721\n",
      "new best model for cell  517444738 . r2 test:  0.0589949430966\n",
      "new best model for cell  517445575 . r2 test:  0.0567054463131\n",
      "new best model for cell  517442753 . r2 test:  0.072997532184\n",
      "new best model for cell  517445575 . r2 test:  0.0651040130893\n",
      "new best model for cell "
     ]
    },
    {
     "name": "stderr",
     "output_type": "stream",
     "text": [
      "[######################] | ETA: 00:00:00"
     ]
    },
    {
     "name": "stdout",
     "output_type": "stream",
     "text": [
      " 517443827 . r2 test:  0.0721977517522\n",
      "new best model for cell  517446833 . r2 test:  0.0739406503966\n",
      "new best model for cell  517442675 . r2 test:  0.0599556327036\n"
     ]
    },
    {
     "name": "stderr",
     "output_type": "stream",
     "text": [
      "\n",
      "Total time elapsed: 05:09:57\n"
     ]
    }
   ],
   "source": [
    "from statsmodels.tsa.tsatools import lagmat\n",
    "from sklearn.cross_validation import train_test_split\n",
    "from scipy.stats import linregress\n",
    "from itertools import product\n",
    "import pyprind\n",
    "\n",
    "import sys\n",
    "\n",
    "n_pcs = range(1, 110, 5)\n",
    "non_lin = [1]\n",
    "\n",
    "alpha = 0\n",
    "nlag = 2\n",
    "\n",
    "#empty dictionary of the best model we've fit for each cell\n",
    "best_model = {k: (-np.inf, None) for k in data.keys()}\n",
    "\n",
    "#make a dictionary of dictionaries to store the results\n",
    "scores_dict = {k: {} for k in data.keys()}\n",
    "\n",
    "bar = pyprind.ProgBar(len(n_pcs)*len(non_lin))\n",
    "\n",
    "for (l, n) in product(non_lin, n_pcs):\n",
    "    bar.update()\n",
    "    \n",
    "    #lagged_stim = lagmat(stim[:, 0:n], maxlag = nlag, trim = None)[1:-1]       \n",
    "    stim_array = np.concatenate((stim[:, 0:n], run_speed[:, np.newaxis]), axis = 1)\n",
    "    \n",
    "    \n",
    "    for c in data.keys():\n",
    "        X_train, X_test, y_train, y_test = train_test_split(stim_array, np.array(data[c]))     \n",
    "        weight_init = np.linalg.pinv(X_train).dot(y_train)[:, np.newaxis]\n",
    "       \n",
    "        if l == 0:\n",
    "            nonlin = tf.exp\n",
    "        if l == 1:\n",
    "            nonlin = tf.nn.sigmoid\n",
    "        if l == 2:\n",
    "            nonlin = tf.nn.relu\n",
    "\n",
    "        \n",
    "        model = gm.exponential_GLM(weight_init, non_lin = nonlin, verbose = False, alpha = 2, reg = 'l2', \n",
    "                                lr = 1e-4, train_params = False, scale_init = 1, bias_init = 0)\n",
    "        \n",
    "        loss, cv = model.fit(X_train, y_train[:, np.newaxis], X_test, y_test[:, np.newaxis], \n",
    "                             max_iters = 200) \n",
    "        \n",
    "        w, o, s  = model.get_params()\n",
    "\n",
    "    \n",
    "        _, _, r2_test,_, _ = linregress(np.squeeze(model.predict_trace(X_test)), np.squeeze(y_test))\n",
    "        _, _, r2_train,_, _ = linregress(np.squeeze(model.predict_trace(X_train)), np.squeeze(y_train))\n",
    "\n",
    "        scores_dict[c][(l, n)] = (r2_test, r2_train) \n",
    "\n",
    "        if r2_test > best_model[c][0]:\n",
    "            best_model[c] = (r2_test, (l, n))\n",
    "            print \"new best model for cell \", c, \". r2 test: \", r2_test\n"
   ]
  },
  {
   "cell_type": "code",
   "execution_count": 15,
   "metadata": {
    "collapsed": false
   },
   "outputs": [
    {
     "name": "stdout",
     "output_type": "stream",
     "text": [
      "explained var:  0.205 non_lin: 0 n_components 1\n",
      "(0.20471333787080059, (0, 1))\n",
      "explained var:  0.067 non_lin: 0 n_components 1\n",
      "(0.067399138643032402, (0, 1))\n",
      "explained var:  -0.012 non_lin: 0 n_components 61\n",
      "(-0.01225000620757246, (0, 61))\n",
      "explained var:  0.321 non_lin: 0 n_components 1\n",
      "(0.32066256818647759, (0, 1))\n",
      "explained var:  0.243 non_lin: 0 n_components 21\n",
      "(0.24282624633409033, (0, 21))\n",
      "explained var:  0.174 non_lin: 0 n_components 1\n",
      "(0.17381542853821436, (0, 1))\n",
      "explained var:  0.047 non_lin: 0 n_components 1\n",
      "(0.046700509571936236, (0, 1))\n",
      "explained var:  0.012 non_lin: 0 n_components 81\n",
      "(0.011955503314439762, (0, 81))\n",
      "explained var:  0.112 non_lin: 0 n_components 1\n",
      "(0.11185500602632083, (0, 1))\n",
      "explained var:  0.263 non_lin: 0 n_components 21\n",
      "(0.26327412441769821, (0, 21))\n",
      "explained var:  0.005 non_lin: 0 n_components 61\n",
      "(0.004968124413065044, (0, 61))\n",
      "explained var:  0.182 non_lin: 0 n_components 1\n",
      "(0.18216877669256215, (0, 1))\n",
      "explained var:  0.118 non_lin: 0 n_components 1\n",
      "(0.11841618930495884, (0, 1))\n",
      "explained var:  0.018 non_lin: 0 n_components 41\n",
      "(0.018463164867059477, (0, 41))\n",
      "explained var:  0.052 non_lin: 0 n_components 81\n",
      "(0.052234390441300529, (0, 81))\n",
      "explained var:  0.237 non_lin: 0 n_components 1\n",
      "(0.23650040808342412, (0, 1))\n",
      "explained var:  0.1 non_lin: 0 n_components 1\n",
      "(0.10016907442609084, (0, 1))\n",
      "explained var:  0.142 non_lin: 0 n_components 1\n",
      "(0.14245360554547506, (0, 1))\n",
      "explained var:  0.33 non_lin: 0 n_components 81\n",
      "(0.32993928741413592, (0, 81))\n",
      "explained var:  0.005 non_lin: 0 n_components 81\n",
      "(0.0051352647814859979, (0, 81))\n",
      "explained var:  0.105 non_lin: 0 n_components 41\n",
      "(0.1048894749533619, (0, 41))\n"
     ]
    }
   ],
   "source": [
    "for c in data.keys():\n",
    "    \n",
    "    if best_model[c][1] != None:\n",
    "        (v, (l, n)) = best_model[c]\n",
    "    \n",
    "        print 'explained var: ', round(v, 3), 'non_lin:', l, 'n_components', n\n",
    "        \n",
    "    print best_model[c]"
   ]
  },
  {
   "cell_type": "code",
   "execution_count": null,
   "metadata": {
    "collapsed": true
   },
   "outputs": [],
   "source": [
    "pkl_file = open('./boc/formatted/LNE_rs_sig', 'wb')\n",
    "pickle.dump((best_model, scores_dict), pkl_file)\n",
    "pkl_file.close()"
   ]
  }
 ],
 "metadata": {
  "kernelspec": {
   "display_name": "Python 2",
   "language": "python",
   "name": "python2"
  },
  "language_info": {
   "codemirror_mode": {
    "name": "ipython",
    "version": 2
   },
   "file_extension": ".py",
   "mimetype": "text/x-python",
   "name": "python",
   "nbconvert_exporter": "python",
   "pygments_lexer": "ipython2",
   "version": "2.7.11"
  },
  "latex_envs": {
   "bibliofile": "biblio.bib",
   "cite_by": "apalike",
   "current_citInitial": 1,
   "eqLabelWithNumbers": true,
   "eqNumInitial": 0
  }
 },
 "nbformat": 4,
 "nbformat_minor": 0
}
