{
 "cells": [
  {
   "cell_type": "code",
   "execution_count": 3,
   "metadata": {
    "collapsed": false
   },
   "outputs": [
    {
     "name": "stdout",
     "output_type": "stream",
     "text": [
      "The autoreload extension is already loaded. To reload it, use:\n",
      "  %reload_ext autoreload\n"
     ]
    }
   ],
   "source": [
    "import matplotlib.pyplot as plt\n",
    "import matplotlib.patches as patches\n",
    "import numpy as np\n",
    "import glm_model as gm\n",
    "from glm_utils import *\n",
    "import tensorflow as tf\n",
    "\n",
    "%load_ext autoreload\n",
    "%autoreload 2\n",
    "%matplotlib inline"
   ]
  },
  {
   "cell_type": "code",
   "execution_count": 4,
   "metadata": {
    "collapsed": false
   },
   "outputs": [],
   "source": [
    "#finally get rid of the ugly ass allen code. We import the pickled design \n",
    "#matrix stimulus, which is PCA projection of the images, and the downsampled\n",
    "#traces. \n",
    "\n",
    "import pickle\n",
    "\n",
    "pkl_file = open('./boc/formatted/LMcelldata')\n",
    "data = pickle.load(pkl_file)\n",
    "pkl_file.close()\n",
    "\n",
    "pkl_file = open('./boc/formatted/LMstimdata')\n",
    "stim = pickle.load(pkl_file)\n",
    "pkl_file.close()"
   ]
  },
  {
   "cell_type": "code",
   "execution_count": 5,
   "metadata": {
    "collapsed": false
   },
   "outputs": [],
   "source": [
    "#get the number of features, and the number of training examples. \n",
    "l, n =  stim.shape"
   ]
  },
  {
   "cell_type": "code",
   "execution_count": 7,
   "metadata": {
    "collapsed": false
   },
   "outputs": [
    {
     "name": "stderr",
     "output_type": "stream",
     "text": [
      "0%                 100%\n",
      "[                     ]"
     ]
    },
    {
     "name": "stdout",
     "output_type": "stream",
     "text": [
      "testing non-linearity:  relu ... testing  5  pc's...\n",
      "new best model for cell  517442753 . r2 test:  0.0456279314541\n",
      "new best model for cell  517444738 . r2 test:  -0.0228808608717\n",
      "new best model for cell  517443331 . r2 test:  0.0103987164378\n",
      "new best model for cell  517442436 . r2 test:  0.00777864870901\n",
      "new best model for cell  517445575 . r2 test:  -0.0295696995782\n",
      "new best model for cell  517444426 . r2 test:  0.0218410128247\n",
      "new best model for cell  517442471 . r2 test:  -0.000850413243955\n",
      "new best model for cell  517443181 . r2 test:  -0.0145824422996\n",
      "new best model for cell  517443087 . r2 test:  0.0252485094953\n",
      "new best model for cell  517446833 . r2 test:  -0.0223882541295\n",
      "new best model for cell  517443827 . r2 test:  -0.0331371097071\n",
      "new best model for cell  517443924 . r2 test:  -0.0147612362041\n",
      "new best model for cell  517443957 . r2 test:  0.0497759127745\n",
      "new best model for cell  517442722 . r2 test:  0.0543706833585\n",
      "new best model for cell  517446488 . r2 test:  0.024689304052\n",
      "new best model for cell  517442675 . r2 test:  0.0047157662817\n",
      "new best model for cell  517446554 . r2 test:  0.0256173732073\n",
      "new best model for cell  517444175 . r2 test:  0.0120396527675\n",
      "new best model for cell  517443484 . r2 test:  -0.0345975070583\n",
      "new best model for cell  517447069 . r2 test:  0.00495873281462\n",
      "new best model for cell  517443571 . r2 test:  -0.0225130503909\n",
      "testing non-linearity:  relu ... testing  10  pc's...\n"
     ]
    },
    {
     "name": "stderr",
     "output_type": "stream",
     "text": [
      "[#                    ] | ETA: 00:12:30"
     ]
    },
    {
     "name": "stdout",
     "output_type": "stream",
     "text": [
      "new best model for cell  517444738 . r2 test:  -0.0159637385738\n",
      "new best model for cell  517445575 . r2 test:  -0.00221954297692\n",
      "new best model for cell  517442471 . r2 test:  0.0265663166667\n",
      "new best model for cell  517443087 . r2 test:  0.0290131240619\n",
      "new best model for cell  517446833 . r2 test:  -0.016761203719\n",
      "new best model for cell  517444175 . r2 test:  0.0123100924842\n",
      "new best model for cell  517443484 . r2 test:  -0.0215801413244\n",
      "new best model for cell  517443571 . r2 test:  0.00789291283546\n",
      "testing non-linearity:  relu ... testing  15  pc's...\n"
     ]
    },
    {
     "name": "stderr",
     "output_type": "stream",
     "text": [
      "[###                  ] | ETA: 00:21:13"
     ]
    },
    {
     "name": "stdout",
     "output_type": "stream",
     "text": [
      "new best model for cell  517444738 . r2 test:  0.0131738216961\n",
      "new best model for cell  517443331 . r2 test:  0.0208227418123\n",
      "new best model for cell  517442436 . r2 test:  0.0249986805704\n",
      "new best model for cell  517443181 . r2 test:  -0.0131403951893\n",
      "new best model for cell  517443087 . r2 test:  0.0500297425284\n",
      "new best model for cell  517443924 . r2 test:  0.0112203171886\n",
      "new best model for cell  517443484 . r2 test:  0.016659834266\n",
      "new best model for cell  517443571 . r2 test:  0.0245311044778\n",
      "testing non-linearity:  relu ... testing  20  pc's...\n"
     ]
    },
    {
     "name": "stderr",
     "output_type": "stream",
     "text": [
      "[####                 ] | ETA: 00:26:21"
     ]
    },
    {
     "name": "stdout",
     "output_type": "stream",
     "text": [
      "new best model for cell  517443181 . r2 test:  -0.00958085118236\n",
      "new best model for cell  517446833 . r2 test:  0.0225786891529\n",
      "new best model for cell  517443827 . r2 test:  0.000713451110741\n",
      "new best model for cell  517443924 . r2 test:  0.017082179967\n",
      "new best model for cell  517446488 . r2 test:  0.0263262211927\n",
      "new best model for cell  517442675 . r2 test:  0.00579283223953\n",
      "testing non-linearity:  relu ... testing  25  pc's...\n"
     ]
    },
    {
     "name": "stderr",
     "output_type": "stream",
     "text": [
      "[#####                ] | ETA: 00:30:45"
     ]
    },
    {
     "name": "stdout",
     "output_type": "stream",
     "text": [
      "new best model for cell  517443181 . r2 test:  0.00853731179156\n",
      "new best model for cell  517443827 . r2 test:  0.0153953136397\n",
      "new best model for cell  517442675 . r2 test:  0.0411151595876\n",
      "new best model for cell  517447069 . r2 test:  0.0267469203473\n",
      "testing non-linearity:  relu ... testing  30  pc's...\n",
      "new best model for cell  517442436 . r2 test:  0.0327592082268\n",
      "new best model for cell  517445575 . r2 test:  0.0162562490172\n",
      "new best model for cell  517446833 . r2 test:  0.0302507141068\n",
      "new best model for cell  517446554 . r2 test:  0.0477979597306\n",
      "testing non-linearity:  relu ... testing  35  pc's...\n"
     ]
    },
    {
     "name": "stderr",
     "output_type": "stream",
     "text": [
      "[######               ] | ETA: 00:38:19"
     ]
    },
    {
     "name": "stdout",
     "output_type": "stream",
     "text": [
      "new best model for cell  517442471 . r2 test:  0.0284873253576\n",
      "new best model for cell  517443181 . r2 test:  0.0422946223821\n",
      "new best model for cell  517443957 . r2 test:  0.0529818845314\n",
      "new best model for cell  517443484 . r2 test:  0.0258828131394\n",
      "new best model for cell  517443571 . r2 test:  0.0338380670572\n",
      "testing non-linearity:  relu ... testing  40  pc's...\n"
     ]
    },
    {
     "name": "stderr",
     "output_type": "stream",
     "text": [
      "[########             ] | ETA: 00:41:31"
     ]
    },
    {
     "name": "stdout",
     "output_type": "stream",
     "text": [
      "new best model for cell  517444738 . r2 test:  0.0236123020952\n",
      "new best model for cell  517445575 . r2 test:  0.0278605902324\n",
      "testing non-linearity:  relu ... testing  45  pc's...\n"
     ]
    },
    {
     "name": "stderr",
     "output_type": "stream",
     "text": [
      "[#########            ] | ETA: 00:44:32"
     ]
    },
    {
     "name": "stdout",
     "output_type": "stream",
     "text": [
      "testing non-linearity:  relu ... testing  50  pc's...\n"
     ]
    },
    {
     "name": "stderr",
     "output_type": "stream",
     "text": [
      "[##########           ] | ETA: 00:45:21"
     ]
    },
    {
     "name": "stdout",
     "output_type": "stream",
     "text": [
      "new best model for cell  517443827 . r2 test:  0.0281454525963\n",
      "new best model for cell  517443924 . r2 test:  0.0282202874488\n",
      "testing non-linearity:  relu ... testing  55  pc's...\n",
      "new best model for cell  517444426 . r2 test:  0.038332044663\n",
      "new best model for cell  517442675 . r2 test:  0.0582745952917\n",
      "testing non-linearity:  relu ... testing  60  pc's...\n"
     ]
    },
    {
     "name": "stderr",
     "output_type": "stream",
     "text": [
      "[###########          ] | ETA: 00:43:47"
     ]
    },
    {
     "name": "stdout",
     "output_type": "stream",
     "text": [
      "new best model for cell  517444175 . r2 test:  0.0352682087595\n",
      "testing non-linearity:  relu ... testing  65  pc's...\n"
     ]
    },
    {
     "name": "stderr",
     "output_type": "stream",
     "text": [
      "[############         ] | ETA: 00:42:14"
     ]
    },
    {
     "name": "stdout",
     "output_type": "stream",
     "text": [
      "testing non-linearity:  relu ... testing  70  pc's...\n"
     ]
    },
    {
     "name": "stderr",
     "output_type": "stream",
     "text": [
      "[##############       ] | ETA: 00:39:57"
     ]
    },
    {
     "name": "stdout",
     "output_type": "stream",
     "text": [
      "new best model for cell  517446488 . r2 test:  0.0332200338673\n",
      "new best model for cell  517447069 . r2 test:  0.0293484893905\n",
      "testing non-linearity:  relu ... testing  75  pc's...\n"
     ]
    },
    {
     "name": "stderr",
     "output_type": "stream",
     "text": [
      "[###############      ] | ETA: 00:36:52"
     ]
    },
    {
     "name": "stdout",
     "output_type": "stream",
     "text": [
      "new best model for cell  517444738 . r2 test:  0.0252613294783\n",
      "new best model for cell  517443331 . r2 test:  0.0323945427129\n",
      "new best model for cell  517443571 . r2 test:  0.0382470440395\n",
      "testing non-linearity:  relu ... testing  80  pc's...\n",
      "new best model for cell  517444738 . r2 test:  0.0436690235297\n",
      "new best model for cell  517442471 . r2 test:  0.0572746746716\n",
      "new best model for cell  517443827 . r2 test:  0.057635015411\n",
      "testing non-linearity:  relu ... testing  85  pc's...\n"
     ]
    },
    {
     "name": "stderr",
     "output_type": "stream",
     "text": [
      "[################     ] | ETA: 00:28:39"
     ]
    },
    {
     "name": "stdout",
     "output_type": "stream",
     "text": [
      "new best model for cell  517442436 . r2 test:  0.0407925990131\n",
      "new best model for cell  517442722 . r2 test:  0.0817637903935\n",
      "testing non-linearity:  relu ... testing  90  pc's...\n"
     ]
    },
    {
     "name": "stderr",
     "output_type": "stream",
     "text": [
      "[#################    ] | ETA: 00:23:13"
     ]
    },
    {
     "name": "stdout",
     "output_type": "stream",
     "text": [
      "new best model for cell  517443181 . r2 test:  0.0700503347953\n",
      "testing non-linearity:  relu ... testing  95  pc's...\n"
     ]
    },
    {
     "name": "stderr",
     "output_type": "stream",
     "text": [
      "[###################  ] | ETA: 00:16:39"
     ]
    },
    {
     "name": "stdout",
     "output_type": "stream",
     "text": [
      "testing non-linearity:  relu ... testing  100  pc's...\n"
     ]
    },
    {
     "name": "stderr",
     "output_type": "stream",
     "text": [
      "[#################### ] | ETA: 00:08:59"
     ]
    },
    {
     "name": "stdout",
     "output_type": "stream",
     "text": [
      "new best model for cell  517444738 . r2 test:  0.0652277034263\n",
      "new best model for cell  517442436 . r2 test:  0.0679360423045\n",
      "testing non-linearity:  relu ... testing  105  pc's...\n"
     ]
    },
    {
     "name": "stderr",
     "output_type": "stream",
     "text": [
      "[#####################] | ETA: 00:00:00\n",
      "Total time elapsed: 03:25:22\n"
     ]
    }
   ],
   "source": [
    "from statsmodels.tsa.tsatools import lagmat\n",
    "from sklearn.cross_validation import train_test_split\n",
    "from scipy.stats import linregress\n",
    "from itertools import product\n",
    "import pyprind\n",
    "\n",
    "import sys\n",
    "\n",
    "n_pcs = range(5, 110, 5)\n",
    "non_lin = [2]\n",
    "non_lin_dict = {1: \"sigmoid\", 2: \"relu\"}\n",
    "alpha = 0\n",
    "\n",
    "#empty dictionary\n",
    "best_model = {k: (-np.inf, None) for k in data.keys()}\n",
    "\n",
    "#make a dictionary of dictionaries to store the results\n",
    "scores_dict = {k: {} for k in data.keys()}\n",
    "\n",
    "bar = pyprind.ProgBar(len(n_pcs)*len(non_lin))\n",
    "\n",
    "for (l, n) in product(non_lin, n_pcs):\n",
    "    print \"testing non-linearity: \", non_lin_dict[l], \"... testing \", n, \" pc's...\"\n",
    "    sys.stdout.flush()\n",
    "    \n",
    "    #lagged_stim = lagmat(stim[:, 0:n], maxlag = nlag, trim = None)[1:-1]         \n",
    "    bar.update()\n",
    "    \n",
    "    for c in data.keys():\n",
    "        X_train, X_test, y_train, y_test = train_test_split(stim[:, 0:n], np.array(data[c])) \n",
    "        \n",
    "        y_train[y_train < 0] = 0\n",
    "        y_test[y_test < 0 ] = 0\n",
    "        \n",
    "        weight_init = np.linalg.pinv(X_train).dot(y_train)[:, np.newaxis]\n",
    "\n",
    "        if l == 1:\n",
    "            nonlin = tf.nn.sigmoid\n",
    "        if l == 2:\n",
    "            nonlin = tf.nn.relu\n",
    "        \n",
    "        model = gm.exponential_GLM(weight_init, non_lin = nonlin, verbose = False, lr = 1e-4)\n",
    "        cv, loss = model.fit(X_train, y_train[:, np.newaxis], X_test, y_test[:, np.newaxis], max_iters = 50)\n",
    "        \n",
    "\n",
    "        \n",
    "        w, o, s  = model.get_params()\n",
    "    \n",
    "        _, _, r2_test,_, _ = linregress(np.squeeze(model.predict_trace(X_test)), np.squeeze(y_test))\n",
    "        _, _, r2_train,_, _ = linregress(np.squeeze(model.predict_trace(X_train)), np.squeeze(y_train))\n",
    "\n",
    "        scores_dict[c][(l, n)] = (r2_test, r2_train) \n",
    "\n",
    "        if r2_test > best_model[c][0]:\n",
    "            best_model[c] = (r2_test, (l, n))\n",
    "            print \"new best model for cell \", c, \". r2 test: \", r2_test\n"
   ]
  },
  {
   "cell_type": "code",
   "execution_count": 8,
   "metadata": {
    "collapsed": true
   },
   "outputs": [],
   "source": [
    "pkl_file = open('./boc/formatted/LNE_relu', 'wb')\n",
    "pickle.dump((best_model, scores_dict), pkl_file)\n",
    "pkl_file.close()"
   ]
  },
  {
   "cell_type": "code",
   "execution_count": null,
   "metadata": {
    "collapsed": true
   },
   "outputs": [],
   "source": []
  }
 ],
 "metadata": {
  "kernelspec": {
   "display_name": "Python 2",
   "language": "python",
   "name": "python2"
  },
  "language_info": {
   "codemirror_mode": {
    "name": "ipython",
    "version": 2
   },
   "file_extension": ".py",
   "mimetype": "text/x-python",
   "name": "python",
   "nbconvert_exporter": "python",
   "pygments_lexer": "ipython2",
   "version": "2.7.11"
  },
  "latex_envs": {
   "bibliofile": "biblio.bib",
   "cite_by": "apalike",
   "current_citInitial": 1,
   "eqLabelWithNumbers": true,
   "eqNumInitial": 0
  }
 },
 "nbformat": 4,
 "nbformat_minor": 0
}
