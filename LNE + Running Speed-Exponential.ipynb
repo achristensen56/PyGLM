{
 "cells": [
  {
   "cell_type": "code",
   "execution_count": 1,
   "metadata": {
    "collapsed": false
   },
   "outputs": [],
   "source": [
    "import matplotlib.pyplot as plt\n",
    "import matplotlib.patches as patches\n",
    "import numpy as np\n",
    "import glm_model as gm\n",
    "from glm_utils import *\n",
    "import tensorflow as tf\n",
    "\n",
    "%load_ext autoreload\n",
    "%autoreload 2\n",
    "%matplotlib inline"
   ]
  },
  {
   "cell_type": "code",
   "execution_count": 2,
   "metadata": {
    "collapsed": false
   },
   "outputs": [],
   "source": [
    "#finally get rid of the ugly ass allen code. We import the pickled design \n",
    "#matrix stimulus, which is PCA projection of the images, and the downsampled\n",
    "#traces. \n",
    "\n",
    "import pickle\n",
    "\n",
    "pkl_file = open('./boc/formatted/LMcelldata')\n",
    "data = pickle.load(pkl_file)\n",
    "pkl_file.close()\n",
    "\n",
    "pkl_file = open('./boc/formatted/LMstimdata')\n",
    "stim = pickle.load(pkl_file)\n",
    "pkl_file.close()\n",
    "\n",
    "pkl_file = open('./boc/formatted/runspeed')\n",
    "run_speed = pickle.load(pkl_file)\n",
    "pkl_file.close()"
   ]
  },
  {
   "cell_type": "code",
   "execution_count": 3,
   "metadata": {
    "collapsed": false
   },
   "outputs": [],
   "source": [
    "#get the number of features, and the number of training examples. \n",
    "l, n =  stim.shape"
   ]
  },
  {
   "cell_type": "code",
   "execution_count": 10,
   "metadata": {
    "collapsed": false
   },
   "outputs": [
    {
     "name": "stderr",
     "output_type": "stream",
     "text": [
      "0%                  100%\n",
      "[#                     ] | ETA: 00:00:00"
     ]
    },
    {
     "name": "stdout",
     "output_type": "stream",
     "text": [
      "new best model for cell  517442753 . r2 test:  -0.0032444108793\n",
      "new best model for cell  517444738 . r2 test:  0.136609957688\n",
      "new best model for cell  517443331 . r2 test:  -0.0410437017771\n",
      "new best model for cell  517442436 . r2 test:  -0.145465451173\n",
      "new best model for cell  517445575 . r2 test:  -0.341249856758\n",
      "new best model for cell  517444426 . r2 test:  -0.0882227873337\n",
      "new best model for cell  517442471 . r2 test:  0.00888691472904\n",
      "new best model for cell  517443181 . r2 test:  -0.0002619712879\n",
      "new best model for cell  517443087 . r2 test:  -0.143584330928\n",
      "new best model for cell  517446833 . r2 test:  0.180404086809\n",
      "new best model for cell  517443827 . r2 test:  -0.0451576192325\n",
      "new best model for cell  517443924 . r2 test:  -0.102103213929\n",
      "new best model for cell  517443957 . r2 test:  0.0348906321693\n",
      "new best model for cell  517442722 . r2 test:  -0.0584865250145\n",
      "new best model for cell  517446488 . r2 test:  -0.171758777013\n",
      "new best model for cell  517442675 . r2 test:  0.0373386156793\n",
      "new best model for cell  517446554 . r2 test:  0.0751739024206\n",
      "new best model for cell  517444175 . r2 test:  -0.130611733859\n",
      "new best model for cell  517443484 . r2 test:  0.303374030555\n",
      "new best model for cell  517447069 . r2 test:  -0.0580680543911\n",
      "new best model for cell  517443571 . r2 test:  0.0127527167143\n",
      "new best model for cell  517442753 . r2 test:  0.0366177879796\n",
      "new best model for cell  517443331 . r2 test:  -0.0300412915599\n",
      "new best model for cell  517442436 . r2 test:  -0.0557905731615\n",
      "new best model for cell  517445575 . r2 test:  -0.0121729813326\n",
      "new best model for cell  517444426 . r2 test:  -0.0438201678564\n",
      "new best model for cell  517443087 . r2 test:  -0.0347111379371\n",
      "new best model for cell  517446833 . r2 test:  0.199291642205\n",
      "new best model for cell  517443827 . r2 test:  -0.0274793479395\n",
      "new best model for cell  517443924 . r2 test:  -0.0123174442033\n",
      "new best model for cell  517442722 . r2 test:  -0.00755445627632\n",
      "new best model for cell  517446488 . r2 test:  0.00672420154521\n",
      "new best model for cell  517446554 . r2 test:  0.0857491406044\n",
      "new best model for cell  517444175 . r2 test:  -0.0213306589031\n",
      "new best model for cell  517443484 . r2 test:  0.308824336701\n",
      "new best model for cell  517447069 . r2 test:  -0.0073470736384\n",
      "new best model for cell "
     ]
    },
    {
     "name": "stderr",
     "output_type": "stream",
     "text": [
      "[###                   ] | ETA: 01:34:44"
     ]
    },
    {
     "name": "stdout",
     "output_type": "stream",
     "text": [
      " 517443571 . r2 test:  0.0349838293376\n",
      "new best model for cell  517442436 . r2 test:  -0.0367410964423\n",
      "new best model for cell  517445575 . r2 test:  -0.00889788980436\n",
      "new best model for cell  517444426 . r2 test:  0.0302751394295\n",
      "new best model for cell  517443087 . r2 test:  0.0225310762474\n",
      "new best model for cell  517446833 . r2 test:  0.23258456535\n",
      "new best model for cell  517443827 . r2 test:  0.00540624358916\n",
      "new best model for cell  517443924 . r2 test:  0.0356070348689\n",
      "new best model for cell  517442722 . r2 test:  0.00722710646601\n",
      "new best model for cell  517446554 . r2 test:  0.0979729836392\n",
      "new best model for cell  517444175 . r2 test:  -0.0131772987335\n",
      "new best model for cell  517447069 . r2 test:  0.00721363536958\n",
      "new best model for cell  517443331 . r2 test:  -0.0150850018353\n",
      "new best model for cell  517442436 . r2 test:  -0.0299779243697\n",
      "new best model for cell  517442471 . r2 test:  0.023624403498\n",
      "new best model for cell  517442722 . r2 test:  0.0620534115625\n",
      "new best model for cell "
     ]
    },
    {
     "name": "stderr",
     "output_type": "stream",
     "text": [
      "[#####                 ] | ETA: 01:41:28"
     ]
    },
    {
     "name": "stdout",
     "output_type": "stream",
     "text": [
      " 517444175 . r2 test:  -0.00408177518201\n",
      "new best model for cell  517443331 . r2 test:  -0.00853682875588\n",
      "new best model for cell  517442436 . r2 test:  -0.00842667956524\n",
      "new best model for cell  517445575 . r2 test:  0.0821090294017\n",
      "new best model for cell  517442471 . r2 test:  0.0530479611594\n",
      "new best model for cell  517443827 . r2 test:  0.033005247156\n",
      "new best model for cell  517447069 . r2 test:  0.0498363098825\n",
      "new best model for cell  517442436 . r2 test:  0.0246498918336\n",
      "new best model for cell  517443181 . r2 test:  0.0796922259636\n",
      "new best model for cell "
     ]
    },
    {
     "name": "stderr",
     "output_type": "stream",
     "text": [
      "[#######               ] | ETA: 01:45:08"
     ]
    },
    {
     "name": "stdout",
     "output_type": "stream",
     "text": [
      " 517443957 . r2 test:  0.0533598207512\n",
      "new best model for cell  517443331 . r2 test:  0.00630448810485\n",
      "new best model for cell  517443827 . r2 test:  0.0789646068876\n",
      "new best model for cell  517443331 . r2 test:  0.00738628963901\n",
      "new best model for cell "
     ]
    },
    {
     "name": "stderr",
     "output_type": "stream",
     "text": [
      "[#########             ] | ETA: 02:36:59"
     ]
    },
    {
     "name": "stdout",
     "output_type": "stream",
     "text": [
      " 517444175 . r2 test:  0.00131004817935\n",
      "new best model for cell  517443087 . r2 test:  0.0622789931675\n",
      "new best model for cell  517443924 . r2 test:  0.106781536616\n",
      "new best model for cell  517443571 . r2 test:  0.0518080510937\n",
      "new best model for cell "
     ]
    },
    {
     "name": "stderr",
     "output_type": "stream",
     "text": [
      "[###########           ] | ETA: 02:22:50"
     ]
    },
    {
     "name": "stdout",
     "output_type": "stream",
     "text": [
      " 517442436 . r2 test:  0.0453212885255\n",
      "new best model for cell "
     ]
    },
    {
     "name": "stderr",
     "output_type": "stream",
     "text": [
      "[############          ] | ETA: 02:12:28"
     ]
    },
    {
     "name": "stdout",
     "output_type": "stream",
     "text": [
      " 517444175 . r2 test:  0.0318929177847\n",
      "new best model for cell  517442471 . r2 test:  0.0770785497187\n",
      "new best model for cell  517446488 . r2 test:  0.0292981805926\n",
      "new best model for cell  517446554 . r2 test:  0.0982678284356\n",
      "new best model for cell  517444175 . r2 test:  0.0348104594007\n",
      "new best model for cell "
     ]
    },
    {
     "name": "stderr",
     "output_type": "stream",
     "text": [
      "[##############        ] | ETA: 01:52:15"
     ]
    },
    {
     "name": "stdout",
     "output_type": "stream",
     "text": [
      " 517443331 . r2 test:  0.0198088342236\n",
      "new best model for cell "
     ]
    },
    {
     "name": "stderr",
     "output_type": "stream",
     "text": [
      "[##################    ] | ETA: 01:07:32"
     ]
    },
    {
     "name": "stdout",
     "output_type": "stream",
     "text": [
      " 517443181 . r2 test:  0.0909564427564\n",
      "new best model for cell  517442753 . r2 test:  0.0397057911985\n",
      "new best model for cell  517443331 . r2 test:  0.0368322111595\n",
      "new best model for cell "
     ]
    },
    {
     "name": "stderr",
     "output_type": "stream",
     "text": [
      "[####################  ] | ETA: 00:33:45"
     ]
    },
    {
     "name": "stdout",
     "output_type": "stream",
     "text": [
      " 517446488 . r2 test:  0.0420696375904\n",
      "new best model for cell "
     ]
    },
    {
     "name": "stderr",
     "output_type": "stream",
     "text": [
      "[######################] | ETA: 00:00:00"
     ]
    },
    {
     "name": "stdout",
     "output_type": "stream",
     "text": [
      " 517442675 . r2 test:  0.0583723465233\n"
     ]
    },
    {
     "name": "stderr",
     "output_type": "stream",
     "text": [
      "\n",
      "Total time elapsed: 06:23:53\n"
     ]
    }
   ],
   "source": [
    "from statsmodels.tsa.tsatools import lagmat\n",
    "from sklearn.cross_validation import train_test_split\n",
    "from scipy.stats import linregress\n",
    "from itertools import product\n",
    "import pyprind\n",
    "\n",
    "import sys\n",
    "\n",
    "n_pcs = range(1, 110, 5)\n",
    "non_lin = [0]\n",
    "\n",
    "alpha = 0\n",
    "nlag = 2\n",
    "\n",
    "#empty dictionary of the best model we've fit for each cell\n",
    "best_model = {k: (-np.inf, None) for k in data.keys()}\n",
    "\n",
    "#make a dictionary of dictionaries to store the results\n",
    "scores_dict = {k: {} for k in data.keys()}\n",
    "\n",
    "bar = pyprind.ProgBar(len(n_pcs)*len(non_lin))\n",
    "\n",
    "for (l, n) in product(non_lin, n_pcs):\n",
    "    bar.update()\n",
    "    \n",
    "    #lagged_stim = lagmat(stim[:, 0:n], maxlag = nlag, trim = None)[1:-1]       \n",
    "    stim_array = np.concatenate((stim[:, 0:n], run_speed[:, np.newaxis]), axis = 1)\n",
    "    \n",
    "    \n",
    "    for c in data.keys():\n",
    "        X_train, X_test, y_train, y_test = train_test_split(stim_array, np.array(data[c]))     \n",
    "        weight_init = np.linalg.pinv(X_train).dot(y_train)[:, np.newaxis]\n",
    "       \n",
    "        if l == 0:\n",
    "            nonlin = tf.exp\n",
    "        if l == 1:\n",
    "            nonlin = tf.nn.sigmoid\n",
    "        if l == 2:\n",
    "            nonlin = tf.nn.relu\n",
    "\n",
    "        \n",
    "        model = gm.exponential_GLM(weight_init, non_lin = nonlin, verbose = False, alpha = 2, reg = 'l2', \n",
    "                                lr = 1e-4, train_params = False, scale_init = 1, bias_init = 0)\n",
    "        \n",
    "        loss, cv = model.fit(X_train, y_train[:, np.newaxis], X_test, y_test[:, np.newaxis], \n",
    "                             max_iters = 200) \n",
    "        \n",
    "        \n",
    "        w, o, s  = model.get_params()\n",
    "\n",
    "    \n",
    "        _, _, r2_test,_, _ = linregress(np.squeeze(model.predict_trace(X_test)), np.squeeze(y_test))\n",
    "        _, _, r2_train,_, _ = linregress(np.squeeze(model.predict_trace(X_train)), np.squeeze(y_train))\n",
    "\n",
    "        scores_dict[c][(l, n)] = (r2_test, r2_train) \n",
    "\n",
    "        if r2_test > best_model[c][0]:\n",
    "            best_model[c] = (r2_test, (l, n))\n",
    "            print \"new best model for cell \", c, \". r2 test: \", r2_test\n"
   ]
  },
  {
   "cell_type": "code",
   "execution_count": 15,
   "metadata": {
    "collapsed": false
   },
   "outputs": [
    {
     "name": "stdout",
     "output_type": "stream",
     "text": [
      "explained var:  0.205 non_lin: 0 n_components 1\n",
      "(0.20471333787080059, (0, 1))\n",
      "explained var:  0.067 non_lin: 0 n_components 1\n",
      "(0.067399138643032402, (0, 1))\n",
      "explained var:  -0.012 non_lin: 0 n_components 61\n",
      "(-0.01225000620757246, (0, 61))\n",
      "explained var:  0.321 non_lin: 0 n_components 1\n",
      "(0.32066256818647759, (0, 1))\n",
      "explained var:  0.243 non_lin: 0 n_components 21\n",
      "(0.24282624633409033, (0, 21))\n",
      "explained var:  0.174 non_lin: 0 n_components 1\n",
      "(0.17381542853821436, (0, 1))\n",
      "explained var:  0.047 non_lin: 0 n_components 1\n",
      "(0.046700509571936236, (0, 1))\n",
      "explained var:  0.012 non_lin: 0 n_components 81\n",
      "(0.011955503314439762, (0, 81))\n",
      "explained var:  0.112 non_lin: 0 n_components 1\n",
      "(0.11185500602632083, (0, 1))\n",
      "explained var:  0.263 non_lin: 0 n_components 21\n",
      "(0.26327412441769821, (0, 21))\n",
      "explained var:  0.005 non_lin: 0 n_components 61\n",
      "(0.004968124413065044, (0, 61))\n",
      "explained var:  0.182 non_lin: 0 n_components 1\n",
      "(0.18216877669256215, (0, 1))\n",
      "explained var:  0.118 non_lin: 0 n_components 1\n",
      "(0.11841618930495884, (0, 1))\n",
      "explained var:  0.018 non_lin: 0 n_components 41\n",
      "(0.018463164867059477, (0, 41))\n",
      "explained var:  0.052 non_lin: 0 n_components 81\n",
      "(0.052234390441300529, (0, 81))\n",
      "explained var:  0.237 non_lin: 0 n_components 1\n",
      "(0.23650040808342412, (0, 1))\n",
      "explained var:  0.1 non_lin: 0 n_components 1\n",
      "(0.10016907442609084, (0, 1))\n",
      "explained var:  0.142 non_lin: 0 n_components 1\n",
      "(0.14245360554547506, (0, 1))\n",
      "explained var:  0.33 non_lin: 0 n_components 81\n",
      "(0.32993928741413592, (0, 81))\n",
      "explained var:  0.005 non_lin: 0 n_components 81\n",
      "(0.0051352647814859979, (0, 81))\n",
      "explained var:  0.105 non_lin: 0 n_components 41\n",
      "(0.1048894749533619, (0, 41))\n"
     ]
    }
   ],
   "source": [
    "for c in data.keys():\n",
    "    \n",
    "    if best_model[c][1] != None:\n",
    "        (v, (l, n)) = best_model[c]\n",
    "    \n",
    "        print 'explained var: ', round(v, 3), 'non_lin:', l, 'n_components', n\n",
    "        \n",
    "    print best_model[c]"
   ]
  },
  {
   "cell_type": "code",
   "execution_count": null,
   "metadata": {
    "collapsed": true
   },
   "outputs": [],
   "source": [
    "pkl_file = open('./boc/formatted/LNE_rs_exp', 'wb')\n",
    "pickle.dump((best_model, scores_dict), pkl_file)\n",
    "pkl_file.close()"
   ]
  }
 ],
 "metadata": {
  "kernelspec": {
   "display_name": "Python 2",
   "language": "python",
   "name": "python2"
  },
  "language_info": {
   "codemirror_mode": {
    "name": "ipython",
    "version": 2
   },
   "file_extension": ".py",
   "mimetype": "text/x-python",
   "name": "python",
   "nbconvert_exporter": "python",
   "pygments_lexer": "ipython2",
   "version": "2.7.11"
  },
  "latex_envs": {
   "bibliofile": "biblio.bib",
   "cite_by": "apalike",
   "current_citInitial": 1,
   "eqLabelWithNumbers": true,
   "eqNumInitial": 0
  }
 },
 "nbformat": 4,
 "nbformat_minor": 0
}
