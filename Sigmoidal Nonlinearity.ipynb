{
 "cells": [
  {
   "cell_type": "code",
   "execution_count": 2,
   "metadata": {
    "collapsed": true
   },
   "outputs": [],
   "source": [
    "import tensorflow as tf\n",
    "import numpy as np\n",
    "import matplotlib.pyplot as plt\n",
    "from scipy.stats import norm\n",
    "from scipy.linalg import toeplitz\n",
    "import matplotlib.gridspec as gridspec\n",
    "import itertools as it\n",
    "\n",
    "%load_ext autoreload\n",
    "%autoreload 2\n",
    "\n",
    "%matplotlib inline"
   ]
  },
  {
   "cell_type": "code",
   "execution_count": 3,
   "metadata": {
    "collapsed": false
   },
   "outputs": [
    {
     "data": {
      "text/plain": [
       "[<matplotlib.lines.Line2D at 0x1203aa690>]"
      ]
     },
     "execution_count": 3,
     "metadata": {},
     "output_type": "execute_result"
    },
    {
     "data": {
      "image/png": "[encoded data removed]",
      "text/plain": [
       "<matplotlib.figure.Figure at 0x11db84310>"
      ]
     },
     "metadata": {},
     "output_type": "display_data"
    }
   ],
   "source": [
    "#rando parameters\n",
    "T = 1000\n",
    "n = 10\n",
    "eps = 1e-3\n",
    "c = 5\n",
    "\n",
    "#stimulus\n",
    "stim = np.random.normal(0, scale = 1, size = [T, n])\n",
    "\n",
    "#feature space\n",
    "#make weights gaussian\n",
    "\n",
    "weights = 5*norm.pdf(range(0, n), loc = n/2, scale = 1)\n",
    "#features = np.zeros((2, n))\n",
    "\n",
    "plt.plot(weights)"
   ]
  },
  {
   "cell_type": "code",
   "execution_count": null,
   "metadata": {
    "collapsed": true
   },
   "outputs": [],
   "source": [
    "#stimulus based version\n",
    "\n",
    "def sigmoid(x):\n",
    "    return 1/\n",
    "\n",
    "\n",
    "def gam_model(weights, stim):\n",
    "    h = stim.dot(weights)\n",
    "    f = np.(h - c) \n",
    "    y = np.random.gamma(1, f)\n",
    "    return y\n",
    "\n",
    "\n",
    "y = gam_model(weights, stim)\n",
    "\n",
    "ys = [gam_model(weights, stim) for i in range(500)]\n",
    "#design = toeplitz(stim)\n",
    "\n",
    "\n",
    "#fit the least squared filters, generate data from the fit\n",
    "W_ls = np.linalg.pinv(stim).dot(y)\n",
    "y_hats = [gam_model(W_ls, stim) for i in range(500)]\n",
    "y_hatl = stim.dot(W_ls)"
   ]
  }
 ],
 "metadata": {
  "kernelspec": {
   "display_name": "Python 2",
   "language": "python",
   "name": "python2"
  },
  "language_info": {
   "codemirror_mode": {
    "name": "ipython",
    "version": 2
   },
   "file_extension": ".py",
   "mimetype": "text/x-python",
   "name": "python",
   "nbconvert_exporter": "python",
   "pygments_lexer": "ipython2",
   "version": "2.7.11"
  },
  "latex_envs": {
   "bibliofile": "biblio.bib",
   "cite_by": "apalike",
   "current_citInitial": 1,
   "eqLabelWithNumbers": true,
   "eqNumInitial": 0
  }
 },
 "nbformat": 4,
 "nbformat_minor": 0
}
