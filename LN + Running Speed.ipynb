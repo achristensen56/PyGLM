{
 "cells": [
  {
   "cell_type": "code",
   "execution_count": 3,
   "metadata": {
    "collapsed": false
   },
   "outputs": [],
   "source": [
    "import matplotlib.pyplot as plt\n",
    "import matplotlib.patches as patches\n",
    "import numpy as np\n",
    "import glm_model as gm\n",
    "from glm_utils import *\n",
    "import tensorflow as tf\n",
    "\n",
    "%load_ext autoreload\n",
    "%autoreload 2\n",
    "%matplotlib inline"
   ]
  },
  {
   "cell_type": "code",
   "execution_count": 4,
   "metadata": {
    "collapsed": false
   },
   "outputs": [],
   "source": [
    "#finally get rid of the ugly ass allen code. We import the pickled design \n",
    "#matrix stimulus, which is PCA projection of the images, and the downsampled\n",
    "#traces. \n",
    "\n",
    "import pickle\n",
    "\n",
    "pkl_file = open('./boc/formatted/LMcelldata')\n",
    "data = pickle.load(pkl_file)\n",
    "pkl_file.close()\n",
    "\n",
    "pkl_file = open('./boc/formatted/LMstimdata')\n",
    "stim = pickle.load(pkl_file)\n",
    "pkl_file.close()\n",
    "\n",
    "pkl_file = open('./boc/formatted/runspeed')\n",
    "run_speed = pickle.load(pkl_file)\n",
    "pkl_file.close()"
   ]
  },
  {
   "cell_type": "code",
   "execution_count": 5,
   "metadata": {
    "collapsed": false
   },
   "outputs": [],
   "source": [
    "#get the number of features, and the number of training examples. \n",
    "l, n =  stim.shape"
   ]
  },
  {
   "cell_type": "code",
   "execution_count": null,
   "metadata": {
    "collapsed": false
   },
   "outputs": [
    {
     "name": "stderr",
     "output_type": "stream",
     "text": [
      "0%      100%\n",
      "[#         ] | ETA: 00:00:00"
     ]
    }
   ],
   "source": [
    "from statsmodels.tsa.tsatools import lagmat\n",
    "from sklearn.cross_validation import train_test_split\n",
    "from scipy.stats import linregress\n",
    "from itertools import product\n",
    "import pyprind\n",
    "\n",
    "import sys\n",
    "\n",
    "n_pcs = range(1, 82, 20)\n",
    "non_lin = [1, 2]\n",
    "\n",
    "alpha = 0\n",
    "nlag = 2\n",
    "\n",
    "#empty dictionary of the best model we've fit for each cell\n",
    "best_model = {k: (-np.inf, None) for k in data.keys()}\n",
    "\n",
    "#make a dictionary of dictionaries to store the results\n",
    "scores_dict = {k: {} for k in data.keys()}\n",
    "\n",
    "bar = pyprind.ProgBar(len(n_pcs)*len(non_lin))\n",
    "\n",
    "for (l, n) in product(non_lin, n_pcs):\n",
    "    bar.update()\n",
    "    \n",
    "    lagged_stim = lagmat(stim[:, 0:n], maxlag = nlag, trim = None)[1:-1]       \n",
    "    stim_array = np.concatenate((lagged_stim, run_speed[:, np.newaxis]), axis = 1)\n",
    "    \n",
    "    \n",
    "    for c in data.keys():\n",
    "        X_train, X_test, y_train, y_test = train_test_split(stim_array, np.array(data[c]))     \n",
    "        weight_init = np.linalg.pinv(X_train).dot(y_train)[:, np.newaxis]\n",
    "       \n",
    "        if l == 1:\n",
    "            nonlin = tf.nn.sigmoid\n",
    "        if l == 2:\n",
    "            nonlin = tf.nn.relu\n",
    "\n",
    "        \n",
    "        model = gm.gaussian_GLM(weight_init, non_lin = nonlin, verbose = False, alpha = alpha)\n",
    "        cv, loss = model.fit(X_train, y_train[:, np.newaxis], X_test, y_test[:, np.newaxis], max_iters = 150) \n",
    "        w, o, s  = model.get_params()\n",
    "\n",
    "    \n",
    "        _, _, r2_test,_, _ = linregress(np.squeeze(model.predict_trace(X_test)), np.squeeze(y_test))\n",
    "        _, _, r2_train,_, _ = linregress(np.squeeze(model.predict_trace(X_train)), np.squeeze(y_train))\n",
    "\n",
    "        scores_dict[c][(l, n)] = (r2_test, r2_train) \n",
    "\n",
    "        if r2_test > best_model[c][0]:\n",
    "            best_model[c] = (r2_test, (l, n))    \n"
   ]
  },
  {
   "cell_type": "code",
   "execution_count": 14,
   "metadata": {
    "collapsed": false
   },
   "outputs": [
    {
     "name": "stdout",
     "output_type": "stream",
     "text": [
      "explained var:  0.039 non_lin: 1 n_components 10\n",
      "explained var:  0.003 non_lin: 1 n_components 10\n",
      "explained var:  0.003 non_lin: 1 n_components 10\n",
      "explained var:  0.003 non_lin: 1 n_components 10\n",
      "explained var:  0.003 non_lin: 1 n_components 10\n",
      "explained var:  0.003 non_lin: 1 n_components 10\n",
      "explained var:  0.003 non_lin: 1 n_components 10\n",
      "explained var:  0.003 non_lin: 1 n_components 10\n",
      "explained var:  0.003 non_lin: 1 n_components 10\n",
      "explained var:  0.003 non_lin: 1 n_components 10\n",
      "explained var:  0.003 non_lin: 1 n_components 10\n",
      "explained var:  0.003 non_lin: 1 n_components 10\n",
      "explained var:  0.003 non_lin: 1 n_components 10\n",
      "explained var:  0.003 non_lin: 1 n_components 10\n",
      "explained var:  0.003 non_lin: 1 n_components 10\n",
      "explained var:  0.003 non_lin: 1 n_components 10\n",
      "explained var:  0.003 non_lin: 1 n_components 10\n",
      "explained var:  0.003 non_lin: 1 n_components 10\n",
      "explained var:  0.003 non_lin: 1 n_components 10\n",
      "explained var:  0.003 non_lin: 1 n_components 10\n",
      "explained var:  0.003 non_lin: 1 n_components 10\n"
     ]
    }
   ],
   "source": [
    "for c in data.keys():\n",
    "    \n",
    "    if best_model[c][1] != None:\n",
    "        (v, (l, a, n)) = best_model[c]\n",
    "    \n",
    "    print 'explained var: ', round(v, 3), 'non_lin:', l, 'n_components', n"
   ]
  },
  {
   "cell_type": "code",
   "execution_count": null,
   "metadata": {
    "collapsed": true
   },
   "outputs": [],
   "source": []
  }
 ],
 "metadata": {
  "kernelspec": {
   "display_name": "Python 2",
   "language": "python",
   "name": "python2"
  },
  "language_info": {
   "codemirror_mode": {
    "name": "ipython",
    "version": 2
   },
   "file_extension": ".py",
   "mimetype": "text/x-python",
   "name": "python",
   "nbconvert_exporter": "python",
   "pygments_lexer": "ipython2",
   "version": "2.7.11"
  },
  "latex_envs": {
   "bibliofile": "biblio.bib",
   "cite_by": "apalike",
   "current_citInitial": 1,
   "eqLabelWithNumbers": true,
   "eqNumInitial": 0
  }
 },
 "nbformat": 4,
 "nbformat_minor": 0
}
