{
 "cells": [
  {
   "cell_type": "code",
   "execution_count": 1,
   "metadata": {
    "collapsed": false
   },
   "outputs": [
    {
     "name": "stdout",
     "output_type": "stream",
     "text": [
      "./boc/formatted/51069898850_CV_results.pkl\n",
      "./boc/formatted/50568791250_CV_results.pkl\n",
      "./boc/formatted/50652069650_CV_results.pkl\n",
      "./boc/formatted/50386627650_CV_results.pkl\n",
      "./boc/formatted/50569624850_CV_results.pkl\n",
      "./boc/formatted/50951757750_CV_results.pkl\n",
      "./boc/formatted/50377225350_CV_results.pkl\n",
      "./boc/formatted/50450810450_CV_results.pkl\n",
      "./boc/formatted/51214574550_CV_results.pkl\n",
      "./boc/formatted/50225433050_CV_results.pkl\n",
      "./boc/formatted/50653992750_CV_results.pkl\n",
      "./boc/formatted/50730491050_CV_results.pkl\n",
      "./boc/formatted/51051806650_CV_results.pkl\n"
     ]
    }
   ],
   "source": [
    "import pickle\n",
    "\n",
    "directory = './boc/formatted/'\n",
    "\n",
    "import glob\n",
    "\n",
    "#dictionary where key is the dataset name, and the scores and features for that dataset are the values\n",
    "results = {}\n",
    "\n",
    "for filename in glob.glob(directory + '*CV_results.pkl'):\n",
    "    filehandle = open(filename)\n",
    "    \n",
    "    (scores, features) = pickle.load(filehandle)\n",
    "    \n",
    "    filehandle.close()\n",
    "    \n",
    "    results[filename[16:25]] = (scores, features)\n",
    "\n",
    "    print filename"
   ]
  },
  {
   "cell_type": "code",
   "execution_count": 2,
   "metadata": {
    "collapsed": false
   },
   "outputs": [
    {
     "data": {
      "text/plain": [
       "'510518066'"
      ]
     },
     "execution_count": 2,
     "metadata": {},
     "output_type": "execute_result"
    }
   ],
   "source": [
    "filename[16:25]"
   ]
  },
  {
   "cell_type": "code",
   "execution_count": 12,
   "metadata": {
    "collapsed": false
   },
   "outputs": [],
   "source": [
    "import numpy as np\n",
    "\n",
    "#first let's just make some aggregate statistics\n",
    "\n",
    "non_linearity = ['exp', 'sigmoid', 'relu']\n",
    "noise_model = ['exponential', 'gaussian']\n",
    "\n",
    "best_noise_model = []\n",
    "best_non_linearity = []\n",
    "\n",
    "likelihood_exponential = []\n",
    "likelihood_gaussian = []\n",
    "\n",
    "for key in results.keys():\n",
    "    \n",
    "    scores, _ = results[key]\n",
    "    \n",
    "    n_cells, n_nl, n_nm = scores.shape\n",
    "    \n",
    "    for i in range(n_cells):\n",
    "        idx = np.argmin(scores[i])\n",
    "        \n",
    "        nl_ind, nm_ind = np.unravel_index(idx, (n_nl, n_nm))\n",
    "        \n",
    "        if scores[i, nl_ind, nm_ind] != np.nan:\n",
    "            best_noise_model.append(nm_ind)\n",
    "            best_non_linearity.append(nl_ind)\n",
    "\n",
    "\n",
    "            if nm_ind == 0:\n",
    "                likelihood_exponential.append(scores[i, nl_ind, nm_ind])\n",
    "\n",
    "            if nm_ind == 1:\n",
    "                likelihood_gaussian.append(scores[i, nl_ind, nm_ind])"
   ]
  },
  {
   "cell_type": "code",
   "execution_count": 4,
   "metadata": {
    "collapsed": false
   },
   "outputs": [
    {
     "data": {
      "image/png": "[encoded data removed]",
      "text/plain": [
       "<matplotlib.figure.Figure at 0x7f8c9405fb90>"
      ]
     },
     "metadata": {},
     "output_type": "display_data"
    },
    {
     "data": {
      "image/png": "[encoded data removed]",
      "text/plain": [
       "<matplotlib.figure.Figure at 0x7f8c9c448a90>"
      ]
     },
     "metadata": {},
     "output_type": "display_data"
    }
   ],
   "source": [
    "\n",
    "import matplotlib.pyplot as plt\n",
    "\n",
    "\n",
    "\n",
    "best_noise_model = np.array(best_noise_model)\n",
    "best_non_linearity = np.array(best_non_linearity)\n",
    "\n",
    "plt.hist(best_noise_model)\n",
    "plt.show()\n",
    "plt.hist(best_non_linearity)\n",
    "plt.show()"
   ]
  },
  {
   "cell_type": "code",
   "execution_count": 5,
   "metadata": {
    "collapsed": false
   },
   "outputs": [
    {
     "name": "stdout",
     "output_type": "stream",
     "text": [
      "1646 0 0\n"
     ]
    }
   ],
   "source": [
    "print sum(best_non_linearity == 0), sum(best_non_linearity == 1), sum(best_non_linearity == 2)"
   ]
  },
  {
   "cell_type": "code",
   "execution_count": 6,
   "metadata": {
    "collapsed": false
   },
   "outputs": [
    {
     "name": "stdout",
     "output_type": "stream",
     "text": [
      "exponential exp\n",
      "exponential sigmoid\n",
      "exponential relu\n",
      "gaussian exp\n",
      "gaussian sigmoid\n",
      "gaussian relu\n"
     ]
    }
   ],
   "source": [
    "for j, nm in enumerate(noise_model):\n",
    "    for k, nl in enumerate(non_linearity):\n",
    "        print nm, nl"
   ]
  },
  {
   "cell_type": "code",
   "execution_count": 8,
   "metadata": {
    "collapsed": false
   },
   "outputs": [
    {
     "name": "stdout",
     "output_type": "stream",
     "text": [
      "0 0\n"
     ]
    },
    {
     "data": {
      "image/png": "[encoded data removed]",
      "text/plain": [
       "<matplotlib.figure.Figure at 0x7f8c9405f890>"
      ]
     },
     "metadata": {},
     "output_type": "display_data"
    }
   ],
   "source": [
    "\n",
    "le = -np.array(likelihood_exponential)\n",
    "le = le[~np.isnan(le)]\n",
    "lg = -np.array(likelihood_gaussian)\n",
    "lg = lg[~np.isnan(lg)]\n",
    "\n",
    "print len(le), len(lg)\n",
    "\n",
    "#bins = np.linspace(-6000, 20000, 50)\n",
    "\n",
    "plt.hist(le, alpha = .5, label = \"exponential likelihoods\")\n",
    "plt.hist(lg, alpha = .5, label = \"gaussian likelihoods\")\n",
    "plt.legend()\n",
    "plt.show()"
   ]
  },
  {
   "cell_type": "code",
   "execution_count": 34,
   "metadata": {
    "collapsed": true
   },
   "outputs": [],
   "source": [
    "from glm_utils import *"
   ]
  },
  {
   "cell_type": "code",
   "execution_count": null,
   "metadata": {
    "collapsed": false
   },
   "outputs": [
    {
     "name": "stdout",
     "output_type": "stream",
     "text": [
      "0.0 nan\n",
      "0.0 nan\n",
      "0.0 nan\n",
      "0.0 nan\n",
      "0.0 nan\n",
      "0.0 nan\n",
      "0.0 nan\n",
      "0.0 nan\n",
      "0.0 nan\n",
      "0.0 nan\n",
      "0.0 nan\n",
      "0.0 nan\n",
      "0.0 nan\n",
      "0.0 nan\n",
      "0.0 nan\n",
      "0.0 nan\n",
      "0.0 nan\n",
      "0.0 nan\n",
      "0.0 nan\n",
      "0.0 nan\n",
      "0.0 nan\n",
      "0.0 nan\n",
      "0.0 nan\n",
      "0.0 nan\n",
      "0.0 nan\n",
      "0.0 nan\n",
      "0.0 nan\n",
      "0.0 nan\n",
      "0.0 nan\n",
      "0.0 nan\n",
      "0.0 nan\n",
      "0.0 nan\n",
      "0.0 nan\n",
      "0.0 nan\n",
      "0.0 nan\n",
      "0.0 nan\n",
      "0.0 nan\n",
      "0.0 nan\n",
      "0.0 nan\n",
      "0.0 nan\n",
      "0.0 nan\n",
      "0.0 nan\n",
      "0.0 nan\n",
      "0.0 nan\n",
      "0.0 nan\n",
      "0.0 nan\n",
      "0.0 nan\n",
      "0.0 nan\n",
      "0.0 nan\n",
      "0.0 nan\n",
      "0.0 nan\n",
      "0.0 nan\n",
      "0.0 nan\n",
      "0.0 nan\n",
      "0.0 nan\n",
      "0.0 nan\n",
      "0.0 nan\n",
      "0.0 nan\n",
      "0.0 nan\n",
      "0.0 nan\n",
      "0.0 nan\n",
      "0.0 nan\n",
      "0.0 nan\n",
      "0.0 nan\n",
      "0.0 nan\n",
      "0.0 nan\n",
      "0.0 nan\n",
      "0.0 nan\n",
      "0.0 nan\n",
      "0.0 nan\n",
      "0.0 nan\n",
      "0.0 nan\n",
      "0.0 nan\n",
      "0.0 nan\n",
      "0.0 nan\n",
      "0.0 nan\n",
      "0.0 nan\n",
      "0.0 nan\n",
      "0.0 nan\n",
      "0.0 nan\n",
      "0.0 nan\n",
      "0.0 nan\n",
      "0.0 nan\n",
      "0.0 nan\n",
      "0.0 nan\n",
      "0.0 nan\n",
      "0.0 nan\n",
      "0.0 nan\n",
      "0.0 nan\n",
      "0.0 nan\n",
      "0.0 nan\n",
      "0.0 nan\n",
      "0.0 nan\n",
      "0.0 nan\n",
      "0.0 nan\n",
      "0.0 nan\n",
      "0.0 nan\n",
      "0.0 nan\n"
     ]
    }
   ],
   "source": [
    "#let's iterate through keys, get the data, check R^2\n",
    "from glm_utils import *\n",
    "import allensdk.brain_observatory.stimulus_info as stim_info\n",
    "from allensdk.core.brain_observatory_cache import BrainObservatoryCache\n",
    "from sklearn.linear_model import LinearRegression\n",
    "\n",
    "nl_dic = {0:np.exp, 1:sigmoid, 2:relu }\n",
    "corrs = []\n",
    "likelihood = []\n",
    "\n",
    "for key in results.keys()[0:10]:\n",
    "    \n",
    "    boc = BrainObservatoryCache(manifest_file='boc/manifest.json') \n",
    "    data_set = boc.get_ophys_experiment_data(int(key))\n",
    "    dff_traces, images, stim_table = get_data(data_set, stim_info.NATURAL_SCENES)\n",
    "    \n",
    "    images = pca_features(images)\n",
    "    \n",
    "    #and a list for the stimulus\n",
    "    data = []\n",
    "    stim_array = []\n",
    "\n",
    "    #average each trace over the presentation of each stimulus\n",
    "    for index, row in stim_table.iterrows():\n",
    "        stim_array.append(images[row.frame])\n",
    "        data.append(np.mean(dff_traces[:, row['start']:row['end'] ], axis = 1) )\n",
    "\n",
    "    stim_array = np.array(stim_array)\n",
    "    stim_array = stim_array[:, 0:50]\n",
    "\n",
    "    data = np.array(data)\n",
    "    \n",
    "    scores, features = results[key]\n",
    "    \n",
    "    n_cells, n_nl, n_nm = scores.shape\n",
    "    \n",
    "    for i in range(n_cells):\n",
    "        idx = np.argmin(scores[i])\n",
    "        \n",
    "        nl_ind, nm_ind = np.unravel_index(idx, (n_nl, n_nm))\n",
    "        \n",
    "        if scores[i, nl_ind, nm_ind] != np.nan:\n",
    "            \n",
    "            w = features[i, nl_ind, nm_ind, 0:-2]\n",
    "            o = features[i, nl_ind, nm_ind, -2]\n",
    "            s = features[i, nl_ind, nm_ind, -1]\n",
    "            \n",
    "            \n",
    "            print o, s\n",
    "            \n",
    "            con = cond_int(nl_dic[nl_ind], w, stim_array, s, o)\n",
    "            \n",
    "            corr = np.corrcoef(con, data[:, i])\n",
    "            \n",
    "            corrs.append(corr[1, 1])\n",
    "            likelihood.append(scores[i, nl_ind, nm_ind])\n",
    "    "
   ]
  },
  {
   "cell_type": "code",
   "execution_count": 97,
   "metadata": {
    "collapsed": false
   },
   "outputs": [
    {
     "data": {
      "text/plain": [
       "<matplotlib.collections.PathCollection at 0x7f78d1819210>"
      ]
     },
     "execution_count": 97,
     "metadata": {},
     "output_type": "execute_result"
    },
    {
     "data": {
      "image/png": "[encoded data removed]",
      "text/plain": [
       "<matplotlib.figure.Figure at 0x7f78d0d7df10>"
      ]
     },
     "metadata": {},
     "output_type": "display_data"
    }
   ],
   "source": [
    "%matplotlib inline\n",
    "\n",
    "plt.scatter(corrs, likelihood)"
   ]
  },
  {
   "cell_type": "code",
   "execution_count": 14,
   "metadata": {
    "collapsed": false
   },
   "outputs": [],
   "source": [
    "score = np.arange(0, 6)\n",
    "score = score.reshape([2, -1])"
   ]
  },
  {
   "cell_type": "code",
   "execution_count": 17,
   "metadata": {
    "collapsed": false
   },
   "outputs": [
    {
     "data": {
      "text/plain": [
       "(2, 1)"
      ]
     },
     "execution_count": 17,
     "metadata": {},
     "output_type": "execute_result"
    }
   ],
   "source": [
    "score[:, [0]].shape"
   ]
  },
  {
   "cell_type": "code",
   "execution_count": 19,
   "metadata": {
    "collapsed": false
   },
   "outputs": [],
   "source": [
    "data = np.arange(0, 10)\n",
    "data = data.reshape([2, -1])"
   ]
  },
  {
   "cell_type": "code",
   "execution_count": 23,
   "metadata": {
    "collapsed": false
   },
   "outputs": [
    {
     "data": {
      "text/plain": [
       "[<matplotlib.lines.Line2D at 0x7f8be0326950>,\n",
       " <matplotlib.lines.Line2D at 0x7f8be0326b50>]"
      ]
     },
     "execution_count": 23,
     "metadata": {},
     "output_type": "execute_result"
    },
    {
     "data": {
      "image/png": "[encoded data removed]",
      "text/plain": [
       "<matplotlib.figure.Figure at 0x7f8be03b4150>"
      ]
     },
     "metadata": {},
     "output_type": "display_data"
    }
   ],
   "source": [
    "%matplotlib inline\n",
    "plt.plot(data.T)"
   ]
  },
  {
   "cell_type": "code",
   "execution_count": 22,
   "metadata": {
    "collapsed": false
   },
   "outputs": [
    {
     "data": {
      "text/plain": [
       "array([[0, 1, 2, 3, 4],\n",
       "       [5, 6, 7, 8, 9]])"
      ]
     },
     "execution_count": 22,
     "metadata": {},
     "output_type": "execute_result"
    }
   ],
   "source": [
    "data"
   ]
  },
  {
   "cell_type": "code",
   "execution_count": 25,
   "metadata": {
    "collapsed": false
   },
   "outputs": [
    {
     "data": {
      "text/plain": [
       "(5, 2)"
      ]
     },
     "execution_count": 25,
     "metadata": {},
     "output_type": "execute_result"
    }
   ],
   "source": [
    "data.T.shape"
   ]
  },
  {
   "cell_type": "code",
   "execution_count": 26,
   "metadata": {
    "collapsed": true
   },
   "outputs": [],
   "source": [
    "data = data.reshape(10, -1)"
   ]
  },
  {
   "cell_type": "code",
   "execution_count": 27,
   "metadata": {
    "collapsed": false
   },
   "outputs": [
    {
     "data": {
      "text/plain": [
       "array([[0],\n",
       "       [1],\n",
       "       [2],\n",
       "       [3],\n",
       "       [4],\n",
       "       [5],\n",
       "       [6],\n",
       "       [7],\n",
       "       [8],\n",
       "       [9]])"
      ]
     },
     "execution_count": 27,
     "metadata": {},
     "output_type": "execute_result"
    }
   ],
   "source": [
    "data"
   ]
  },
  {
   "cell_type": "code",
   "execution_count": null,
   "metadata": {
    "collapsed": true
   },
   "outputs": [],
   "source": []
  }
 ],
 "metadata": {
  "kernelspec": {
   "display_name": "Python 2",
   "language": "python",
   "name": "python2"
  },
  "language_info": {
   "codemirror_mode": {
    "name": "ipython",
    "version": 2
   },
   "file_extension": ".py",
   "mimetype": "text/x-python",
   "name": "python",
   "nbconvert_exporter": "python",
   "pygments_lexer": "ipython2",
   "version": "2.7.12"
  },
  "latex_envs": {
   "bibliofile": "biblio.bib",
   "cite_by": "apalike",
   "current_citInitial": 1,
   "eqLabelWithNumbers": true,
   "eqNumInitial": 0
  }
 },
 "nbformat": 4,
 "nbformat_minor": 0
}
