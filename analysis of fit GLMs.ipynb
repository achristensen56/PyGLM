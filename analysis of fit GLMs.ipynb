{
 "cells": [
  {
   "cell_type": "code",
   "execution_count": 15,
   "metadata": {
    "collapsed": false
   },
   "outputs": [],
   "source": [
    "import pickle\n",
    "\n",
    "directory = './boc/formatted/CV_Results/'\n",
    "\n",
    "import glob\n",
    "\n",
    "#dictionary where key is the dataset name, and the scores and features for that dataset are the values\n",
    "results = {}\n",
    "\n",
    "for filename in glob.glob(directory + '*_CV_results.pkl'):\n",
    "    filehandle = open(filename)\n",
    "    \n",
    "    (scores, features) = pickle.load(filehandle)\n",
    "    \n",
    "    filehandle.close()\n",
    "    \n",
    "    results[filename[27:36]] = (scores, features)\n",
    "\n"
   ]
  },
  {
   "cell_type": "code",
   "execution_count": 51,
   "metadata": {
    "collapsed": false
   },
   "outputs": [],
   "source": [
    "import numpy as np\n",
    "\n",
    "#first let's just make some aggregate statistics\n",
    "\n",
    "non_linearity = ['exp', 'sigmoid', 'relu']\n",
    "noise_model = ['exponential', 'gaussian']\n",
    "\n",
    "best_noise_model = []\n",
    "best_non_linearity = []\n",
    "\n",
    "likelihood_exponential = []\n",
    "likelihood_gaussian = []\n",
    "\n",
    "for key in results.keys():\n",
    "    \n",
    "    scores, _ = results[key]\n",
    "    \n",
    "    n_cells, n_nl, n_nm = scores.shape\n",
    "    \n",
    "    for i in range(n_cells):\n",
    "        idx = np.argmin(scores[i])\n",
    "        \n",
    "        nl_ind, nm_ind = np.unravel_index(idx, (n_nl, n_nm))\n",
    "        \n",
    "        best_noise_model.append(nm_ind)\n",
    "        best_non_linearity.append(nl_ind)\n",
    "        \n",
    "        \n",
    "        if nl_ind == 0:\n",
    "            likelihood_exponential.append(scores[i, nl_ind, nm_ind])\n",
    "            \n",
    "        if nl_ind == 1:\n",
    "            likelihood_gaussian.append(scores[i, nl_ind, nm_ind])"
   ]
  },
  {
   "cell_type": "code",
   "execution_count": 44,
   "metadata": {
    "collapsed": false
   },
   "outputs": [],
   "source": [
    "\n",
    "import matplotlib as mpl\n",
    "mpl.use('TKagg')\n",
    "\n",
    "\n",
    "best_noise_model = np.array(best_noise_model)\n",
    "best_non_linearity = np.array(best_non_linearity)"
   ]
  },
  {
   "cell_type": "code",
   "execution_count": 47,
   "metadata": {
    "collapsed": false
   },
   "outputs": [
    {
     "name": "stdout",
     "output_type": "stream",
     "text": [
      "49 97 1084\n"
     ]
    }
   ],
   "source": [
    "print sum(best_non_linearity == 0), sum(best_non_linearity == 1), sum(best_non_linearity == 2)"
   ]
  },
  {
   "cell_type": "code",
   "execution_count": 50,
   "metadata": {
    "collapsed": false
   },
   "outputs": [
    {
     "name": "stdout",
     "output_type": "stream",
     "text": [
      "exponential exp\n",
      "exponential sigmoid\n",
      "exponential relu\n",
      "gaussian exp\n",
      "gaussian sigmoid\n",
      "gaussian relu\n"
     ]
    }
   ],
   "source": [
    "for j, nm in enumerate(noise_model):\n",
    "    for k, nl in enumerate(non_linearity):\n",
    "        print nm, nl"
   ]
  },
  {
   "cell_type": "code",
   "execution_count": 52,
   "metadata": {
    "collapsed": false
   },
   "outputs": [
    {
     "data": {
      "text/plain": [
       "[-639.45013427734375,\n",
       " -1056.8121337890625,\n",
       " -1105.686279296875,\n",
       " -688.4346923828125,\n",
       " -1403.8671875,\n",
       " -950.21905517578125,\n",
       " -226.37417602539062,\n",
       " -842.2984619140625,\n",
       " -857.35186767578125,\n",
       " -1111.9361572265625,\n",
       " 1496.528076171875,\n",
       " -588.13739013671875,\n",
       " -1019.1038818359375,\n",
       " -1867.0758056640625,\n",
       " -569.13800048828125,\n",
       " -2203.30322265625,\n",
       " -737.0682373046875,\n",
       " -1334.19482421875,\n",
       " -2905.68505859375,\n",
       " -1707.273681640625,\n",
       " 917.6650390625,\n",
       " -5434.64892578125,\n",
       " -1664.5736083984375,\n",
       " -184.08056640625,\n",
       " -502.668701171875,\n",
       " -1260.732666015625,\n",
       " -1374.008544921875,\n",
       " -2692.93408203125,\n",
       " -1570.361083984375,\n",
       " -1341.006103515625,\n",
       " -1022.2213134765625,\n",
       " -737.5882568359375,\n",
       " -1659.567138671875,\n",
       " -1560.018310546875,\n",
       " -417.90087890625,\n",
       " -601.68359375,\n",
       " -62.796459197998047,\n",
       " -1144.7685546875,\n",
       " -1889.0712890625,\n",
       " -1039.036376953125,\n",
       " -369.29989624023438,\n",
       " -1088.1661376953125,\n",
       " -293.68646240234375,\n",
       " -679.6595458984375,\n",
       " -401.02304077148438,\n",
       " 1214.702880859375,\n",
       " -740.25555419921875,\n",
       " -221.86465454101562,\n",
       " 1584.09033203125]"
      ]
     },
     "execution_count": 52,
     "metadata": {},
     "output_type": "execute_result"
    }
   ],
   "source": [
    "likelihood_exponential"
   ]
  },
  {
   "cell_type": "code",
   "execution_count": 53,
   "metadata": {
    "collapsed": false
   },
   "outputs": [
    {
     "data": {
      "text/plain": [
       "[-5097.0244140625,\n",
       " -693.0279541015625,\n",
       " -1706.781982421875,\n",
       " -1398.836669921875,\n",
       " -2093.38720703125,\n",
       " -4615.7978515625,\n",
       " -5948.27001953125,\n",
       " -2759.50634765625,\n",
       " -36552.4609375,\n",
       " -12751.6552734375,\n",
       " -4219.40478515625,\n",
       " -5052.57958984375,\n",
       " -2071.801513671875,\n",
       " -2496.533203125,\n",
       " -25882.97265625,\n",
       " -1697.370361328125,\n",
       " -26224.353515625,\n",
       " -23692.36328125,\n",
       " -3560.037109375,\n",
       " -4087.723876953125,\n",
       " -10411.9033203125,\n",
       " -6975.1806640625,\n",
       " -21720.162109375,\n",
       " -20521.490234375,\n",
       " -5369.7646484375,\n",
       " -2770.005859375,\n",
       " -7486.953125,\n",
       " -5846.12890625,\n",
       " -24165.166015625,\n",
       " -20453.033203125,\n",
       " -586.81964111328125,\n",
       " -2696.70849609375,\n",
       " -1058.9505615234375,\n",
       " -14212.556640625,\n",
       " -5558.1552734375,\n",
       " -2244.0234375,\n",
       " -981.8558349609375,\n",
       " -12717.689453125,\n",
       " -1156.302001953125,\n",
       " -5909.65087890625,\n",
       " -6013.1826171875,\n",
       " -25923.4296875,\n",
       " -12941.9052734375,\n",
       " -11975.908203125,\n",
       " -30430.73828125,\n",
       " -13216.103515625,\n",
       " -1865.389892578125,\n",
       " -8342.384765625,\n",
       " -3098.64208984375,\n",
       " -28140.099609375,\n",
       " -32971.9765625,\n",
       " -19022.375,\n",
       " -24203.9375,\n",
       " -24574.796875,\n",
       " -7905.78662109375,\n",
       " -9010.6533203125,\n",
       " -23710.271484375,\n",
       " -31002.865234375,\n",
       " -25143.78125,\n",
       " -10273.365234375,\n",
       " -18613.41796875,\n",
       " -21715.55078125,\n",
       " -5510.3251953125,\n",
       " -16741.36328125,\n",
       " -29576.02734375,\n",
       " -8345.5478515625,\n",
       " -1721.988525390625,\n",
       " -7443.63427734375,\n",
       " -951.6112060546875,\n",
       " -4556.3095703125,\n",
       " -10284.1005859375,\n",
       " -8114.63037109375,\n",
       " -4465.9228515625,\n",
       " -12341.810546875,\n",
       " -4828.6357421875,\n",
       " -18671.5546875,\n",
       " -3178.124267578125,\n",
       " -2722.51904296875,\n",
       " -1356.50390625,\n",
       " -7443.8603515625,\n",
       " -2780.61083984375,\n",
       " -17775.1953125,\n",
       " -23613.10546875,\n",
       " -2612.9990234375,\n",
       " -25828.115234375,\n",
       " -28141.400390625,\n",
       " -7414.6513671875,\n",
       " -6546.2841796875,\n",
       " -9854.205078125,\n",
       " -18378.87109375,\n",
       " -9275.203125,\n",
       " -10687.4501953125,\n",
       " -6744.82958984375,\n",
       " -3275.16552734375,\n",
       " -10946.9736328125,\n",
       " -5470.2138671875,\n",
       " -7350.0390625]"
      ]
     },
     "execution_count": 53,
     "metadata": {},
     "output_type": "execute_result"
    }
   ],
   "source": [
    "likelihood_gaussian"
   ]
  },
  {
   "cell_type": "code",
   "execution_count": null,
   "metadata": {
    "collapsed": true
   },
   "outputs": [],
   "source": [
    "#goals for tonight:\n",
    "\n",
    "#compare r**2 and likelihood\n",
    "#look at filters and traces for best fit neurons\n"
   ]
  }
 ],
 "metadata": {
  "kernelspec": {
   "display_name": "Python 2",
   "language": "python",
   "name": "python2"
  },
  "language_info": {
   "codemirror_mode": {
    "name": "ipython",
    "version": 2
   },
   "file_extension": ".py",
   "mimetype": "text/x-python",
   "name": "python",
   "nbconvert_exporter": "python",
   "pygments_lexer": "ipython2",
   "version": "2.7.12"
  },
  "latex_envs": {
   "bibliofile": "biblio.bib",
   "cite_by": "apalike",
   "current_citInitial": 1,
   "eqLabelWithNumbers": true,
   "eqNumInitial": 0
  }
 },
 "nbformat": 4,
 "nbformat_minor": 0
}
